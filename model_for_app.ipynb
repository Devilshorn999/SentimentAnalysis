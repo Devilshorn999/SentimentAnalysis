{
 "cells": [
  {
   "cell_type": "code",
   "execution_count": 113,
   "id": "b7d80e8b-f0b1-4bd0-b510-4b70171f1580",
   "metadata": {},
   "outputs": [],
   "source": [
    "import pandas as pd\n",
    "import numpy as np\n",
    "import seaborn as sns\n",
    "import matplotlib.pyplot as plt\n",
    "import neattext.functions as nfx\n",
    "\n",
    "from sklearn.linear_model import LogisticRegression\n",
    "from sklearn.ensemble import RandomForestClassifier\n",
    "from sklearn.svm import SVC\n",
    "from sklearn.preprocessing import StandardScaler,LabelEncoder\n",
    "from xgboost import XGBClassifier\n",
    "\n",
    "from sklearn.feature_extraction.text import CountVectorizer,TfidfVectorizer\n",
    "from sklearn.model_selection import train_test_split\n",
    "from sklearn.pipeline import Pipeline\n",
    "\n",
    "import MyMLFunctions as mmf\n",
    "import re\n",
    "\n",
    "import warnings\n",
    "warnings.filterwarnings('ignore')"
   ]
  },
  {
   "cell_type": "code",
   "execution_count": 28,
   "id": "c82eef61-778d-415b-8d0a-0e9eabea8357",
   "metadata": {},
   "outputs": [],
   "source": [
    "encode_steps = {}"
   ]
  },
  {
   "cell_type": "code",
   "execution_count": 29,
   "id": "a9183b3f-779b-47ba-8a21-1a1c31d013ae",
   "metadata": {},
   "outputs": [
    {
     "data": {
      "text/html": [
       "<div>\n",
       "<style scoped>\n",
       "    .dataframe tbody tr th:only-of-type {\n",
       "        vertical-align: middle;\n",
       "    }\n",
       "\n",
       "    .dataframe tbody tr th {\n",
       "        vertical-align: top;\n",
       "    }\n",
       "\n",
       "    .dataframe thead th {\n",
       "        text-align: right;\n",
       "    }\n",
       "</style>\n",
       "<table border=\"1\" class=\"dataframe\">\n",
       "  <thead>\n",
       "    <tr style=\"text-align: right;\">\n",
       "      <th></th>\n",
       "      <th>Emotion</th>\n",
       "      <th>Text</th>\n",
       "    </tr>\n",
       "  </thead>\n",
       "  <tbody>\n",
       "    <tr>\n",
       "      <th>0</th>\n",
       "      <td>neutral</td>\n",
       "      <td>Why ?</td>\n",
       "    </tr>\n",
       "    <tr>\n",
       "      <th>1</th>\n",
       "      <td>joy</td>\n",
       "      <td>Sage Act upgrade on my to do list for tommorow.</td>\n",
       "    </tr>\n",
       "    <tr>\n",
       "      <th>2</th>\n",
       "      <td>sadness</td>\n",
       "      <td>ON THE WAY TO MY HOMEGIRL BABY FUNERAL!!! MAN ...</td>\n",
       "    </tr>\n",
       "    <tr>\n",
       "      <th>3</th>\n",
       "      <td>joy</td>\n",
       "      <td>Such an eye ! The true hazel eye-and so brill...</td>\n",
       "    </tr>\n",
       "    <tr>\n",
       "      <th>4</th>\n",
       "      <td>joy</td>\n",
       "      <td>@Iluvmiasantos ugh babe.. hugggzzz for u .!  b...</td>\n",
       "    </tr>\n",
       "  </tbody>\n",
       "</table>\n",
       "</div>"
      ],
      "text/plain": [
       "   Emotion                                               Text\n",
       "0  neutral                                             Why ? \n",
       "1      joy    Sage Act upgrade on my to do list for tommorow.\n",
       "2  sadness  ON THE WAY TO MY HOMEGIRL BABY FUNERAL!!! MAN ...\n",
       "3      joy   Such an eye ! The true hazel eye-and so brill...\n",
       "4      joy  @Iluvmiasantos ugh babe.. hugggzzz for u .!  b..."
      ]
     },
     "execution_count": 29,
     "metadata": {},
     "output_type": "execute_result"
    }
   ],
   "source": [
    "df = pd.read_csv('emotion_dataset_raw.csv')\n",
    "df.head()"
   ]
  },
  {
   "cell_type": "code",
   "execution_count": 30,
   "id": "55ab2956-ea2f-45f1-9617-aea68b80a0fb",
   "metadata": {},
   "outputs": [
    {
     "name": "stdout",
     "output_type": "stream",
     "text": [
      "<class 'pandas.core.frame.DataFrame'>\n",
      "RangeIndex: 34792 entries, 0 to 34791\n",
      "Data columns (total 2 columns):\n",
      " #   Column   Non-Null Count  Dtype \n",
      "---  ------   --------------  ----- \n",
      " 0   Emotion  34792 non-null  object\n",
      " 1   Text     34792 non-null  object\n",
      "dtypes: object(2)\n",
      "memory usage: 543.8+ KB\n"
     ]
    }
   ],
   "source": [
    "df.info()"
   ]
  },
  {
   "cell_type": "code",
   "execution_count": 31,
   "id": "47d6a8d9-e4ac-454a-bb9f-d7c1ff6f3626",
   "metadata": {},
   "outputs": [
    {
     "data": {
      "text/plain": [
       "joy         11045\n",
       "sadness      6722\n",
       "fear         5410\n",
       "anger        4297\n",
       "surprise     4062\n",
       "neutral      2254\n",
       "disgust       856\n",
       "shame         146\n",
       "Name: Emotion, dtype: int64"
      ]
     },
     "execution_count": 31,
     "metadata": {},
     "output_type": "execute_result"
    }
   ],
   "source": [
    "df.Emotion.value_counts()"
   ]
  },
  {
   "cell_type": "code",
   "execution_count": 32,
   "id": "0ce81380-8c51-4785-9ae8-b854c98317eb",
   "metadata": {},
   "outputs": [
    {
     "data": {
      "image/png": "[encoded data removed]",
      "text/plain": [
       "<Figure size 720x504 with 1 Axes>"
      ]
     },
     "metadata": {
      "needs_background": "light"
     },
     "output_type": "display_data"
    }
   ],
   "source": [
    "plt.figure(figsize=(10,7))\n",
    "sns.countplot(df.Emotion)\n",
    "plt.show()"
   ]
  },
  {
   "cell_type": "code",
   "execution_count": 33,
   "id": "9912f8c2-67e4-461b-8eb4-a5b40b4ecce3",
   "metadata": {},
   "outputs": [
    {
     "data": {
      "text/plain": [
       "['BTC_ADDRESS_REGEX',\n",
       " 'CURRENCY_REGEX',\n",
       " 'CURRENCY_SYMB_REGEX',\n",
       " 'Counter',\n",
       " 'DATE_REGEX',\n",
       " 'EMAIL_REGEX',\n",
       " 'EMOJI_REGEX',\n",
       " 'HASTAG_REGEX',\n",
       " 'MASTERCard_REGEX',\n",
       " 'MD5_SHA_REGEX',\n",
       " 'MOST_COMMON_PUNCT_REGEX',\n",
       " 'NUMBERS_REGEX',\n",
       " 'PHONE_REGEX',\n",
       " 'PoBOX_REGEX',\n",
       " 'SPECIAL_CHARACTERS_REGEX',\n",
       " 'STOPWORDS',\n",
       " 'STOPWORDS_de',\n",
       " 'STOPWORDS_en',\n",
       " 'STOPWORDS_es',\n",
       " 'STOPWORDS_fr',\n",
       " 'STOPWORDS_ru',\n",
       " 'STOPWORDS_yo',\n",
       " 'STREET_ADDRESS_REGEX',\n",
       " 'TextFrame',\n",
       " 'URL_PATTERN',\n",
       " 'USER_HANDLES_REGEX',\n",
       " 'VISACard_REGEX',\n",
       " '__builtins__',\n",
       " '__cached__',\n",
       " '__doc__',\n",
       " '__file__',\n",
       " '__generate_text',\n",
       " '__loader__',\n",
       " '__name__',\n",
       " '__numbers_dict',\n",
       " '__package__',\n",
       " '__spec__',\n",
       " '_lex_richness_herdan',\n",
       " '_lex_richness_maas_ttr',\n",
       " 'clean_text',\n",
       " 'defaultdict',\n",
       " 'digit2words',\n",
       " 'extract_btc_address',\n",
       " 'extract_currencies',\n",
       " 'extract_currency_symbols',\n",
       " 'extract_dates',\n",
       " 'extract_emails',\n",
       " 'extract_emojis',\n",
       " 'extract_hashtags',\n",
       " 'extract_html_tags',\n",
       " 'extract_mastercard_addr',\n",
       " 'extract_md5sha',\n",
       " 'extract_numbers',\n",
       " 'extract_pattern',\n",
       " 'extract_phone_numbers',\n",
       " 'extract_postoffice_box',\n",
       " 'extract_shortwords',\n",
       " 'extract_special_characters',\n",
       " 'extract_stopwords',\n",
       " 'extract_street_address',\n",
       " 'extract_terms_in_bracket',\n",
       " 'extract_urls',\n",
       " 'extract_userhandles',\n",
       " 'extract_visacard_addr',\n",
       " 'fix_contractions',\n",
       " 'generate_sentence',\n",
       " 'hamming_distance',\n",
       " 'inverse_df',\n",
       " 'lexical_richness',\n",
       " 'markov_chain',\n",
       " 'math',\n",
       " 'nlargest',\n",
       " 'normalize',\n",
       " 'num2words',\n",
       " 'random',\n",
       " 're',\n",
       " 'read_txt',\n",
       " 'remove_bad_quotes',\n",
       " 'remove_btc_address',\n",
       " 'remove_currencies',\n",
       " 'remove_currency_symbols',\n",
       " 'remove_custom_pattern',\n",
       " 'remove_custom_words',\n",
       " 'remove_dates',\n",
       " 'remove_emails',\n",
       " 'remove_emojis',\n",
       " 'remove_hashtags',\n",
       " 'remove_html_tags',\n",
       " 'remove_mastercard_addr',\n",
       " 'remove_md5sha',\n",
       " 'remove_multiple_spaces',\n",
       " 'remove_non_ascii',\n",
       " 'remove_numbers',\n",
       " 'remove_phone_numbers',\n",
       " 'remove_postoffice_box',\n",
       " 'remove_puncts',\n",
       " 'remove_punctuations',\n",
       " 'remove_shortwords',\n",
       " 'remove_special_characters',\n",
       " 'remove_stopwords',\n",
       " 'remove_street_address',\n",
       " 'remove_terms_in_bracket',\n",
       " 'remove_urls',\n",
       " 'remove_userhandles',\n",
       " 'remove_visacard_addr',\n",
       " 'replace_bad_quotes',\n",
       " 'replace_currencies',\n",
       " 'replace_currency_symbols',\n",
       " 'replace_dates',\n",
       " 'replace_emails',\n",
       " 'replace_emojis',\n",
       " 'replace_numbers',\n",
       " 'replace_phone_numbers',\n",
       " 'replace_special_characters',\n",
       " 'replace_term',\n",
       " 'replace_urls',\n",
       " 'string',\n",
       " 'term_freq',\n",
       " 'to_txt',\n",
       " 'word_freq',\n",
       " 'word_length_freq']"
      ]
     },
     "execution_count": 33,
     "metadata": {},
     "output_type": "execute_result"
    }
   ],
   "source": [
    "dir(nfx)"
   ]
  },
  {
   "cell_type": "code",
   "execution_count": 34,
   "id": "c76b0522-800e-473b-9ad4-f5463476adf1",
   "metadata": {},
   "outputs": [],
   "source": [
    "def size_(x):\n",
    "    return len(x)\n",
    "df['sizes'] = df.Text.apply(size_)"
   ]
  },
  {
   "cell_type": "code",
   "execution_count": 35,
   "id": "298cd9cc-e5b6-439d-86a6-4f15ed50c61a",
   "metadata": {},
   "outputs": [
    {
     "data": {
      "text/plain": [
       "\" Such an eye ! The true hazel eye-and so brilliant ! Regular features , open countenance , with a complexion , Oh ! What a bloom of full health , and such a pretty height and size ; such a firm and upright figure ! There is health , not merely in her bloom , but in her air , her head , her glance . One hears sometimes of a child being ' the picture of health ' ; now , she always gives me the idea of being the complete picture of grown-up health . She is loveliness itself . \""
      ]
     },
     "execution_count": 35,
     "metadata": {},
     "output_type": "execute_result"
    }
   ],
   "source": [
    "df.Text[3]"
   ]
  },
  {
   "cell_type": "code",
   "execution_count": 36,
   "id": "04dfa4a9-4bc8-41b7-928b-4b448f1cac5f",
   "metadata": {},
   "outputs": [
    {
     "data": {
      "text/plain": [
       "\"eye ! true hazel eye-and brilliant ! Regular features , open countenance , complexion , Oh ! bloom health , pretty height size ; firm upright figure ! health , merely bloom , air , head , glance . hears child ' picture health ' ; , gives idea complete picture grown-up health . loveliness .\""
      ]
     },
     "execution_count": 36,
     "metadata": {},
     "output_type": "execute_result"
    }
   ],
   "source": [
    "nfx.remove_stopwords(df.Text[3])"
   ]
  },
  {
   "cell_type": "code",
   "execution_count": 37,
   "id": "e69aa214-c990-4005-b3fd-5fdf724ddf40",
   "metadata": {},
   "outputs": [
    {
     "data": {
      "text/plain": [
       "\"@Iluvmiasantos ugh babe.. hugggzzz for u .!  babe naamazed nga ako e babe e, despite nega's mas pinaramdam at fil ko ang \""
      ]
     },
     "execution_count": 37,
     "metadata": {},
     "output_type": "execute_result"
    }
   ],
   "source": [
    "df.Text[4]"
   ]
  },
  {
   "cell_type": "code",
   "execution_count": 38,
   "id": "c762daae-c7f8-447c-a0bc-ceb6a8be99e6",
   "metadata": {},
   "outputs": [
    {
     "data": {
      "text/plain": [
       "\"  ugh babe.. hugggzzz for u .!  babe naamazed nga ako e babe e, despite nega's mas pinaramdam at fil ko ang \""
      ]
     },
     "execution_count": 38,
     "metadata": {},
     "output_type": "execute_result"
    }
   ],
   "source": [
    "nfx.remove_userhandles(df.Text[4])"
   ]
  },
  {
   "cell_type": "code",
   "execution_count": 39,
   "id": "43867e38-df4c-4162-b78a-bf48a7b18738",
   "metadata": {},
   "outputs": [
    {
     "data": {
      "text/plain": [
       "\"eye ! true hazel eye-and brilliant ! regular features , open countenance , complexion , oh ! bloom health , pretty height size ; firm upright figure ! health , merely bloom , air , head , glance . hears child ' picture health ' ; , gives idea complete picture grown-up health . loveliness .\""
      ]
     },
     "execution_count": 39,
     "metadata": {},
     "output_type": "execute_result"
    }
   ],
   "source": [
    "nfx.clean_text(df.Text[3])"
   ]
  },
  {
   "cell_type": "code",
   "execution_count": 40,
   "id": "e662c3a9-9ce2-4d01-a7ad-5de19936e644",
   "metadata": {},
   "outputs": [
    {
     "data": {
      "text/plain": [
       "\u001b[1;31mSignature:\u001b[0m\n",
       "\u001b[0mmmf\u001b[0m\u001b[1;33m.\u001b[0m\u001b[0mtext_cleantext\u001b[0m\u001b[1;33m(\u001b[0m\u001b[1;33m\n",
       "\u001b[0m    \u001b[0mtext\u001b[0m\u001b[1;33m,\u001b[0m\u001b[1;33m\n",
       "\u001b[0m    \u001b[0mstopwords\u001b[0m\u001b[1;33m=\u001b[0m\u001b[1;33m[\u001b[0m\u001b[1;34m'i'\u001b[0m\u001b[1;33m,\u001b[0m \u001b[1;34m'me'\u001b[0m\u001b[1;33m,\u001b[0m \u001b[1;34m'my'\u001b[0m\u001b[1;33m,\u001b[0m \u001b[1;34m'myself'\u001b[0m\u001b[1;33m,\u001b[0m \u001b[1;34m'we'\u001b[0m\u001b[1;33m,\u001b[0m \u001b[1;34m'our'\u001b[0m\u001b[1;33m,\u001b[0m \u001b[1;34m'ours'\u001b[0m\u001b[1;33m,\u001b[0m \u001b[1;34m'ourselves'\u001b[0m\u001b[1;33m,\u001b[0m \u001b[1;34m'you'\u001b[0m\u001b[1;33m,\u001b[0m \u001b[1;34m\"you're\"\u001b[0m\u001b[1;33m,\u001b[0m \u001b[1;34m\"you've\"\u001b[0m\u001b[1;33m,\u001b[0m \u001b[1;34m\"you'll\"\u001b[0m\u001b[1;33m,\u001b[0m \u001b[1;34m\"you'd\"\u001b[0m\u001b[1;33m,\u001b[0m \u001b[1;34m'your'\u001b[0m\u001b[1;33m,\u001b[0m \u001b[1;34m'yours'\u001b[0m\u001b[1;33m,\u001b[0m \u001b[1;34m'yourself'\u001b[0m\u001b[1;33m,\u001b[0m \u001b[1;34m'yourselves'\u001b[0m\u001b[1;33m,\u001b[0m \u001b[1;34m'he'\u001b[0m\u001b[1;33m,\u001b[0m \u001b[1;34m'him'\u001b[0m\u001b[1;33m,\u001b[0m \u001b[1;34m'his'\u001b[0m\u001b[1;33m,\u001b[0m \u001b[1;34m'himself'\u001b[0m\u001b[1;33m,\u001b[0m \u001b[1;34m'she'\u001b[0m\u001b[1;33m,\u001b[0m \u001b[1;34m\"she's\"\u001b[0m\u001b[1;33m,\u001b[0m \u001b[1;34m'her'\u001b[0m\u001b[1;33m,\u001b[0m \u001b[1;34m'hers'\u001b[0m\u001b[1;33m,\u001b[0m \u001b[1;34m'herself'\u001b[0m\u001b[1;33m,\u001b[0m \u001b[1;34m'it'\u001b[0m\u001b[1;33m,\u001b[0m \u001b[1;34m\"it's\"\u001b[0m\u001b[1;33m,\u001b[0m \u001b[1;34m'its'\u001b[0m\u001b[1;33m,\u001b[0m \u001b[1;34m'itself'\u001b[0m\u001b[1;33m,\u001b[0m \u001b[1;34m'they'\u001b[0m\u001b[1;33m,\u001b[0m \u001b[1;34m'them'\u001b[0m\u001b[1;33m,\u001b[0m \u001b[1;34m'their'\u001b[0m\u001b[1;33m,\u001b[0m \u001b[1;34m'theirs'\u001b[0m\u001b[1;33m,\u001b[0m \u001b[1;34m'themselves'\u001b[0m\u001b[1;33m,\u001b[0m \u001b[1;34m'what'\u001b[0m\u001b[1;33m,\u001b[0m \u001b[1;34m'which'\u001b[0m\u001b[1;33m,\u001b[0m \u001b[1;34m'who'\u001b[0m\u001b[1;33m,\u001b[0m \u001b[1;34m'whom'\u001b[0m\u001b[1;33m,\u001b[0m \u001b[1;34m'this'\u001b[0m\u001b[1;33m,\u001b[0m \u001b[1;34m'that'\u001b[0m\u001b[1;33m,\u001b[0m \u001b[1;34m\"that'll\"\u001b[0m\u001b[1;33m,\u001b[0m \u001b[1;34m'these'\u001b[0m\u001b[1;33m,\u001b[0m \u001b[1;34m'those'\u001b[0m\u001b[1;33m,\u001b[0m \u001b[1;34m'am'\u001b[0m\u001b[1;33m,\u001b[0m \u001b[1;34m'is'\u001b[0m\u001b[1;33m,\u001b[0m \u001b[1;34m'are'\u001b[0m\u001b[1;33m,\u001b[0m \u001b[1;34m'was'\u001b[0m\u001b[1;33m,\u001b[0m \u001b[1;34m'were'\u001b[0m\u001b[1;33m,\u001b[0m \u001b[1;34m'be'\u001b[0m\u001b[1;33m,\u001b[0m \u001b[1;34m'been'\u001b[0m\u001b[1;33m,\u001b[0m \u001b[1;34m'being'\u001b[0m\u001b[1;33m,\u001b[0m \u001b[1;34m'have'\u001b[0m\u001b[1;33m,\u001b[0m \u001b[1;34m'has'\u001b[0m\u001b[1;33m,\u001b[0m \u001b[1;34m'had'\u001b[0m\u001b[1;33m,\u001b[0m \u001b[1;34m'having'\u001b[0m\u001b[1;33m,\u001b[0m \u001b[1;34m'do'\u001b[0m\u001b[1;33m,\u001b[0m \u001b[1;34m'does'\u001b[0m\u001b[1;33m,\u001b[0m \u001b[1;34m'did'\u001b[0m\u001b[1;33m,\u001b[0m \u001b[1;34m'doing'\u001b[0m\u001b[1;33m,\u001b[0m \u001b[1;34m'a'\u001b[0m\u001b[1;33m,\u001b[0m \u001b[1;34m'an'\u001b[0m\u001b[1;33m,\u001b[0m \u001b[1;34m'the'\u001b[0m\u001b[1;33m,\u001b[0m \u001b[1;34m'and'\u001b[0m\u001b[1;33m,\u001b[0m \u001b[1;34m'but'\u001b[0m\u001b[1;33m,\u001b[0m \u001b[1;34m'if'\u001b[0m\u001b[1;33m,\u001b[0m \u001b[1;34m'or'\u001b[0m\u001b[1;33m,\u001b[0m \u001b[1;34m'because'\u001b[0m\u001b[1;33m,\u001b[0m \u001b[1;34m'as'\u001b[0m\u001b[1;33m,\u001b[0m \u001b[1;34m'until'\u001b[0m\u001b[1;33m,\u001b[0m \u001b[1;34m'while'\u001b[0m\u001b[1;33m,\u001b[0m \u001b[1;34m'of'\u001b[0m\u001b[1;33m,\u001b[0m \u001b[1;34m'at'\u001b[0m\u001b[1;33m,\u001b[0m \u001b[1;34m'by'\u001b[0m\u001b[1;33m,\u001b[0m \u001b[1;34m'for'\u001b[0m\u001b[1;33m,\u001b[0m \u001b[1;34m'with'\u001b[0m\u001b[1;33m,\u001b[0m \u001b[1;34m'about'\u001b[0m\u001b[1;33m,\u001b[0m \u001b[1;34m'against'\u001b[0m\u001b[1;33m,\u001b[0m \u001b[1;34m'between'\u001b[0m\u001b[1;33m,\u001b[0m \u001b[1;34m'into'\u001b[0m\u001b[1;33m,\u001b[0m \u001b[1;34m'through'\u001b[0m\u001b[1;33m,\u001b[0m \u001b[1;34m'during'\u001b[0m\u001b[1;33m,\u001b[0m \u001b[1;34m'before'\u001b[0m\u001b[1;33m,\u001b[0m \u001b[1;34m'after'\u001b[0m\u001b[1;33m,\u001b[0m \u001b[1;34m'above'\u001b[0m\u001b[1;33m,\u001b[0m \u001b[1;34m'below'\u001b[0m\u001b[1;33m,\u001b[0m \u001b[1;34m'to'\u001b[0m\u001b[1;33m,\u001b[0m \u001b[1;34m'from'\u001b[0m\u001b[1;33m,\u001b[0m \u001b[1;34m'up'\u001b[0m\u001b[1;33m,\u001b[0m \u001b[1;34m'down'\u001b[0m\u001b[1;33m,\u001b[0m \u001b[1;34m'in'\u001b[0m\u001b[1;33m,\u001b[0m \u001b[1;34m'out'\u001b[0m\u001b[1;33m,\u001b[0m \u001b[1;34m'on'\u001b[0m\u001b[1;33m,\u001b[0m \u001b[1;34m'off'\u001b[0m\u001b[1;33m,\u001b[0m \u001b[1;34m'over'\u001b[0m\u001b[1;33m,\u001b[0m \u001b[1;34m'under'\u001b[0m\u001b[1;33m,\u001b[0m \u001b[1;34m'again'\u001b[0m\u001b[1;33m,\u001b[0m \u001b[1;34m'further'\u001b[0m\u001b[1;33m,\u001b[0m \u001b[1;34m'then'\u001b[0m\u001b[1;33m,\u001b[0m \u001b[1;34m'once'\u001b[0m\u001b[1;33m,\u001b[0m \u001b[1;34m'here'\u001b[0m\u001b[1;33m,\u001b[0m \u001b[1;34m'there'\u001b[0m\u001b[1;33m,\u001b[0m \u001b[1;34m'when'\u001b[0m\u001b[1;33m,\u001b[0m \u001b[1;34m'where'\u001b[0m\u001b[1;33m,\u001b[0m \u001b[1;34m'why'\u001b[0m\u001b[1;33m,\u001b[0m \u001b[1;34m'how'\u001b[0m\u001b[1;33m,\u001b[0m \u001b[1;34m'all'\u001b[0m\u001b[1;33m,\u001b[0m \u001b[1;34m'any'\u001b[0m\u001b[1;33m,\u001b[0m \u001b[1;34m'both'\u001b[0m\u001b[1;33m,\u001b[0m \u001b[1;34m'each'\u001b[0m\u001b[1;33m,\u001b[0m \u001b[1;34m'few'\u001b[0m\u001b[1;33m,\u001b[0m \u001b[1;34m'more'\u001b[0m\u001b[1;33m,\u001b[0m \u001b[1;34m'most'\u001b[0m\u001b[1;33m,\u001b[0m \u001b[1;34m'other'\u001b[0m\u001b[1;33m,\u001b[0m \u001b[1;34m'some'\u001b[0m\u001b[1;33m,\u001b[0m \u001b[1;34m'such'\u001b[0m\u001b[1;33m,\u001b[0m \u001b[1;34m'no'\u001b[0m\u001b[1;33m,\u001b[0m \u001b[1;34m'nor'\u001b[0m\u001b[1;33m,\u001b[0m \u001b[1;34m'not'\u001b[0m\u001b[1;33m,\u001b[0m \u001b[1;34m'only'\u001b[0m\u001b[1;33m,\u001b[0m \u001b[1;34m'own'\u001b[0m\u001b[1;33m,\u001b[0m \u001b[1;34m'same'\u001b[0m\u001b[1;33m,\u001b[0m \u001b[1;34m'so'\u001b[0m\u001b[1;33m,\u001b[0m \u001b[1;34m'than'\u001b[0m\u001b[1;33m,\u001b[0m \u001b[1;34m'too'\u001b[0m\u001b[1;33m,\u001b[0m \u001b[1;34m'very'\u001b[0m\u001b[1;33m,\u001b[0m \u001b[1;34m's'\u001b[0m\u001b[1;33m,\u001b[0m \u001b[1;34m't'\u001b[0m\u001b[1;33m,\u001b[0m \u001b[1;34m'can'\u001b[0m\u001b[1;33m,\u001b[0m \u001b[1;34m'will'\u001b[0m\u001b[1;33m,\u001b[0m \u001b[1;34m'just'\u001b[0m\u001b[1;33m,\u001b[0m \u001b[1;34m'don'\u001b[0m\u001b[1;33m,\u001b[0m \u001b[1;34m\"don't\"\u001b[0m\u001b[1;33m,\u001b[0m \u001b[1;34m'should'\u001b[0m\u001b[1;33m,\u001b[0m \u001b[1;34m\"should've\"\u001b[0m\u001b[1;33m,\u001b[0m \u001b[1;34m'now'\u001b[0m\u001b[1;33m,\u001b[0m \u001b[1;34m'd'\u001b[0m\u001b[1;33m,\u001b[0m \u001b[1;34m'll'\u001b[0m\u001b[1;33m,\u001b[0m \u001b[1;34m'm'\u001b[0m\u001b[1;33m,\u001b[0m \u001b[1;34m'o'\u001b[0m\u001b[1;33m,\u001b[0m \u001b[1;34m're'\u001b[0m\u001b[1;33m,\u001b[0m \u001b[1;34m've'\u001b[0m\u001b[1;33m,\u001b[0m \u001b[1;34m'y'\u001b[0m\u001b[1;33m,\u001b[0m \u001b[1;34m'ain'\u001b[0m\u001b[1;33m,\u001b[0m \u001b[1;34m'aren'\u001b[0m\u001b[1;33m,\u001b[0m \u001b[1;34m\"aren't\"\u001b[0m\u001b[1;33m,\u001b[0m \u001b[1;34m'couldn'\u001b[0m\u001b[1;33m,\u001b[0m \u001b[1;34m\"couldn't\"\u001b[0m\u001b[1;33m,\u001b[0m \u001b[1;34m'didn'\u001b[0m\u001b[1;33m,\u001b[0m \u001b[1;34m\"didn't\"\u001b[0m\u001b[1;33m,\u001b[0m \u001b[1;34m'doesn'\u001b[0m\u001b[1;33m,\u001b[0m \u001b[1;34m\"doesn't\"\u001b[0m\u001b[1;33m,\u001b[0m \u001b[1;34m'hadn'\u001b[0m\u001b[1;33m,\u001b[0m \u001b[1;34m\"hadn't\"\u001b[0m\u001b[1;33m,\u001b[0m \u001b[1;34m'hasn'\u001b[0m\u001b[1;33m,\u001b[0m \u001b[1;34m\"hasn't\"\u001b[0m\u001b[1;33m,\u001b[0m \u001b[1;34m'haven'\u001b[0m\u001b[1;33m,\u001b[0m \u001b[1;34m\"haven't\"\u001b[0m\u001b[1;33m,\u001b[0m \u001b[1;34m'isn'\u001b[0m\u001b[1;33m,\u001b[0m \u001b[1;34m\"isn't\"\u001b[0m\u001b[1;33m,\u001b[0m \u001b[1;34m'ma'\u001b[0m\u001b[1;33m,\u001b[0m \u001b[1;34m'mightn'\u001b[0m\u001b[1;33m,\u001b[0m \u001b[1;34m\"mightn't\"\u001b[0m\u001b[1;33m,\u001b[0m \u001b[1;34m'mustn'\u001b[0m\u001b[1;33m,\u001b[0m \u001b[1;34m\"mustn't\"\u001b[0m\u001b[1;33m,\u001b[0m \u001b[1;34m'needn'\u001b[0m\u001b[1;33m,\u001b[0m \u001b[1;34m\"needn't\"\u001b[0m\u001b[1;33m,\u001b[0m \u001b[1;34m'shan'\u001b[0m\u001b[1;33m,\u001b[0m \u001b[1;34m\"shan't\"\u001b[0m\u001b[1;33m,\u001b[0m \u001b[1;34m'shouldn'\u001b[0m\u001b[1;33m,\u001b[0m \u001b[1;34m\"shouldn't\"\u001b[0m\u001b[1;33m,\u001b[0m \u001b[1;34m'wasn'\u001b[0m\u001b[1;33m,\u001b[0m \u001b[1;34m\"wasn't\"\u001b[0m\u001b[1;33m,\u001b[0m \u001b[1;34m'weren'\u001b[0m\u001b[1;33m,\u001b[0m \u001b[1;34m\"weren't\"\u001b[0m\u001b[1;33m,\u001b[0m \u001b[1;34m'won'\u001b[0m\u001b[1;33m,\u001b[0m \u001b[1;34m\"won't\"\u001b[0m\u001b[1;33m,\u001b[0m \u001b[1;34m'wouldn'\u001b[0m\u001b[1;33m,\u001b[0m \u001b[1;34m\"wouldn't\"\u001b[0m\u001b[1;33m]\u001b[0m\u001b[1;33m,\u001b[0m\u001b[1;33m\n",
       "\u001b[0m\u001b[1;33m)\u001b[0m\u001b[1;33m\u001b[0m\u001b[1;33m\u001b[0m\u001b[0m\n",
       "\u001b[1;31mDocstring:\u001b[0m <no docstring>\n",
       "\u001b[1;31mSource:\u001b[0m   \n",
       "\u001b[1;32mdef\u001b[0m \u001b[0mtext_cleantext\u001b[0m\u001b[1;33m(\u001b[0m\u001b[0mtext\u001b[0m\u001b[1;33m,\u001b[0m \u001b[0mstopwords\u001b[0m\u001b[1;33m=\u001b[0m\u001b[0mstopwords\u001b[0m\u001b[1;33m.\u001b[0m\u001b[0mwords\u001b[0m\u001b[1;33m(\u001b[0m\u001b[1;34m'english'\u001b[0m\u001b[1;33m)\u001b[0m\u001b[1;33m)\u001b[0m\u001b[1;33m:\u001b[0m\u001b[1;33m\n",
       "\u001b[0m    \u001b[0mtoken\u001b[0m \u001b[1;33m=\u001b[0m \u001b[0mword_tokenize\u001b[0m\u001b[1;33m(\u001b[0m\u001b[0mtext\u001b[0m\u001b[1;33m.\u001b[0m\u001b[0mlower\u001b[0m\u001b[1;33m(\u001b[0m\u001b[1;33m)\u001b[0m\u001b[1;33m)\u001b[0m\u001b[1;33m\n",
       "\u001b[0m    \u001b[0mword_token\u001b[0m \u001b[1;33m=\u001b[0m \u001b[1;33m[\u001b[0m\u001b[0mt\u001b[0m \u001b[1;32mfor\u001b[0m \u001b[0mt\u001b[0m \u001b[1;32min\u001b[0m \u001b[0mtoken\u001b[0m \u001b[1;32mif\u001b[0m \u001b[0mt\u001b[0m\u001b[1;33m.\u001b[0m\u001b[0misalpha\u001b[0m\u001b[1;33m(\u001b[0m\u001b[1;33m)\u001b[0m\u001b[1;33m]\u001b[0m\u001b[1;33m\n",
       "\u001b[0m    \u001b[0mclean_token\u001b[0m \u001b[1;33m=\u001b[0m \u001b[1;33m[\u001b[0m\u001b[0mt\u001b[0m \u001b[1;32mfor\u001b[0m \u001b[0mt\u001b[0m \u001b[1;32min\u001b[0m \u001b[0mword_token\u001b[0m \u001b[1;32mif\u001b[0m \u001b[0mt\u001b[0m \u001b[1;32mnot\u001b[0m \u001b[1;32min\u001b[0m \u001b[0mstopwords\u001b[0m\u001b[1;33m]\u001b[0m\u001b[1;33m\n",
       "\u001b[0m    \u001b[0mlemma_token\u001b[0m \u001b[1;33m=\u001b[0m \u001b[1;33m[\u001b[0m\u001b[0mle\u001b[0m\u001b[1;33m.\u001b[0m\u001b[0mlemmatize\u001b[0m\u001b[1;33m(\u001b[0m\u001b[0mt\u001b[0m\u001b[1;33m)\u001b[0m \u001b[1;32mfor\u001b[0m \u001b[0mt\u001b[0m \u001b[1;32min\u001b[0m \u001b[0mclean_token\u001b[0m\u001b[1;33m]\u001b[0m\u001b[1;33m\n",
       "\u001b[0m    \u001b[1;32mreturn\u001b[0m \u001b[1;34m' '\u001b[0m\u001b[1;33m.\u001b[0m\u001b[0mjoin\u001b[0m\u001b[1;33m(\u001b[0m\u001b[0mlemma_token\u001b[0m\u001b[1;33m)\u001b[0m\u001b[1;33m\u001b[0m\u001b[1;33m\u001b[0m\u001b[0m\n",
       "\u001b[1;31mFile:\u001b[0m      c:\\users\\inder\\desktop\\projects\\project - sentiment analysis\\mymlfunctions.py\n",
       "\u001b[1;31mType:\u001b[0m      function\n"
      ]
     },
     "metadata": {},
     "output_type": "display_data"
    }
   ],
   "source": [
    "mmf.text_cleantext??"
   ]
  },
  {
   "cell_type": "code",
   "execution_count": 41,
   "id": "f5221ada-f469-41a5-aaff-05e1b47c140d",
   "metadata": {},
   "outputs": [
    {
     "data": {
      "text/html": [
       "<div>\n",
       "<style scoped>\n",
       "    .dataframe tbody tr th:only-of-type {\n",
       "        vertical-align: middle;\n",
       "    }\n",
       "\n",
       "    .dataframe tbody tr th {\n",
       "        vertical-align: top;\n",
       "    }\n",
       "\n",
       "    .dataframe thead th {\n",
       "        text-align: right;\n",
       "    }\n",
       "</style>\n",
       "<table border=\"1\" class=\"dataframe\">\n",
       "  <thead>\n",
       "    <tr style=\"text-align: right;\">\n",
       "      <th></th>\n",
       "      <th>Emotion</th>\n",
       "      <th>Text</th>\n",
       "      <th>sizes</th>\n",
       "      <th>clean</th>\n",
       "    </tr>\n",
       "  </thead>\n",
       "  <tbody>\n",
       "    <tr>\n",
       "      <th>0</th>\n",
       "      <td>neutral</td>\n",
       "      <td>Why ?</td>\n",
       "      <td>7</td>\n",
       "      <td></td>\n",
       "    </tr>\n",
       "    <tr>\n",
       "      <th>1</th>\n",
       "      <td>joy</td>\n",
       "      <td>Sage Act upgrade on my to do list for tommorow.</td>\n",
       "      <td>47</td>\n",
       "      <td>sage act upgrade list tommorow</td>\n",
       "    </tr>\n",
       "    <tr>\n",
       "      <th>2</th>\n",
       "      <td>sadness</td>\n",
       "      <td>ON THE WAY TO MY HOMEGIRL BABY FUNERAL!!! MAN ...</td>\n",
       "      <td>100</td>\n",
       "      <td>way homegirl baby funeral man hate funeral rea...</td>\n",
       "    </tr>\n",
       "    <tr>\n",
       "      <th>3</th>\n",
       "      <td>joy</td>\n",
       "      <td>Such an eye ! The true hazel eye-and so brill...</td>\n",
       "      <td>478</td>\n",
       "      <td>eye true hazel brilliant regular feature open ...</td>\n",
       "    </tr>\n",
       "    <tr>\n",
       "      <th>4</th>\n",
       "      <td>joy</td>\n",
       "      <td>@Iluvmiasantos ugh babe.. hugggzzz for u .!  b...</td>\n",
       "      <td>121</td>\n",
       "      <td>iluvmiasantos ugh babe hugggzzz u babe naamaze...</td>\n",
       "    </tr>\n",
       "  </tbody>\n",
       "</table>\n",
       "</div>"
      ],
      "text/plain": [
       "   Emotion                                               Text  sizes  \\\n",
       "0  neutral                                             Why ?       7   \n",
       "1      joy    Sage Act upgrade on my to do list for tommorow.     47   \n",
       "2  sadness  ON THE WAY TO MY HOMEGIRL BABY FUNERAL!!! MAN ...    100   \n",
       "3      joy   Such an eye ! The true hazel eye-and so brill...    478   \n",
       "4      joy  @Iluvmiasantos ugh babe.. hugggzzz for u .!  b...    121   \n",
       "\n",
       "                                               clean  \n",
       "0                                                     \n",
       "1                     sage act upgrade list tommorow  \n",
       "2  way homegirl baby funeral man hate funeral rea...  \n",
       "3  eye true hazel brilliant regular feature open ...  \n",
       "4  iluvmiasantos ugh babe hugggzzz u babe naamaze...  "
      ]
     },
     "execution_count": 41,
     "metadata": {},
     "output_type": "execute_result"
    }
   ],
   "source": [
    "df['clean'] = df.Text.apply(mmf.text_cleantext)\n",
    "df.head()"
   ]
  },
  {
   "cell_type": "code",
   "execution_count": 42,
   "id": "fff7c628-46ca-4e6c-acf4-da251b591f01",
   "metadata": {},
   "outputs": [],
   "source": [
    "encode_steps['clean_text'] = mmf.text_cleantext('')"
   ]
  },
  {
   "cell_type": "code",
   "execution_count": 43,
   "id": "5423457f-f138-4af0-8723-314e277db84a",
   "metadata": {},
   "outputs": [
    {
     "data": {
      "text/html": [
       "<div>\n",
       "<style scoped>\n",
       "    .dataframe tbody tr th:only-of-type {\n",
       "        vertical-align: middle;\n",
       "    }\n",
       "\n",
       "    .dataframe tbody tr th {\n",
       "        vertical-align: top;\n",
       "    }\n",
       "\n",
       "    .dataframe thead th {\n",
       "        text-align: right;\n",
       "    }\n",
       "</style>\n",
       "<table border=\"1\" class=\"dataframe\">\n",
       "  <thead>\n",
       "    <tr style=\"text-align: right;\">\n",
       "      <th></th>\n",
       "      <th>Emotion</th>\n",
       "      <th>Text</th>\n",
       "      <th>sizes</th>\n",
       "      <th>clean</th>\n",
       "      <th>clean1</th>\n",
       "    </tr>\n",
       "  </thead>\n",
       "  <tbody>\n",
       "    <tr>\n",
       "      <th>0</th>\n",
       "      <td>neutral</td>\n",
       "      <td>Why ?</td>\n",
       "      <td>7</td>\n",
       "      <td></td>\n",
       "      <td>Why ?</td>\n",
       "    </tr>\n",
       "    <tr>\n",
       "      <th>1</th>\n",
       "      <td>joy</td>\n",
       "      <td>Sage Act upgrade on my to do list for tommorow.</td>\n",
       "      <td>47</td>\n",
       "      <td>sage act upgrade list tommorow</td>\n",
       "      <td>Sage Act upgrade on my to do list for tommorow.</td>\n",
       "    </tr>\n",
       "    <tr>\n",
       "      <th>2</th>\n",
       "      <td>sadness</td>\n",
       "      <td>ON THE WAY TO MY HOMEGIRL BABY FUNERAL!!! MAN ...</td>\n",
       "      <td>100</td>\n",
       "      <td>way homegirl baby funeral man hate funeral rea...</td>\n",
       "      <td>ON THE WAY TO MY HOMEGIRL BABY FUNERAL!!! MAN ...</td>\n",
       "    </tr>\n",
       "    <tr>\n",
       "      <th>3</th>\n",
       "      <td>joy</td>\n",
       "      <td>Such an eye ! The true hazel eye-and so brill...</td>\n",
       "      <td>478</td>\n",
       "      <td>eye true hazel brilliant regular feature open ...</td>\n",
       "      <td>Such an eye ! The true hazel eye-and so brill...</td>\n",
       "    </tr>\n",
       "    <tr>\n",
       "      <th>4</th>\n",
       "      <td>joy</td>\n",
       "      <td>@Iluvmiasantos ugh babe.. hugggzzz for u .!  b...</td>\n",
       "      <td>121</td>\n",
       "      <td>iluvmiasantos ugh babe hugggzzz u babe naamaze...</td>\n",
       "      <td>ugh babe.. hugggzzz for u .!  babe naamazed ...</td>\n",
       "    </tr>\n",
       "  </tbody>\n",
       "</table>\n",
       "</div>"
      ],
      "text/plain": [
       "   Emotion                                               Text  sizes  \\\n",
       "0  neutral                                             Why ?       7   \n",
       "1      joy    Sage Act upgrade on my to do list for tommorow.     47   \n",
       "2  sadness  ON THE WAY TO MY HOMEGIRL BABY FUNERAL!!! MAN ...    100   \n",
       "3      joy   Such an eye ! The true hazel eye-and so brill...    478   \n",
       "4      joy  @Iluvmiasantos ugh babe.. hugggzzz for u .!  b...    121   \n",
       "\n",
       "                                               clean  \\\n",
       "0                                                      \n",
       "1                     sage act upgrade list tommorow   \n",
       "2  way homegirl baby funeral man hate funeral rea...   \n",
       "3  eye true hazel brilliant regular feature open ...   \n",
       "4  iluvmiasantos ugh babe hugggzzz u babe naamaze...   \n",
       "\n",
       "                                              clean1  \n",
       "0                                             Why ?   \n",
       "1    Sage Act upgrade on my to do list for tommorow.  \n",
       "2  ON THE WAY TO MY HOMEGIRL BABY FUNERAL!!! MAN ...  \n",
       "3   Such an eye ! The true hazel eye-and so brill...  \n",
       "4    ugh babe.. hugggzzz for u .!  babe naamazed ...  "
      ]
     },
     "execution_count": 43,
     "metadata": {},
     "output_type": "execute_result"
    }
   ],
   "source": [
    "df['clean1'] = df.Text.apply(nfx.remove_userhandles)\n",
    "df.head()"
   ]
  },
  {
   "cell_type": "code",
   "execution_count": 44,
   "id": "2cc02ca4-7d6f-447a-8c38-26c5a200aca9",
   "metadata": {},
   "outputs": [
    {
     "data": {
      "text/html": [
       "<div>\n",
       "<style scoped>\n",
       "    .dataframe tbody tr th:only-of-type {\n",
       "        vertical-align: middle;\n",
       "    }\n",
       "\n",
       "    .dataframe tbody tr th {\n",
       "        vertical-align: top;\n",
       "    }\n",
       "\n",
       "    .dataframe thead th {\n",
       "        text-align: right;\n",
       "    }\n",
       "</style>\n",
       "<table border=\"1\" class=\"dataframe\">\n",
       "  <thead>\n",
       "    <tr style=\"text-align: right;\">\n",
       "      <th></th>\n",
       "      <th>Emotion</th>\n",
       "      <th>Text</th>\n",
       "      <th>sizes</th>\n",
       "      <th>clean</th>\n",
       "      <th>clean1</th>\n",
       "    </tr>\n",
       "  </thead>\n",
       "  <tbody>\n",
       "    <tr>\n",
       "      <th>0</th>\n",
       "      <td>neutral</td>\n",
       "      <td>Why ?</td>\n",
       "      <td>7</td>\n",
       "      <td></td>\n",
       "      <td>?</td>\n",
       "    </tr>\n",
       "    <tr>\n",
       "      <th>1</th>\n",
       "      <td>joy</td>\n",
       "      <td>Sage Act upgrade on my to do list for tommorow.</td>\n",
       "      <td>47</td>\n",
       "      <td>sage act upgrade list tommorow</td>\n",
       "      <td>Sage Act upgrade list tommorow.</td>\n",
       "    </tr>\n",
       "    <tr>\n",
       "      <th>2</th>\n",
       "      <td>sadness</td>\n",
       "      <td>ON THE WAY TO MY HOMEGIRL BABY FUNERAL!!! MAN ...</td>\n",
       "      <td>100</td>\n",
       "      <td>way homegirl baby funeral man hate funeral rea...</td>\n",
       "      <td>WAY HOMEGIRL BABY FUNERAL!!! MAN HATE FUNERALS...</td>\n",
       "    </tr>\n",
       "    <tr>\n",
       "      <th>3</th>\n",
       "      <td>joy</td>\n",
       "      <td>Such an eye ! The true hazel eye-and so brill...</td>\n",
       "      <td>478</td>\n",
       "      <td>eye true hazel brilliant regular feature open ...</td>\n",
       "      <td>eye ! true hazel eye-and brilliant ! Regular f...</td>\n",
       "    </tr>\n",
       "    <tr>\n",
       "      <th>4</th>\n",
       "      <td>joy</td>\n",
       "      <td>@Iluvmiasantos ugh babe.. hugggzzz for u .!  b...</td>\n",
       "      <td>121</td>\n",
       "      <td>iluvmiasantos ugh babe hugggzzz u babe naamaze...</td>\n",
       "      <td>ugh babe.. hugggzzz u .! babe naamazed nga ako...</td>\n",
       "    </tr>\n",
       "  </tbody>\n",
       "</table>\n",
       "</div>"
      ],
      "text/plain": [
       "   Emotion                                               Text  sizes  \\\n",
       "0  neutral                                             Why ?       7   \n",
       "1      joy    Sage Act upgrade on my to do list for tommorow.     47   \n",
       "2  sadness  ON THE WAY TO MY HOMEGIRL BABY FUNERAL!!! MAN ...    100   \n",
       "3      joy   Such an eye ! The true hazel eye-and so brill...    478   \n",
       "4      joy  @Iluvmiasantos ugh babe.. hugggzzz for u .!  b...    121   \n",
       "\n",
       "                                               clean  \\\n",
       "0                                                      \n",
       "1                     sage act upgrade list tommorow   \n",
       "2  way homegirl baby funeral man hate funeral rea...   \n",
       "3  eye true hazel brilliant regular feature open ...   \n",
       "4  iluvmiasantos ugh babe hugggzzz u babe naamaze...   \n",
       "\n",
       "                                              clean1  \n",
       "0                                                  ?  \n",
       "1                    Sage Act upgrade list tommorow.  \n",
       "2  WAY HOMEGIRL BABY FUNERAL!!! MAN HATE FUNERALS...  \n",
       "3  eye ! true hazel eye-and brilliant ! Regular f...  \n",
       "4  ugh babe.. hugggzzz u .! babe naamazed nga ako...  "
      ]
     },
     "execution_count": 44,
     "metadata": {},
     "output_type": "execute_result"
    }
   ],
   "source": [
    "df['clean1'] = df.clean1.apply(nfx.remove_stopwords)\n",
    "df.head()"
   ]
  },
  {
   "cell_type": "code",
   "execution_count": 45,
   "id": "fe60b8f6-f2c4-440b-92ca-c2333edf0c02",
   "metadata": {},
   "outputs": [],
   "source": [
    "x1 = df.clean\n",
    "x2 = df.clean1"
   ]
  },
  {
   "cell_type": "code",
   "execution_count": 46,
   "id": "a639ab69-d700-48cf-922f-4d87edeeabdf",
   "metadata": {},
   "outputs": [],
   "source": [
    "y = df.Emotion"
   ]
  },
  {
   "cell_type": "code",
   "execution_count": 19,
   "id": "40508e98-2fbe-461a-b156-7a7427d50807",
   "metadata": {},
   "outputs": [],
   "source": [
    "xtrain,xtest,ytrain,ytest = train_test_split(x1,y,test_size=.3,random_state=42)\n",
    "td_my_fxn = [xtrain,xtest,ytrain,ytest]\n",
    "xtrain,xtest,ytrain,ytest = train_test_split(x2,y,test_size=.3,random_state=42)\n",
    "td_nfx = [xtrain,xtest,ytrain,ytest]"
   ]
  },
  {
   "cell_type": "code",
   "execution_count": 20,
   "id": "b695dd53-e0fa-4feb-90d0-fcf37fc5b75f",
   "metadata": {},
   "outputs": [],
   "source": [
    "pipe_lr = Pipeline([\n",
    "    ('cv',CountVectorizer()),\n",
    "    ('lr',LogisticRegression()),\n",
    "], verbose=True)\n",
    "pipe_lr1 = Pipeline([\n",
    "    ('tfid',TfidfVectorizer()),\n",
    "    ('lr',LogisticRegression()),\n",
    "], verbose=True)"
   ]
  },
  {
   "cell_type": "code",
   "execution_count": 21,
   "id": "9e07e0bd-53b5-421c-8765-d113becc3510",
   "metadata": {},
   "outputs": [],
   "source": [
    "def fit_(model,td):\n",
    "    xtrain,xtest,ytrain,ytest = td\n",
    "    model.fit(xtrain,ytrain)\n",
    "    display(model.score(xtest,ytest))\n",
    "    return model"
   ]
  },
  {
   "cell_type": "code",
   "execution_count": 22,
   "id": "4df21289-2563-49c5-884e-1abd57c33245",
   "metadata": {},
   "outputs": [
    {
     "name": "stdout",
     "output_type": "stream",
     "text": [
      "[Pipeline] ................ (step 1 of 2) Processing cv, total=   0.3s\n",
      "[Pipeline] ................ (step 2 of 2) Processing lr, total=   4.6s\n"
     ]
    },
    {
     "data": {
      "text/plain": [
       "0.6286644951140065"
      ]
     },
     "metadata": {},
     "output_type": "display_data"
    },
    {
     "name": "stdout",
     "output_type": "stream",
     "text": [
      "[Pipeline] ................ (step 1 of 2) Processing cv, total=   0.3s\n",
      "[Pipeline] ................ (step 2 of 2) Processing lr, total=   4.9s\n"
     ]
    },
    {
     "data": {
      "text/plain": [
       "0.6200421536692853"
      ]
     },
     "metadata": {},
     "output_type": "display_data"
    },
    {
     "name": "stdout",
     "output_type": "stream",
     "text": [
      "[Pipeline] .............. (step 1 of 2) Processing tfid, total=   0.3s\n",
      "[Pipeline] ................ (step 2 of 2) Processing lr, total=   4.8s\n"
     ]
    },
    {
     "data": {
      "text/plain": [
       "0.6081624832343361"
      ]
     },
     "metadata": {},
     "output_type": "display_data"
    },
    {
     "name": "stdout",
     "output_type": "stream",
     "text": [
      "[Pipeline] .............. (step 1 of 2) Processing tfid, total=   0.3s\n",
      "[Pipeline] ................ (step 2 of 2) Processing lr, total=   4.8s\n"
     ]
    },
    {
     "data": {
      "text/plain": [
       "0.6022226480168614"
      ]
     },
     "metadata": {},
     "output_type": "display_data"
    },
    {
     "data": {
      "text/plain": [
       "Pipeline(steps=[('tfid', TfidfVectorizer()), ('lr', LogisticRegression())],\n",
       "         verbose=True)"
      ]
     },
     "execution_count": 22,
     "metadata": {},
     "output_type": "execute_result"
    }
   ],
   "source": [
    "pipe_lr = fit_(pipe_lr,td_my_fxn)\n",
    "fit_(pipe_lr,td_nfx)\n",
    "fit_(pipe_lr1,td_my_fxn)\n",
    "fit_(pipe_lr1,td_nfx)"
   ]
  },
  {
   "cell_type": "code",
   "execution_count": 23,
   "id": "3bd89066-83ee-4fcc-82be-57c597747435",
   "metadata": {},
   "outputs": [],
   "source": [
    "pipe_rf = Pipeline([\n",
    "    ('cv', CountVectorizer()),\n",
    "    ('rf', RandomForestClassifier())\n",
    "], verbose=True)\n",
    "pipe_rf1 = Pipeline([\n",
    "    ('tfid', TfidfVectorizer()),\n",
    "    ('rf', RandomForestClassifier())\n",
    "], verbose=True)"
   ]
  },
  {
   "cell_type": "code",
   "execution_count": 24,
   "id": "e51c4876-e107-4bf1-84d3-e25544a8fbb8",
   "metadata": {},
   "outputs": [
    {
     "name": "stdout",
     "output_type": "stream",
     "text": [
      "[Pipeline] ................ (step 1 of 2) Processing cv, total=   0.3s\n",
      "[Pipeline] ................ (step 2 of 2) Processing rf, total=  59.1s\n"
     ]
    },
    {
     "data": {
      "text/plain": [
       "0.5836367120137957"
      ]
     },
     "metadata": {},
     "output_type": "display_data"
    },
    {
     "name": "stdout",
     "output_type": "stream",
     "text": [
      "[Pipeline] ................ (step 1 of 2) Processing cv, total=   0.3s\n",
      "[Pipeline] ................ (step 2 of 2) Processing rf, total=  54.9s\n"
     ]
    },
    {
     "data": {
      "text/plain": [
       "0.5863192182410424"
      ]
     },
     "metadata": {},
     "output_type": "display_data"
    },
    {
     "name": "stdout",
     "output_type": "stream",
     "text": [
      "[Pipeline] .............. (step 1 of 2) Processing tfid, total=   0.2s\n",
      "[Pipeline] ................ (step 2 of 2) Processing rf, total=  45.3s\n"
     ]
    },
    {
     "data": {
      "text/plain": [
       "0.618700900555662"
      ]
     },
     "metadata": {},
     "output_type": "display_data"
    },
    {
     "name": "stdout",
     "output_type": "stream",
     "text": [
      "[Pipeline] .............. (step 1 of 2) Processing tfid, total=   0.2s\n",
      "[Pipeline] ................ (step 2 of 2) Processing rf, total=  47.2s\n"
     ]
    },
    {
     "data": {
      "text/plain": [
       "0.6130484767196781"
      ]
     },
     "metadata": {},
     "output_type": "display_data"
    },
    {
     "data": {
      "text/plain": [
       "Pipeline(steps=[('tfid', TfidfVectorizer()), ('rf', RandomForestClassifier())],\n",
       "         verbose=True)"
      ]
     },
     "execution_count": 24,
     "metadata": {},
     "output_type": "execute_result"
    }
   ],
   "source": [
    "fit_(pipe_rf,td_my_fxn)\n",
    "fit_(pipe_rf,td_nfx)\n",
    "fit_(pipe_rf1,td_my_fxn)\n",
    "fit_(pipe_rf1,td_nfx)"
   ]
  },
  {
   "cell_type": "code",
   "execution_count": 24,
   "id": "4462415b-75a4-442f-a915-f57b19f74571",
   "metadata": {},
   "outputs": [],
   "source": [
    "pipe_svc = Pipeline([\n",
    "    ('cv', CountVectorizer()),\n",
    "    ('svm', SVC())\n",
    "], verbose=True)\n",
    "pipe_svc1 = Pipeline([\n",
    "    ('tfid', TfidfVectorizer()),\n",
    "    ('svm', SVC())\n",
    "])"
   ]
  },
  {
   "cell_type": "code",
   "execution_count": null,
   "id": "9f988b5f-e149-4962-a3f1-3581f3f7a849",
   "metadata": {},
   "outputs": [],
   "source": [
    "fit_(pipe_svc,td_my_fxn)\n",
    "fit_(pipe_svc,td_nfx)\n",
    "fit_(pipe_svc1,td_my_fxn)\n",
    "fit_(pipe_svc1,td_nfx)"
   ]
  },
  {
   "cell_type": "code",
   "execution_count": 25,
   "id": "5374ebed-90ac-4924-9ca4-b9d1ba51b00f",
   "metadata": {},
   "outputs": [],
   "source": [
    "from keras.preprocessing.text import Tokenizer\n",
    "from keras.preprocessing import sequence \n",
    "\n",
    "from keras.models import Sequential\n",
    "from keras.callbacks import EarlyStopping\n",
    "from keras.layers import Dense, SimpleRNN, LSTM, Dropout, Embedding, Flatten\n",
    "from keras.utils import np_utils"
   ]
  },
  {
   "cell_type": "code",
   "execution_count": 26,
   "id": "e86d0e04-d204-4b28-bc8e-ff5edb0f54a1",
   "metadata": {},
   "outputs": [],
   "source": [
    "index = df.Emotion.value_counts().index"
   ]
  },
  {
   "cell_type": "code",
   "execution_count": 27,
   "id": "22d3e02a-514a-4261-ad1d-e7603de46c8f",
   "metadata": {},
   "outputs": [],
   "source": [
    "def model_():\n",
    "    model = Sequential([\n",
    "        Flatten(),\n",
    "        Dense(300,activation='relu'),\n",
    "        Dense(100,activation='relu'),\n",
    "        Dense(len(index),activation='softmax')\n",
    "    ])\n",
    "    model.compile(loss='categorical_crossentropy',optimizer='adam',metrics='accuracy')\n",
    "    return model"
   ]
  },
  {
   "cell_type": "code",
   "execution_count": 47,
   "id": "3e3ba664-0d84-4179-8353-8d5520c2cffa",
   "metadata": {},
   "outputs": [],
   "source": [
    "x1 = df.clean\n",
    "# x2 = df.clean1\n",
    "\n",
    "y = df.Emotion\n",
    "\n",
    "tf, x1 = mmf.text_tfid(x1,show_table=False,obj=True)\n",
    "# encode_steps['tfid_vector']=tf\n",
    "# tf, x2 = mmf.text_tfid(x2,show_table=False,obj=True)"
   ]
  },
  {
   "cell_type": "code",
   "execution_count": 48,
   "id": "33974dd1-1a6c-4065-9fc2-43fd75b09de5",
   "metadata": {},
   "outputs": [
    {
     "name": "stdout",
     "output_type": "stream",
     "text": [
      "Wall time: 52 s\n"
     ]
    }
   ],
   "source": [
    "%%time\n",
    "ss = StandardScaler()\n",
    "x1 = ss.fit_transform(x1.toarray())\n",
    "# encode_steps['scalar'] = ss\n",
    "# ss1 = StandardScaler()\n",
    "# x2 = ss1.fit_transform(x2.toarray())"
   ]
  },
  {
   "cell_type": "code",
   "execution_count": 55,
   "id": "ab5f0a02-482b-4b35-8efe-8e11fcd3cd9b",
   "metadata": {},
   "outputs": [],
   "source": [
    "encode_ = {\n",
    "        index[0]:0,\n",
    "        index[1]:1,\n",
    "        index[2]:2,\n",
    "        index[3]:3,\n",
    "        index[4]:4,\n",
    "        index[5]:5,        \n",
    "        index[6]:6,\n",
    "        index[7]:7,\n",
    "    }\n",
    "def encode(x):\n",
    "    return encode_[x]"
   ]
  },
  {
   "cell_type": "code",
   "execution_count": 57,
   "id": "840b4339-65e6-43c8-aeb3-f997805e83c7",
   "metadata": {},
   "outputs": [
    {
     "data": {
      "text/plain": [
       "array([[0., 0., 0., 0., 0., 1., 0., 0.],\n",
       "       [1., 0., 0., 0., 0., 0., 0., 0.],\n",
       "       [0., 1., 0., 0., 0., 0., 0., 0.],\n",
       "       [1., 0., 0., 0., 0., 0., 0., 0.],\n",
       "       [1., 0., 0., 0., 0., 0., 0., 0.],\n",
       "       [0., 0., 1., 0., 0., 0., 0., 0.],\n",
       "       [0., 1., 0., 0., 0., 0., 0., 0.],\n",
       "       [0., 0., 0., 0., 1., 0., 0., 0.],\n",
       "       [0., 0., 0., 0., 1., 0., 0., 0.],\n",
       "       [0., 0., 0., 0., 1., 0., 0., 0.]], dtype=float32)"
      ]
     },
     "execution_count": 57,
     "metadata": {},
     "output_type": "execute_result"
    }
   ],
   "source": [
    "y = y.apply(encode)\n",
    "y = np_utils.to_categorical(y)\n",
    "y[:10]"
   ]
  },
  {
   "cell_type": "code",
   "execution_count": 58,
   "id": "b47cb6fc-f310-451d-bebb-d82a83b8de71",
   "metadata": {},
   "outputs": [
    {
     "data": {
      "text/plain": [
       "array([[-0.00737584, -0.01183674, -0.00536126, ..., -0.00536126,\n",
       "        -0.00536126, -0.00536126],\n",
       "       [-0.00737584, -0.01183674, -0.00536126, ..., -0.00536126,\n",
       "        -0.00536126, -0.00536126],\n",
       "       [-0.00737584, -0.01183674, -0.00536126, ..., -0.00536126,\n",
       "        -0.00536126, -0.00536126],\n",
       "       ...,\n",
       "       [-0.00737584, -0.01183674, -0.00536126, ..., -0.00536126,\n",
       "        -0.00536126, -0.00536126],\n",
       "       [-0.00737584, -0.01183674, -0.00536126, ..., -0.00536126,\n",
       "        -0.00536126, -0.00536126],\n",
       "       [-0.00737584, -0.01183674, -0.00536126, ..., -0.00536126,\n",
       "        -0.00536126, -0.00536126]])"
      ]
     },
     "execution_count": 58,
     "metadata": {},
     "output_type": "execute_result"
    }
   ],
   "source": [
    "x1"
   ]
  },
  {
   "cell_type": "code",
   "execution_count": 13,
   "id": "561df83d-064e-4093-89f8-69d7302b445d",
   "metadata": {},
   "outputs": [],
   "source": [
    "# x2 = x2.toarray()"
   ]
  },
  {
   "cell_type": "code",
   "execution_count": 59,
   "id": "c3727988-a582-4ae3-b29f-e3917697d109",
   "metadata": {},
   "outputs": [
    {
     "name": "stdout",
     "output_type": "stream",
     "text": [
      "Wall time: 11.9 s\n"
     ]
    }
   ],
   "source": [
    "%%time\n",
    "xtrain,xtest,ytrain,ytest = train_test_split(x1,y,test_size=.3,random_state=42)\n",
    "td_my_fxn = [xtrain,xtest,ytrain,ytest]\n",
    "# xtrain,xtest,ytrain,ytest = train_test_split(x2,y,test_size=.3,random_state=42)\n",
    "# td_nfx = [xtrain,xtest,ytrain,ytest]"
   ]
  },
  {
   "cell_type": "code",
   "execution_count": 68,
   "id": "ccff8861-8501-4e9f-a6f2-29b32ebade8f",
   "metadata": {},
   "outputs": [],
   "source": [
    "def model_accuracy(model,td,batch=100,epochs=5,callback_accuracy_max_difference=.0005,pateince=5):\n",
    "    xtrain,xtest,ytrain,ytest = td\n",
    "    es = EarlyStopping(monitor='val_accuracy', mode='max', min_delta=callback_accuracy_max_difference, patience = patience, verbose=1)\n",
    "    model.fit(xtrain,ytrain,batch_size=batch,epochs=epochs,validation_data=[xtest,ytest],callbacks=[es])\n",
    "    ypred = model.predict(xtest)\n",
    "    length = len(ypred)\n",
    "    ylabel = np.argmax(ytest,axis=1)\n",
    "    yplabel = np.argmax(ytest,axis=1)\n",
    "    acc = np.sum(ylabel==yplabel)/length*100\n",
    "    mmf.classificationReport(ylabel,yplabel)\n",
    "    return model"
   ]
  },
  {
   "cell_type": "code",
   "execution_count": 66,
   "id": "73132c7b-a6e4-4edc-be54-b20599582335",
   "metadata": {},
   "outputs": [
    {
     "name": "stdout",
     "output_type": "stream",
     "text": [
      "Wall time: 0 ns\n",
      "Epoch 1/300\n",
      "244/244 [==============================] - 21s 82ms/step - loss: 1.6082 - accuracy: 0.4862 - val_loss: 1.2887 - val_accuracy: 0.5644\n",
      "Epoch 2/300\n",
      "244/244 [==============================] - 13s 53ms/step - loss: 0.3854 - accuracy: 0.8724 - val_loss: 1.4094 - val_accuracy: 0.5669\n",
      "Epoch 3/300\n",
      "244/244 [==============================] - 13s 53ms/step - loss: 0.1891 - accuracy: 0.9356 - val_loss: 1.5282 - val_accuracy: 0.5623\n",
      "Epoch 4/300\n",
      "244/244 [==============================] - 13s 53ms/step - loss: 0.1193 - accuracy: 0.9606 - val_loss: 1.6387 - val_accuracy: 0.5669\n",
      "Epoch 5/300\n",
      "244/244 [==============================] - 13s 54ms/step - loss: 0.0853 - accuracy: 0.9729 - val_loss: 1.7625 - val_accuracy: 0.5696\n",
      "Epoch 6/300\n",
      "244/244 [==============================] - 13s 52ms/step - loss: 0.0610 - accuracy: 0.9807 - val_loss: 1.8652 - val_accuracy: 0.5593\n",
      "Epoch 7/300\n",
      "244/244 [==============================] - 12s 50ms/step - loss: 0.0481 - accuracy: 0.9858 - val_loss: 1.9555 - val_accuracy: 0.5687\n",
      "Epoch 8/300\n",
      "244/244 [==============================] - 12s 50ms/step - loss: 0.0400 - accuracy: 0.9880 - val_loss: 2.0365 - val_accuracy: 0.5609\n",
      "Epoch 9/300\n",
      "244/244 [==============================] - 12s 50ms/step - loss: 0.0336 - accuracy: 0.9895 - val_loss: 2.1787 - val_accuracy: 0.5604\n",
      "Epoch 10/300\n",
      "244/244 [==============================] - 13s 52ms/step - loss: 0.0312 - accuracy: 0.9905 - val_loss: 2.1869 - val_accuracy: 0.5650\n",
      "Epoch 00010: early stopping\n",
      "\n",
      "Test Accuracy :      \u001b[31m \u001b[103m \u001b[1m 100.0% \u001b[0m \n",
      "\n",
      "Confusion Matrix : \n",
      "[[3311    0    0    0    0    0    0    0]\n",
      " [   0 2015    0    0    0    0    0    0]\n",
      " [   0    0 1645    0    0    0    0    0]\n",
      " [   0    0    0 1283    0    0    0    0]\n",
      " [   0    0    0    0 1181    0    0    0]\n",
      " [   0    0    0    0    0  675    0    0]\n",
      " [   0    0    0    0    0    0  292    0]\n",
      " [   0    0    0    0    0    0    0   36]]\n",
      "\n",
      "Classification Report : \n",
      "              precision    recall  f1-score   support\n",
      "\n",
      "           0       1.00      1.00      1.00      3311\n",
      "           1       1.00      1.00      1.00      2015\n",
      "           2       1.00      1.00      1.00      1645\n",
      "           3       1.00      1.00      1.00      1283\n",
      "           4       1.00      1.00      1.00      1181\n",
      "           5       1.00      1.00      1.00       675\n",
      "           6       1.00      1.00      1.00       292\n",
      "           7       1.00      1.00      1.00        36\n",
      "\n",
      "    accuracy                           1.00     10438\n",
      "   macro avg       1.00      1.00      1.00     10438\n",
      "weighted avg       1.00      1.00      1.00     10438\n",
      "\n"
     ]
    }
   ],
   "source": [
    "%time\n",
    "model = model_accuracy(model_(),td_my_fxn,epochs=300)\n",
    "# model_accuracy(model_(),td_nfx)"
   ]
  },
  {
   "cell_type": "code",
   "execution_count": 17,
   "id": "ced3d016-301b-4309-be43-e605de8c4d9b",
   "metadata": {},
   "outputs": [
    {
     "data": {
      "text/plain": [
       "{'clean_text': '',\n",
       " 'encode': {'joy': 0,\n",
       "  'sadness': 1,\n",
       "  'fear': 2,\n",
       "  'anger': 3,\n",
       "  'surprise': 4,\n",
       "  'neutral': 5,\n",
       "  'disgust': 6,\n",
       "  'shame': 7}}"
      ]
     },
     "execution_count": 17,
     "metadata": {},
     "output_type": "execute_result"
    }
   ],
   "source": [
    "encode_steps"
   ]
  },
  {
   "cell_type": "code",
   "execution_count": 24,
   "id": "1289ec84-0927-405b-b256-0da6121cbded",
   "metadata": {},
   "outputs": [
    {
     "data": {
      "text/plain": [
       "7.0"
      ]
     },
     "execution_count": 24,
     "metadata": {},
     "output_type": "execute_result"
    }
   ],
   "source": [
    "np.percentile(df.sizes,.5)"
   ]
  },
  {
   "cell_type": "code",
   "execution_count": 84,
   "id": "942c9158-2880-4f96-9ce4-51ca0c127e4b",
   "metadata": {},
   "outputs": [],
   "source": [
    "max_len = 255"
   ]
  },
  {
   "cell_type": "code",
   "execution_count": 27,
   "id": "7df59725-54a6-4a0a-96ae-72ea63488b77",
   "metadata": {},
   "outputs": [
    {
     "data": {
      "text/plain": [
       "1160"
      ]
     },
     "execution_count": 27,
     "metadata": {},
     "output_type": "execute_result"
    }
   ],
   "source": [
    "df.sizes.max()"
   ]
  },
  {
   "cell_type": "code",
   "execution_count": 28,
   "id": "e90c763c-6d9c-4d6e-b7e4-6c093ce2cc82",
   "metadata": {},
   "outputs": [
    {
     "name": "stdout",
     "output_type": "stream",
     "text": [
      " Jacob , you have the luxury of having a haircut that rarely needs styling . I don ’ t . I have to set aside about an hour and a half to get ready in the mornings . Every day , I wake up and head straight for the shower . Every second day , I wash my hair . If it ’ s a hair-washing day , I frequently need to wash my hair twice because it gets really oily . Then I usually put in a conditioner and have to rinse that out too . Because my hair is so long , I seldom manage to take a shower in under twenty minutes . Afterwards , I often put on a pot of coffee and get dressed while I wait for it to brew . I take a long time to get dressed in the morning . Every now and then I remember to choose my outfit the night before , but usually I do it in the morning . In all , getting dressed takes about half an hour , at which time my hair is now semi-dry so then I have to style my hair . From time to time I ’ ll put my hair up , but oftentimes I bloody it straight . And then , because of the texture of my hair , I regularly have to flat-iron it to keep it from frizzing . That ’ s another twenty minutes or so . After that , I have my daily makeup routine . \n"
     ]
    }
   ],
   "source": [
    "txt = df[df.sizes==1160].Text.values[0]\n",
    "print(txt)"
   ]
  },
  {
   "cell_type": "code",
   "execution_count": 44,
   "id": "03acd832-507d-4359-a55e-c75f3d292ca9",
   "metadata": {},
   "outputs": [],
   "source": [
    "x = df.clean\n",
    "token = Tokenizer(char_level=False,split=' ')\n",
    "token.fit_on_texts(x)\n",
    "x = token.texts_to_sequences(x)\n",
    "x = sequence.pad_sequences(x, maxlen=max_len)"
   ]
  },
  {
   "cell_type": "code",
   "execution_count": 45,
   "id": "d3f232e7-a706-4d67-a5a9-1e64bfa22d8e",
   "metadata": {},
   "outputs": [
    {
     "data": {
      "text/plain": [
       "array([[   0,    0,    0, ...,    0,    0,    0],\n",
       "       [   0,    0,    0, ..., 4678,  648, 3568],\n",
       "       [   0,    0,    0, ...,   30,  169,  950],\n",
       "       ...,\n",
       "       [   0,    0,    0, ...,   80, 2259,    8],\n",
       "       [   0,    0,    0, ..., 3780,  179,  579],\n",
       "       [   0,    0,    0, ...,  229,  428,    2]])"
      ]
     },
     "execution_count": 45,
     "metadata": {},
     "output_type": "execute_result"
    }
   ],
   "source": [
    "x"
   ]
  },
  {
   "cell_type": "code",
   "execution_count": 31,
   "id": "ae63cea2-e1dd-49c6-beb6-fc29a0ab710d",
   "metadata": {},
   "outputs": [
    {
     "data": {
      "text/plain": [
       "{'joy': 0,\n",
       " 'sadness': 1,\n",
       " 'fear': 2,\n",
       " 'anger': 3,\n",
       " 'surprise': 4,\n",
       " 'neutral': 5,\n",
       " 'disgust': 6,\n",
       " 'shame': 7}"
      ]
     },
     "execution_count": 31,
     "metadata": {},
     "output_type": "execute_result"
    }
   ],
   "source": [
    "encode_"
   ]
  },
  {
   "cell_type": "code",
   "execution_count": 46,
   "id": "4eaa5dba-9393-4b35-a2e8-5aece4f254a7",
   "metadata": {},
   "outputs": [
    {
     "data": {
      "text/plain": [
       "array([[0., 0., 0., ..., 1., 0., 0.],\n",
       "       [1., 0., 0., ..., 0., 0., 0.],\n",
       "       [0., 1., 0., ..., 0., 0., 0.],\n",
       "       ...,\n",
       "       [0., 0., 0., ..., 0., 0., 0.],\n",
       "       [0., 0., 1., ..., 0., 0., 0.],\n",
       "       [0., 1., 0., ..., 0., 0., 0.]], dtype=float32)"
      ]
     },
     "execution_count": 46,
     "metadata": {},
     "output_type": "execute_result"
    }
   ],
   "source": [
    "y"
   ]
  },
  {
   "cell_type": "code",
   "execution_count": 47,
   "id": "d132b330-0ae5-498b-8379-9d8d9c651545",
   "metadata": {},
   "outputs": [
    {
     "data": {
      "text/plain": [
       "31082"
      ]
     },
     "execution_count": 47,
     "metadata": {},
     "output_type": "execute_result"
    }
   ],
   "source": [
    "vocab_len = len(token.index_word)\n",
    "vocab_len"
   ]
  },
  {
   "cell_type": "code",
   "execution_count": 128,
   "id": "5e967c5b-0c1b-4afe-9ee5-13483c71ea07",
   "metadata": {},
   "outputs": [],
   "source": [
    "xtrain,xtest,ytrain,ytest = train_test_split(x,y,test_size=.3,random_state=42,stratify=y)\n",
    "td = [xtrain,xtest,ytrain,ytest]\n",
    "def model_accuracy(model,xtest=xtest,ytest=ytest):\n",
    "    ypred = model.predict(xtest)\n",
    "    length = len(ytest)\n",
    "    ylabel = np.argmax(ytest,axis=1)\n",
    "    yplabel = np.argmax(ypred,axis=1)\n",
    "    return mmf.classificationReport(ylabel,yplabel)"
   ]
  },
  {
   "cell_type": "code",
   "execution_count": 129,
   "id": "9f764661-b810-4c27-afa6-38d1b1fab312",
   "metadata": {},
   "outputs": [],
   "source": [
    "sentimentLSTM = Sequential()\n",
    "sentimentLSTM.add(Embedding(vocab_len+1, 100, input_length=max_len, mask_zero=True))\n",
    "sentimentLSTM.add(LSTM(max_len, activation=\"tanh\"))\n",
    "\n",
    "sentimentLSTM.add(Dense(max_len, activation=\"relu\"))\n",
    "sentimentLSTM.add(Dense((max_len/2), activation=\"relu\"))\n",
    "sentimentLSTM.add(Dropout(0.2))\n",
    "sentimentLSTM.add(Dense(len(df.Emotion.value_counts().index), activation=\"softmax\"))\n",
    "\n",
    "sentimentLSTM.compile(optimizer=\"adam\", loss=\"categorical_crossentropy\",metrics='accuracy')"
   ]
  },
  {
   "cell_type": "code",
   "execution_count": 130,
   "id": "c7769b1d-a549-4534-aca9-ed82be505dd6",
   "metadata": {},
   "outputs": [
    {
     "name": "stdout",
     "output_type": "stream",
     "text": [
      "Epoch 1/2\n",
      "244/244 [==============================] - 441s 2s/step - loss: 1.4777 - accuracy: 0.4494 - val_loss: 1.1776 - val_accuracy: 0.5859\n",
      "Epoch 2/2\n",
      "244/244 [==============================] - 444s 2s/step - loss: 0.9031 - accuracy: 0.6933 - val_loss: 1.1188 - val_accuracy: 0.6191\n",
      "\n",
      "Test Accuracy :      \u001b[31m \u001b[103m \u001b[1m 61.9084115730983% \u001b[0m \n",
      "\n",
      "Confusion Matrix : \n",
      "[[2550  146  156  202  178   76    4    1]\n",
      " [ 482  957  124  275  136   38    5    0]\n",
      " [ 203   72 1116  151   58   16    7    0]\n",
      " [ 170  136   82  808   45   43    5    0]\n",
      " [ 405   88   69   97  539    7   14    0]\n",
      " [ 104   27   21   38   12  472    2    0]\n",
      " [  58   29   20   85   45    9    9    2]\n",
      " [   2    0    1   16    7    4    3   11]]\n",
      "\n",
      "Classification Report : \n",
      "              precision    recall  f1-score   support\n",
      "\n",
      "           0       0.64      0.77      0.70      3313\n",
      "           1       0.66      0.47      0.55      2017\n",
      "           2       0.70      0.69      0.69      1623\n",
      "           3       0.48      0.63      0.55      1289\n",
      "           4       0.53      0.44      0.48      1219\n",
      "           5       0.71      0.70      0.70       676\n",
      "           6       0.18      0.04      0.06       257\n",
      "           7       0.79      0.25      0.38        44\n",
      "\n",
      "    accuracy                           0.62     10438\n",
      "   macro avg       0.59      0.50      0.51     10438\n",
      "weighted avg       0.62      0.62      0.61     10438\n",
      "\n"
     ]
    }
   ],
   "source": [
    "# es = EarlyStopping(monitor='val_accuracy', mode='max', min_delta=.0005, patience = 5, verbose=1)\n",
    "sentimentLSTM.fit(xtrain,ytrain,batch_size=100,epochs=2,validation_data= [xtest,ytest])# ,callbacks=[es])\n",
    "model_accuracy(sentimentLSTM)"
   ]
  },
  {
   "cell_type": "code",
   "execution_count": 66,
   "id": "935cb8de-93fa-40bd-96e7-6c59cfe61344",
   "metadata": {},
   "outputs": [],
   "source": [
    "def cleanText(txt):\n",
    "    txt = re.sub(r'@[A-Za-z0-9]+', '', txt)\n",
    "    txt = re.sub(r'#', '',txt)\n",
    "    txt = re.sub(r'RT[\\s]+','',txt)\n",
    "    txt = re.sub(r'https?:\\/\\/\\S+','', txt)\n",
    "    return txt"
   ]
  },
  {
   "cell_type": "code",
   "execution_count": 67,
   "id": "2837fbd3-81e8-4d70-83b3-5c2bdb82d64f",
   "metadata": {},
   "outputs": [],
   "source": [
    "def pred(text):\n",
    "    text = mmf.text_cleantext(text)\n",
    "    text = tf.transform([text])\n",
    "    text = ss.transform(text.toarray())\n",
    "    pred = model.predict([text])\n",
    "    key = list(encode_.keys())\n",
    "    val = list(encode_.values())\n",
    "    return key[val.index(np.argmax(pred))]"
   ]
  },
  {
   "cell_type": "code",
   "execution_count": 61,
   "id": "3ec6e101-a5a8-4fa0-b878-6e0a7fc8cf7d",
   "metadata": {},
   "outputs": [],
   "source": [
    "text = [\n",
    "    'This is so fun i just dont want it to end',\n",
    "    'can you please shut up',\n",
    "    \"@Iluvmiasantos ugh babe.. hugggzzz for u .!  babe naamazed nga ako e babe e, despite nega's mas pinaramdam at fil ko ang \",\n",
    "    'I have a feeling i will fail french #fuckfrench', #joy\n",
    "    'If you are robbed of during tribulation it is because u hav not entered into the means He has provided for Joy #prayer Communion w God', #joy\n",
    "    \"@wt2themax1 I'm sorry my blanket isn't comfortable enough for you, that kid isn't #hehasfeelingstoo so what if he eats his scabs...\", #disgust\n",
    "    'I gag in myself wenever i hear my parents say &quot;sexci&quot; =/ ', #disgust\n",
    "    \"I don't girls nowadays who talk to their friends like their talking to their husbands \", #disgust\n",
    "    'Haha of course I come home to a different house, leave it to my parents to redo the entire downstairs without warning ', #surprise\n",
    "    \"Getting ready for a baby shower at work. Here's hoping no one at work is following me on twitter hahaha Surprise!!\", #surprise\n",
    "    \"The awkward moment when you're on a date and you look down and realize your pants aren't zipped. \",\n",
    "    \n",
    "       ]"
   ]
  },
  {
   "cell_type": "code",
   "execution_count": 21,
   "id": "86d1c8b1-15ab-42ce-ba64-f727050435f9",
   "metadata": {},
   "outputs": [
    {
     "name": "stdout",
     "output_type": "stream",
     "text": [
      "WARNING:tensorflow:Layers in a Sequential model should only have a single input tensor, but we receive a <class 'tuple'> input: (<tf.Tensor 'IteratorGetNext:0' shape=(None, 31028) dtype=float32>,)\n",
      "Consider rewriting this model with the Functional API.\n",
      "sadness\n",
      "anger\n",
      "sadness\n",
      "joy\n",
      "joy\n",
      "disgust\n",
      "sadness\n",
      "disgust\n",
      "surprise\n",
      "surprise\n",
      "surprise\n"
     ]
    }
   ],
   "source": [
    "for i in text:\n",
    "    print(pred(i))"
   ]
  },
  {
   "cell_type": "code",
   "execution_count": 50,
   "id": "4c8ab3c2-2eb9-4b07-a993-c16fbea766ef",
   "metadata": {},
   "outputs": [],
   "source": [
    "import joblib"
   ]
  },
  {
   "cell_type": "code",
   "execution_count": 51,
   "id": "c7ea0bb6-788f-49ca-9508-644294bef685",
   "metadata": {},
   "outputs": [],
   "source": [
    "from tensorflow.keras.models import load_model"
   ]
  },
  {
   "cell_type": "code",
   "execution_count": 53,
   "id": "3a3ac99c-bb50-4d54-95fc-8cffa0b2aa1c",
   "metadata": {},
   "outputs": [],
   "source": [
    "joblib.dump(encode_,'./app/transformers')\n",
    "model.save('./app/model/my_neural_network')"
   ]
  },
  {
   "cell_type": "code",
   "execution_count": 138,
   "id": "12a7891c-4f6e-47a7-97af-82e14988e00e",
   "metadata": {},
   "outputs": [
    {
     "name": "stderr",
     "output_type": "stream",
     "text": [
      "WARNING:absl:Found untraced functions such as lstm_cell_8_layer_call_fn, lstm_cell_8_layer_call_and_return_conditional_losses, lstm_cell_8_layer_call_fn, lstm_cell_8_layer_call_and_return_conditional_losses, lstm_cell_8_layer_call_and_return_conditional_losses while saving (showing 5 of 5). These functions will not be directly callable after loading.\n"
     ]
    },
    {
     "name": "stdout",
     "output_type": "stream",
     "text": [
      "INFO:tensorflow:Assets written to: ./app/model/appSentimentLSTM\\assets\n"
     ]
    },
    {
     "name": "stderr",
     "output_type": "stream",
     "text": [
      "INFO:tensorflow:Assets written to: ./app/model/appSentimentLSTM\\assets\n",
      "WARNING:absl:<keras.layers.recurrent.LSTMCell object at 0x00000191D0EC78B0> has the same name 'LSTMCell' as a built-in Keras object. Consider renaming <class 'keras.layers.recurrent.LSTMCell'> to avoid naming conflicts when loading with `tf.keras.models.load_model`. If renaming is not possible, pass the object in the `custom_objects` parameter of the load function.\n"
     ]
    }
   ],
   "source": [
    "joblib.dump(token,'./app/appToken')\n",
    "joblib.dump(tf,'./app/tfid')\n",
    "sentimentLSTM.save('./app/model/appSentimentLSTM')"
   ]
  },
  {
   "cell_type": "code",
   "execution_count": 90,
   "id": "2c905831-3d0e-46b9-baab-a2cd1786b2b7",
   "metadata": {},
   "outputs": [],
   "source": [
    "model = load_model('./app/model/appSentimentLSTM/')\n",
    "model1 = load_model('./app/model/my_neural_network/')\n",
    "tf = joblib.load('./app/tfid')\n",
    "token = joblib.load('./app/appToken')"
   ]
  },
  {
   "cell_type": "code",
   "execution_count": 59,
   "id": "b64ec785-874f-4089-adc6-c14c90c60ca9",
   "metadata": {},
   "outputs": [],
   "source": [
    "encode_ = {\n",
    "        index[0]:0,\n",
    "        index[1]:1,\n",
    "        index[2]:2,\n",
    "        index[3]:3,\n",
    "        index[4]:4,\n",
    "        index[5]:5,        \n",
    "        index[6]:6,\n",
    "        index[7]:7,\n",
    "    }"
   ]
  },
  {
   "cell_type": "code",
   "execution_count": 87,
   "id": "adfb12fa-f4f5-45a7-9650-0b11018d944e",
   "metadata": {},
   "outputs": [],
   "source": [
    "def predictSentiment(txt=text[1]):\n",
    "    txt = cleanText(txt)\n",
    "\n",
    "    txt = mmf.text_cleantext(txt)\n",
    "\n",
    "    txt = token.texts_to_sequences([txt])\n",
    "    txt = sequence.pad_sequences(txt, maxlen=max_len)\n",
    "\n",
    "    label = model.predict(txt)\n",
    "    label = np.argmax(label)\n",
    "    # label = \n",
    "    key = list(encode_.keys())\n",
    "    val = list(encode_.values())\n",
    "    # return key[val.index(np.argmax(label))]\n",
    "    return key[label]"
   ]
  },
  {
   "cell_type": "code",
   "execution_count": 108,
   "id": "b6a668e7-7e68-453f-bdad-cf7f76c400cf",
   "metadata": {},
   "outputs": [],
   "source": [
    "def pred(text):\n",
    "    text = mmf.text_cleantext(text)\n",
    "    text = tf.transform([text])\n",
    "    text = ss.transform(text.toarray())\n",
    "    pred = model1.predict([text])\n",
    "    key = list(encode_.keys())\n",
    "    val = list(encode_.values())\n",
    "    return key[val.index(np.argmax(pred))]"
   ]
  },
  {
   "cell_type": "code",
   "execution_count": 106,
   "id": "99429a97-588e-4965-866e-d5946eb67eda",
   "metadata": {},
   "outputs": [],
   "source": [
    "text = [\n",
    "    'This is so fun i just dont want it to end',#joy\n",
    "    'can you please shut up',#anger\n",
    "    \"@Iluvmiasantos ugh babe.. hugggzzz for u .!  babe naamazed nga ako e babe e, despite nega's mas pinaramdam at fil ko ang \",#joy\n",
    "    'I have a feeling i will fail french #fuckfrench', #joy\n",
    "    'If you are robbed of during tribulation it is because u hav not entered into the means He has provided for Joy #prayer Communion w God', #joy\n",
    "    \"@wt2themax1 I'm sorry my blanket isn't comfortable enough for you, that kid isn't #hehasfeelingstoo so what if he eats his scabs...\", #disgust\n",
    "    'I gag in myself wenever i hear my parents say &quot;sexci&quot; =/ ', #disgust\n",
    "    \"I don't girls nowadays who talk to their friends like their talking to their husbands \", #disgust\n",
    "    'Haha of course I come home to a different house, leave it to my parents to redo the entire downstairs without warning ', #surprise\n",
    "    \"Getting ready for a baby shower at work. Here's hoping no one at work is following me on twitter hahaha Surprise!!\", #surprise\n",
    "    \"The awkward moment when you're on a date and you look down and realize your pants aren't zipped. \",#surprise\n",
    "    \n",
    "       ]"
   ]
  },
  {
   "cell_type": "code",
   "execution_count": 109,
   "id": "12d21634-f884-462a-ae9b-2e337563f95f",
   "metadata": {},
   "outputs": [
    {
     "data": {
      "text/html": [
       "<div>\n",
       "<style scoped>\n",
       "    .dataframe tbody tr th:only-of-type {\n",
       "        vertical-align: middle;\n",
       "    }\n",
       "\n",
       "    .dataframe tbody tr th {\n",
       "        vertical-align: top;\n",
       "    }\n",
       "\n",
       "    .dataframe thead th {\n",
       "        text-align: right;\n",
       "    }\n",
       "</style>\n",
       "<table border=\"1\" class=\"dataframe\">\n",
       "  <thead>\n",
       "    <tr style=\"text-align: right;\">\n",
       "      <th></th>\n",
       "      <th>ANN Sentiment</th>\n",
       "      <th>LSTM Sentiment</th>\n",
       "      <th>ANN Match</th>\n",
       "      <th>LSTM Match</th>\n",
       "    </tr>\n",
       "  </thead>\n",
       "  <tbody>\n",
       "    <tr>\n",
       "      <th>joy</th>\n",
       "      <td>sadness</td>\n",
       "      <td>sadness</td>\n",
       "      <td>No</td>\n",
       "      <td>No</td>\n",
       "    </tr>\n",
       "    <tr>\n",
       "      <th>anger</th>\n",
       "      <td>anger</td>\n",
       "      <td>anger</td>\n",
       "      <td>Yes</td>\n",
       "      <td>Yes</td>\n",
       "    </tr>\n",
       "    <tr>\n",
       "      <th>joy</th>\n",
       "      <td>surprise</td>\n",
       "      <td>joy</td>\n",
       "      <td>No</td>\n",
       "      <td>Yes</td>\n",
       "    </tr>\n",
       "    <tr>\n",
       "      <th>joy</th>\n",
       "      <td>joy</td>\n",
       "      <td>joy</td>\n",
       "      <td>Yes</td>\n",
       "      <td>Yes</td>\n",
       "    </tr>\n",
       "    <tr>\n",
       "      <th>joy</th>\n",
       "      <td>sadness</td>\n",
       "      <td>joy</td>\n",
       "      <td>No</td>\n",
       "      <td>Yes</td>\n",
       "    </tr>\n",
       "    <tr>\n",
       "      <th>disgust</th>\n",
       "      <td>disgust</td>\n",
       "      <td>disgust</td>\n",
       "      <td>Yes</td>\n",
       "      <td>Yes</td>\n",
       "    </tr>\n",
       "    <tr>\n",
       "      <th>disgust</th>\n",
       "      <td>surprise</td>\n",
       "      <td>anger</td>\n",
       "      <td>No</td>\n",
       "      <td>No</td>\n",
       "    </tr>\n",
       "    <tr>\n",
       "      <th>disgust</th>\n",
       "      <td>disgust</td>\n",
       "      <td>anger</td>\n",
       "      <td>Yes</td>\n",
       "      <td>No</td>\n",
       "    </tr>\n",
       "    <tr>\n",
       "      <th>surprise</th>\n",
       "      <td>surprise</td>\n",
       "      <td>surprise</td>\n",
       "      <td>Yes</td>\n",
       "      <td>Yes</td>\n",
       "    </tr>\n",
       "    <tr>\n",
       "      <th>surprise</th>\n",
       "      <td>surprise</td>\n",
       "      <td>surprise</td>\n",
       "      <td>Yes</td>\n",
       "      <td>Yes</td>\n",
       "    </tr>\n",
       "    <tr>\n",
       "      <th>surprise</th>\n",
       "      <td>surprise</td>\n",
       "      <td>surprise</td>\n",
       "      <td>Yes</td>\n",
       "      <td>Yes</td>\n",
       "    </tr>\n",
       "  </tbody>\n",
       "</table>\n",
       "</div>"
      ],
      "text/plain": [
       "         ANN Sentiment LSTM Sentiment ANN Match LSTM Match\n",
       "joy            sadness        sadness        No         No\n",
       "anger            anger          anger       Yes        Yes\n",
       "joy           surprise            joy        No        Yes\n",
       "joy                joy            joy       Yes        Yes\n",
       "joy            sadness            joy        No        Yes\n",
       "disgust        disgust        disgust       Yes        Yes\n",
       "disgust       surprise          anger        No         No\n",
       "disgust        disgust          anger       Yes         No\n",
       "surprise      surprise       surprise       Yes        Yes\n",
       "surprise      surprise       surprise       Yes        Yes\n",
       "surprise      surprise       surprise       Yes        Yes"
      ]
     },
     "execution_count": 109,
     "metadata": {},
     "output_type": "execute_result"
    }
   ],
   "source": [
    "pred_ = []\n",
    "txtLabel = ['joy','anger','joy','joy','joy','disgust','disgust','disgust','surprise','surprise','surprise']\n",
    "z = 0\n",
    "for i in text:\n",
    "    pred1 = pred(i)\n",
    "    pred1_ = 'No'\n",
    "    pred2 = predictSentiment(i)\n",
    "    pred2_ = 'No'\n",
    "    \n",
    "    if txtLabel[z] == pred1:\n",
    "        pred1_ = 'Yes'\n",
    "    if txtLabel[z] == pred2:\n",
    "        pred2_ = 'Yes'\n",
    "    pred_.append([pred1,pred2,pred1_,pred2_])\n",
    "    z+=1\n",
    "pd.DataFrame(pred_,columns=['ANN Sentiment','LSTM Sentiment','ANN Match','LSTM Match'],index=txtLabel)"
   ]
  },
  {
   "cell_type": "code",
   "execution_count": 14,
   "id": "7606785a-5416-411c-9286-c27675ea5662",
   "metadata": {},
   "outputs": [
    {
     "data": {
      "text/html": [
       "<div>\n",
       "<style scoped>\n",
       "    .dataframe tbody tr th:only-of-type {\n",
       "        vertical-align: middle;\n",
       "    }\n",
       "\n",
       "    .dataframe tbody tr th {\n",
       "        vertical-align: top;\n",
       "    }\n",
       "\n",
       "    .dataframe thead th {\n",
       "        text-align: right;\n",
       "    }\n",
       "</style>\n",
       "<table border=\"1\" class=\"dataframe\">\n",
       "  <thead>\n",
       "    <tr style=\"text-align: right;\">\n",
       "      <th></th>\n",
       "      <th>Emotion</th>\n",
       "      <th>Text</th>\n",
       "      <th>sizes</th>\n",
       "    </tr>\n",
       "  </thead>\n",
       "  <tbody>\n",
       "    <tr>\n",
       "      <th>16906</th>\n",
       "      <td>anger</td>\n",
       "      <td>Jacob , you have the luxury of having a hairc...</td>\n",
       "      <td>1160</td>\n",
       "    </tr>\n",
       "  </tbody>\n",
       "</table>\n",
       "</div>"
      ],
      "text/plain": [
       "      Emotion                                               Text  sizes\n",
       "16906   anger   Jacob , you have the luxury of having a hairc...   1160"
      ]
     },
     "execution_count": 14,
     "metadata": {},
     "output_type": "execute_result"
    }
   ],
   "source": [
    "df[df.sizes==df.sizes.max()]"
   ]
  },
  {
   "cell_type": "code",
   "execution_count": 21,
   "id": "af5caf6e-f034-4b41-a344-d6a22e7a4f2c",
   "metadata": {},
   "outputs": [
    {
     "data": {
      "text/plain": [
       "'After attending a song contest proposed by a band called \\\\Chyne\\\\\" we (6 of us) waited for the members of the band to greet us in front of the stage.  We went out after a few minutes as it was time to close the hall.  We had been waiting at the entrance hall for ten minutes when three of the band members came out.  They were very excited to see us, one of them was so excited that he had tears in his eyes.  We felt very warm and close to each other.  They took us back into the hall and we talked freely.  We were together for about an hour and during this time we felt that they were very sincere.\"'"
      ]
     },
     "execution_count": 21,
     "metadata": {},
     "output_type": "execute_result"
    }
   ],
   "source": [
    "df[(df.Emotion=='joy') & (df.sizes==601)].Text.values[0]"
   ]
  },
  {
   "cell_type": "code",
   "execution_count": 23,
   "id": "c3c5eaea-fb8f-4c0e-aeb1-e1c0f95306eb",
   "metadata": {},
   "outputs": [
    {
     "data": {
      "text/plain": [
       "'My living and working conditions at home were unbearable. We used to live in a three room flat together with two more families. The discords caused a change - one of the families moved out. The other family stayed with us but I drifted away from my fiancT. In fact we were two families in the flat. Then I found myself alone in the struggle for this life because my fiancedid not stay next to me my grief and sorrow took on large proportions. I wanted to commit suicide but instead I threw myself against the cause of the irritation.'"
      ]
     },
     "execution_count": 23,
     "metadata": {},
     "output_type": "execute_result"
    }
   ],
   "source": [
    "df[(df.Emotion=='sadness') & (df.sizes==533)].Text.values[0]"
   ]
  },
  {
   "cell_type": "code",
   "execution_count": 22,
   "id": "c00f6859-f4d4-414c-be43-612b7f7153b2",
   "metadata": {},
   "outputs": [
    {
     "data": {
      "text/plain": [
       "533"
      ]
     },
     "execution_count": 22,
     "metadata": {},
     "output_type": "execute_result"
    }
   ],
   "source": [
    "df[(df.Emotion=='sadness')].sizes.max()"
   ]
  },
  {
   "cell_type": "code",
   "execution_count": 111,
   "id": "484301b1-94c0-4dc1-aa09-68d225fc3b1d",
   "metadata": {},
   "outputs": [
    {
     "data": {
      "text/plain": [
       "'To those workers who profess bewilderment as to how they might help , who feel their knowledge in sexual matters is insufficient or are doubtful of their capabilities for sexual counselling and aid , one would suggest that they raise the matter within their training departments . '"
      ]
     },
     "execution_count": 111,
     "metadata": {},
     "output_type": "execute_result"
    }
   ],
   "source": [
    "df[(df.Emotion=='surprise') & (df.sizes==281)].Text.values[0]"
   ]
  },
  {
   "cell_type": "code",
   "execution_count": null,
   "id": "191aa0c4-4634-451b-84d8-498f68d3afc3",
   "metadata": {},
   "outputs": [],
   "source": []
  }
 ],
 "metadata": {
  "kernelspec": {
   "display_name": "Python 3 (ipykernel)",
   "language": "python",
   "name": "python3"
  },
  "language_info": {
   "codemirror_mode": {
    "name": "ipython",
    "version": 3
   },
   "file_extension": ".py",
   "mimetype": "text/x-python",
   "name": "python",
   "nbconvert_exporter": "python",
   "pygments_lexer": "ipython3",
   "version": "3.9.2"
  }
 },
 "nbformat": 4,
 "nbformat_minor": 5
}
