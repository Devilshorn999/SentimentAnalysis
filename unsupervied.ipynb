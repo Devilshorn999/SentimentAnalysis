{
 "cells": [
  {
   "cell_type": "code",
   "execution_count": 81,
   "id": "95dd286b-e60e-47fd-9eab-01abeeef8e64",
   "metadata": {},
   "outputs": [],
   "source": [
    "import pandas as pd\n",
    "import numpy as np\n",
    "\n",
    "from nltk.sentiment.vader import SentimentIntensityAnalyzer\n",
    "\n",
    "from textblob import TextBlob\n",
    "\n",
    "from nltk.tokenize import word_tokenize\n",
    "\n",
    "import MyMLFunctions as mmf\n",
    "\n",
    "import re\n",
    "\n",
    "import warnings\n",
    "warnings.filterwarnings('ignore')\n",
    "\n",
    "from sklearn.model_selection import train_test_split\n",
    "from sklearn.preprocessing import LabelEncoder\n",
    "\n",
    "from keras.preprocessing.text import Tokenizer\n",
    "from keras.preprocessing import sequence \n",
    "\n",
    "from keras.models import Sequential\n",
    "from keras.layers import Dense, SimpleRNN, LSTM, Dropout, Embedding\n",
    "from keras.utils import np_utils"
   ]
  },
  {
   "cell_type": "code",
   "execution_count": 54,
   "id": "a1a9cbf9-1de4-472b-9813-022963cc68c5",
   "metadata": {},
   "outputs": [
    {
     "data": {
      "text/html": [
       "<div>\n",
       "<style scoped>\n",
       "    .dataframe tbody tr th:only-of-type {\n",
       "        vertical-align: middle;\n",
       "    }\n",
       "\n",
       "    .dataframe tbody tr th {\n",
       "        vertical-align: top;\n",
       "    }\n",
       "\n",
       "    .dataframe thead th {\n",
       "        text-align: right;\n",
       "    }\n",
       "</style>\n",
       "<table border=\"1\" class=\"dataframe\">\n",
       "  <thead>\n",
       "    <tr style=\"text-align: right;\">\n",
       "      <th></th>\n",
       "      <th>id</th>\n",
       "      <th>created_at</th>\n",
       "      <th>source</th>\n",
       "      <th>original_text</th>\n",
       "      <th>lang</th>\n",
       "      <th>favorite_count</th>\n",
       "      <th>retweet_count</th>\n",
       "      <th>original_author</th>\n",
       "      <th>hashtags</th>\n",
       "      <th>user_mentions</th>\n",
       "      <th>place</th>\n",
       "      <th>clean_tweet</th>\n",
       "      <th>compound</th>\n",
       "      <th>neg</th>\n",
       "      <th>neu</th>\n",
       "      <th>pos</th>\n",
       "      <th>sentiment</th>\n",
       "    </tr>\n",
       "  </thead>\n",
       "  <tbody>\n",
       "    <tr>\n",
       "      <th>0</th>\n",
       "      <td>1.300000e+18</td>\n",
       "      <td>Thu Aug 20 08:20:55 +0000 2020</td>\n",
       "      <td>&lt;a href=\"http://twitter.com/download/android\" ...</td>\n",
       "      <td>RT @RobertAlai: 91-year-old Ex-Vice President ...</td>\n",
       "      <td>en</td>\n",
       "      <td>0.0</td>\n",
       "      <td>100.0</td>\n",
       "      <td>kvn_kegan</td>\n",
       "      <td>NaN</td>\n",
       "      <td>RobertAlai</td>\n",
       "      <td>Nairobi, Kenya</td>\n",
       "      <td>year old ex vice presid moodi awori land inter...</td>\n",
       "      <td>0.0000</td>\n",
       "      <td>0.0</td>\n",
       "      <td>1.000</td>\n",
       "      <td>0.000</td>\n",
       "      <td>neu</td>\n",
       "    </tr>\n",
       "    <tr>\n",
       "      <th>1</th>\n",
       "      <td>1.300000e+18</td>\n",
       "      <td>Thu Aug 20 08:20:54 +0000 2020</td>\n",
       "      <td>&lt;a href=\"http://twitter.com/download/android\" ...</td>\n",
       "      <td>RT @cnnphilippines: BREAKING: The Department o...</td>\n",
       "      <td>en</td>\n",
       "      <td>0.0</td>\n",
       "      <td>38.0</td>\n",
       "      <td>puTOPinamo</td>\n",
       "      <td>NaN</td>\n",
       "      <td>cnnphilippines</td>\n",
       "      <td>NaN</td>\n",
       "      <td>break depart health report peopl caught covid1...</td>\n",
       "      <td>0.0000</td>\n",
       "      <td>0.0</td>\n",
       "      <td>1.000</td>\n",
       "      <td>0.000</td>\n",
       "      <td>neu</td>\n",
       "    </tr>\n",
       "    <tr>\n",
       "      <th>2</th>\n",
       "      <td>1.300000e+18</td>\n",
       "      <td>Thu Aug 20 08:20:53 +0000 2020</td>\n",
       "      <td>&lt;a href=\"http://twitter.com/download/android\" ...</td>\n",
       "      <td>RT @latestly: #SidharthShukla Helps Out Fan Wh...</td>\n",
       "      <td>en</td>\n",
       "      <td>0.0</td>\n",
       "      <td>0.0</td>\n",
       "      <td>DevSidheart</td>\n",
       "      <td>SidharthShukla, Covid_19</td>\n",
       "      <td>latestly</td>\n",
       "      <td>Sidheart</td>\n",
       "      <td>help fan request help arrang bed posit father ...</td>\n",
       "      <td>0.7717</td>\n",
       "      <td>0.0</td>\n",
       "      <td>0.476</td>\n",
       "      <td>0.524</td>\n",
       "      <td>pos</td>\n",
       "    </tr>\n",
       "    <tr>\n",
       "      <th>3</th>\n",
       "      <td>1.300000e+18</td>\n",
       "      <td>Thu Aug 20 08:20:52 +0000 2020</td>\n",
       "      <td>&lt;a href=\"https://about.twitter.com/products/tw...</td>\n",
       "      <td>Lending Club loan originations down 90% ... bu...</td>\n",
       "      <td>en</td>\n",
       "      <td>0.0</td>\n",
       "      <td>13.0</td>\n",
       "      <td>Chris_Skinner</td>\n",
       "      <td>NaN</td>\n",
       "      <td>NaN</td>\n",
       "      <td>ÜT: 51.511924,-0.22414</td>\n",
       "      <td>lend club loan origin hey bank</td>\n",
       "      <td>0.0000</td>\n",
       "      <td>0.0</td>\n",
       "      <td>1.000</td>\n",
       "      <td>0.000</td>\n",
       "      <td>neu</td>\n",
       "    </tr>\n",
       "    <tr>\n",
       "      <th>4</th>\n",
       "      <td>1.300000e+18</td>\n",
       "      <td>Thu Aug 20 08:20:51 +0000 2020</td>\n",
       "      <td>&lt;a href=\"http://twitter.com/download/android\" ...</td>\n",
       "      <td>RT @OpIndia_com: Curious case of ‘United Natio...</td>\n",
       "      <td>en</td>\n",
       "      <td>0.0</td>\n",
       "      <td>286.0</td>\n",
       "      <td>Yashodhara1010</td>\n",
       "      <td>NaN</td>\n",
       "      <td>OpIndia_com, LekhakAnurag</td>\n",
       "      <td>India</td>\n",
       "      <td>curiou case unit nation ngo appreci kingdom ma...</td>\n",
       "      <td>0.0000</td>\n",
       "      <td>0.0</td>\n",
       "      <td>1.000</td>\n",
       "      <td>0.000</td>\n",
       "      <td>neu</td>\n",
       "    </tr>\n",
       "  </tbody>\n",
       "</table>\n",
       "</div>"
      ],
      "text/plain": [
       "             id                      created_at  \\\n",
       "0  1.300000e+18  Thu Aug 20 08:20:55 +0000 2020   \n",
       "1  1.300000e+18  Thu Aug 20 08:20:54 +0000 2020   \n",
       "2  1.300000e+18  Thu Aug 20 08:20:53 +0000 2020   \n",
       "3  1.300000e+18  Thu Aug 20 08:20:52 +0000 2020   \n",
       "4  1.300000e+18  Thu Aug 20 08:20:51 +0000 2020   \n",
       "\n",
       "                                              source  \\\n",
       "0  <a href=\"http://twitter.com/download/android\" ...   \n",
       "1  <a href=\"http://twitter.com/download/android\" ...   \n",
       "2  <a href=\"http://twitter.com/download/android\" ...   \n",
       "3  <a href=\"https://about.twitter.com/products/tw...   \n",
       "4  <a href=\"http://twitter.com/download/android\" ...   \n",
       "\n",
       "                                       original_text lang  favorite_count  \\\n",
       "0  RT @RobertAlai: 91-year-old Ex-Vice President ...   en             0.0   \n",
       "1  RT @cnnphilippines: BREAKING: The Department o...   en             0.0   \n",
       "2  RT @latestly: #SidharthShukla Helps Out Fan Wh...   en             0.0   \n",
       "3  Lending Club loan originations down 90% ... bu...   en             0.0   \n",
       "4  RT @OpIndia_com: Curious case of ‘United Natio...   en             0.0   \n",
       "\n",
       "   retweet_count original_author                  hashtags  \\\n",
       "0          100.0       kvn_kegan                       NaN   \n",
       "1           38.0      puTOPinamo                       NaN   \n",
       "2            0.0     DevSidheart  SidharthShukla, Covid_19   \n",
       "3           13.0   Chris_Skinner                       NaN   \n",
       "4          286.0  Yashodhara1010                       NaN   \n",
       "\n",
       "               user_mentions                   place  \\\n",
       "0                 RobertAlai          Nairobi, Kenya   \n",
       "1             cnnphilippines                     NaN   \n",
       "2                   latestly                Sidheart   \n",
       "3                        NaN  ÜT: 51.511924,-0.22414   \n",
       "4  OpIndia_com, LekhakAnurag                   India   \n",
       "\n",
       "                                         clean_tweet  compound  neg    neu  \\\n",
       "0  year old ex vice presid moodi awori land inter...    0.0000  0.0  1.000   \n",
       "1  break depart health report peopl caught covid1...    0.0000  0.0  1.000   \n",
       "2  help fan request help arrang bed posit father ...    0.7717  0.0  0.476   \n",
       "3                     lend club loan origin hey bank    0.0000  0.0  1.000   \n",
       "4  curiou case unit nation ngo appreci kingdom ma...    0.0000  0.0  1.000   \n",
       "\n",
       "     pos sentiment  \n",
       "0  0.000       neu  \n",
       "1  0.000       neu  \n",
       "2  0.524       pos  \n",
       "3  0.000       neu  \n",
       "4  0.000       neu  "
      ]
     },
     "execution_count": 54,
     "metadata": {},
     "output_type": "execute_result"
    }
   ],
   "source": [
    "# https://www.kaggle.com/datasets/arunavakrchakraborty/covid19-twitter-dataset/download\n",
    "\n",
    "df = pd.read_csv(\"Covid-19 Twitter Dataset (Aug-Sep 2020).csv\")\n",
    "df1 = pd.read_csv(\"Covid-19 Twitter Dataset (Apr-Jun 2020).csv\")\n",
    "df.head()"
   ]
  },
  {
   "cell_type": "code",
   "execution_count": 55,
   "id": "63f4727c-1d72-4d39-8c7b-79ee5c9b5c35",
   "metadata": {},
   "outputs": [
    {
     "name": "stdout",
     "output_type": "stream",
     "text": [
      "<class 'pandas.core.frame.DataFrame'>\n",
      "RangeIndex: 320316 entries, 0 to 320315\n",
      "Data columns (total 17 columns):\n",
      " #   Column           Non-Null Count   Dtype  \n",
      "---  ------           --------------   -----  \n",
      " 0   id               320312 non-null  float64\n",
      " 1   created_at       320312 non-null  object \n",
      " 2   source           319886 non-null  object \n",
      " 3   original_text    320312 non-null  object \n",
      " 4   lang             320312 non-null  object \n",
      " 5   favorite_count   320312 non-null  float64\n",
      " 6   retweet_count    320312 non-null  float64\n",
      " 7   original_author  320312 non-null  object \n",
      " 8   hashtags         63981 non-null   object \n",
      " 9   user_mentions    272847 non-null  object \n",
      " 10  place            216437 non-null  object \n",
      " 11  clean_tweet      319515 non-null  object \n",
      " 12  compound         320316 non-null  float64\n",
      " 13  neg              320316 non-null  float64\n",
      " 14  neu              320316 non-null  float64\n",
      " 15  pos              320316 non-null  float64\n",
      " 16  sentiment        320316 non-null  object \n",
      "dtypes: float64(7), object(10)\n",
      "memory usage: 41.5+ MB\n",
      "<class 'pandas.core.frame.DataFrame'>\n",
      "RangeIndex: 235240 entries, 0 to 235239\n",
      "Data columns (total 17 columns):\n",
      " #   Column           Non-Null Count   Dtype  \n",
      "---  ------           --------------   -----  \n",
      " 0   id               235238 non-null  float64\n",
      " 1   created_at       235238 non-null  object \n",
      " 2   source           235209 non-null  object \n",
      " 3   original_text    235238 non-null  object \n",
      " 4   lang             235238 non-null  object \n",
      " 5   favorite_count   235238 non-null  float64\n",
      " 6   retweet_count    235238 non-null  float64\n",
      " 7   original_author  235238 non-null  object \n",
      " 8   hashtags         38691 non-null   object \n",
      " 9   user_mentions    197234 non-null  object \n",
      " 10  place            165404 non-null  object \n",
      " 11  clean_tweet      234708 non-null  object \n",
      " 12  compound         235240 non-null  float64\n",
      " 13  neg              235240 non-null  float64\n",
      " 14  neu              235240 non-null  float64\n",
      " 15  pos              235240 non-null  float64\n",
      " 16  sentiment        235240 non-null  object \n",
      "dtypes: float64(7), object(10)\n",
      "memory usage: 30.5+ MB\n"
     ]
    }
   ],
   "source": [
    "df.info()\n",
    "df1.info()"
   ]
  },
  {
   "cell_type": "code",
   "execution_count": 56,
   "id": "34d5d4c9-ed23-4273-bb27-fb29f4e3e893",
   "metadata": {},
   "outputs": [],
   "source": [
    "pd.DataFrame(pd.concat([df.original_text,df1.original_text])).to_csv('unsupervised_data.csv',index=False)"
   ]
  },
  {
   "cell_type": "code",
   "execution_count": 57,
   "id": "75b1d9ef-fe61-450b-8994-29ea0c10589a",
   "metadata": {},
   "outputs": [],
   "source": [
    "df = pd.read_csv('unsupervised_data.csv')"
   ]
  },
  {
   "cell_type": "code",
   "execution_count": 58,
   "id": "3cd0722a-ba5d-4111-80ee-b26f2a1ae4b0",
   "metadata": {},
   "outputs": [
    {
     "name": "stdout",
     "output_type": "stream",
     "text": [
      "<class 'pandas.core.frame.DataFrame'>\n",
      "RangeIndex: 555556 entries, 0 to 555555\n",
      "Data columns (total 1 columns):\n",
      " #   Column         Non-Null Count   Dtype \n",
      "---  ------         --------------   ----- \n",
      " 0   original_text  555550 non-null  object\n",
      "dtypes: object(1)\n",
      "memory usage: 4.2+ MB\n"
     ]
    },
    {
     "data": {
      "text/html": [
       "<div>\n",
       "<style scoped>\n",
       "    .dataframe tbody tr th:only-of-type {\n",
       "        vertical-align: middle;\n",
       "    }\n",
       "\n",
       "    .dataframe tbody tr th {\n",
       "        vertical-align: top;\n",
       "    }\n",
       "\n",
       "    .dataframe thead th {\n",
       "        text-align: right;\n",
       "    }\n",
       "</style>\n",
       "<table border=\"1\" class=\"dataframe\">\n",
       "  <thead>\n",
       "    <tr style=\"text-align: right;\">\n",
       "      <th></th>\n",
       "      <th>original_text</th>\n",
       "    </tr>\n",
       "  </thead>\n",
       "  <tbody>\n",
       "    <tr>\n",
       "      <th>0</th>\n",
       "      <td>RT @RobertAlai: 91-year-old Ex-Vice President ...</td>\n",
       "    </tr>\n",
       "    <tr>\n",
       "      <th>1</th>\n",
       "      <td>RT @cnnphilippines: BREAKING: The Department o...</td>\n",
       "    </tr>\n",
       "    <tr>\n",
       "      <th>2</th>\n",
       "      <td>RT @latestly: #SidharthShukla Helps Out Fan Wh...</td>\n",
       "    </tr>\n",
       "    <tr>\n",
       "      <th>3</th>\n",
       "      <td>Lending Club loan originations down 90% ... bu...</td>\n",
       "    </tr>\n",
       "    <tr>\n",
       "      <th>4</th>\n",
       "      <td>RT @OpIndia_com: Curious case of ‘United Natio...</td>\n",
       "    </tr>\n",
       "  </tbody>\n",
       "</table>\n",
       "</div>"
      ],
      "text/plain": [
       "                                       original_text\n",
       "0  RT @RobertAlai: 91-year-old Ex-Vice President ...\n",
       "1  RT @cnnphilippines: BREAKING: The Department o...\n",
       "2  RT @latestly: #SidharthShukla Helps Out Fan Wh...\n",
       "3  Lending Club loan originations down 90% ... bu...\n",
       "4  RT @OpIndia_com: Curious case of ‘United Natio..."
      ]
     },
     "execution_count": 58,
     "metadata": {},
     "output_type": "execute_result"
    }
   ],
   "source": [
    "df.info()\n",
    "df.head()"
   ]
  },
  {
   "cell_type": "code",
   "execution_count": 60,
   "id": "662c7ac5-48af-4b0b-b73b-3165dc4bd87c",
   "metadata": {},
   "outputs": [
    {
     "data": {
      "text/plain": [
       "\u001b[1;31mSignature:\u001b[0m\n",
       "\u001b[0mmmf\u001b[0m\u001b[1;33m.\u001b[0m\u001b[0mtext_cleantext\u001b[0m\u001b[1;33m(\u001b[0m\u001b[1;33m\n",
       "\u001b[0m    \u001b[0mtext\u001b[0m\u001b[1;33m,\u001b[0m\u001b[1;33m\n",
       "\u001b[0m    \u001b[0mstopwords\u001b[0m\u001b[1;33m=\u001b[0m\u001b[1;33m[\u001b[0m\u001b[1;34m'i'\u001b[0m\u001b[1;33m,\u001b[0m \u001b[1;34m'me'\u001b[0m\u001b[1;33m,\u001b[0m \u001b[1;34m'my'\u001b[0m\u001b[1;33m,\u001b[0m \u001b[1;34m'myself'\u001b[0m\u001b[1;33m,\u001b[0m \u001b[1;34m'we'\u001b[0m\u001b[1;33m,\u001b[0m \u001b[1;34m'our'\u001b[0m\u001b[1;33m,\u001b[0m \u001b[1;34m'ours'\u001b[0m\u001b[1;33m,\u001b[0m \u001b[1;34m'ourselves'\u001b[0m\u001b[1;33m,\u001b[0m \u001b[1;34m'you'\u001b[0m\u001b[1;33m,\u001b[0m \u001b[1;34m\"you're\"\u001b[0m\u001b[1;33m,\u001b[0m \u001b[1;34m\"you've\"\u001b[0m\u001b[1;33m,\u001b[0m \u001b[1;34m\"you'll\"\u001b[0m\u001b[1;33m,\u001b[0m \u001b[1;34m\"you'd\"\u001b[0m\u001b[1;33m,\u001b[0m \u001b[1;34m'your'\u001b[0m\u001b[1;33m,\u001b[0m \u001b[1;34m'yours'\u001b[0m\u001b[1;33m,\u001b[0m \u001b[1;34m'yourself'\u001b[0m\u001b[1;33m,\u001b[0m \u001b[1;34m'yourselves'\u001b[0m\u001b[1;33m,\u001b[0m \u001b[1;34m'he'\u001b[0m\u001b[1;33m,\u001b[0m \u001b[1;34m'him'\u001b[0m\u001b[1;33m,\u001b[0m \u001b[1;34m'his'\u001b[0m\u001b[1;33m,\u001b[0m \u001b[1;34m'himself'\u001b[0m\u001b[1;33m,\u001b[0m \u001b[1;34m'she'\u001b[0m\u001b[1;33m,\u001b[0m \u001b[1;34m\"she's\"\u001b[0m\u001b[1;33m,\u001b[0m \u001b[1;34m'her'\u001b[0m\u001b[1;33m,\u001b[0m \u001b[1;34m'hers'\u001b[0m\u001b[1;33m,\u001b[0m \u001b[1;34m'herself'\u001b[0m\u001b[1;33m,\u001b[0m \u001b[1;34m'it'\u001b[0m\u001b[1;33m,\u001b[0m \u001b[1;34m\"it's\"\u001b[0m\u001b[1;33m,\u001b[0m \u001b[1;34m'its'\u001b[0m\u001b[1;33m,\u001b[0m \u001b[1;34m'itself'\u001b[0m\u001b[1;33m,\u001b[0m \u001b[1;34m'they'\u001b[0m\u001b[1;33m,\u001b[0m \u001b[1;34m'them'\u001b[0m\u001b[1;33m,\u001b[0m \u001b[1;34m'their'\u001b[0m\u001b[1;33m,\u001b[0m \u001b[1;34m'theirs'\u001b[0m\u001b[1;33m,\u001b[0m \u001b[1;34m'themselves'\u001b[0m\u001b[1;33m,\u001b[0m \u001b[1;34m'what'\u001b[0m\u001b[1;33m,\u001b[0m \u001b[1;34m'which'\u001b[0m\u001b[1;33m,\u001b[0m \u001b[1;34m'who'\u001b[0m\u001b[1;33m,\u001b[0m \u001b[1;34m'whom'\u001b[0m\u001b[1;33m,\u001b[0m \u001b[1;34m'this'\u001b[0m\u001b[1;33m,\u001b[0m \u001b[1;34m'that'\u001b[0m\u001b[1;33m,\u001b[0m \u001b[1;34m\"that'll\"\u001b[0m\u001b[1;33m,\u001b[0m \u001b[1;34m'these'\u001b[0m\u001b[1;33m,\u001b[0m \u001b[1;34m'those'\u001b[0m\u001b[1;33m,\u001b[0m \u001b[1;34m'am'\u001b[0m\u001b[1;33m,\u001b[0m \u001b[1;34m'is'\u001b[0m\u001b[1;33m,\u001b[0m \u001b[1;34m'are'\u001b[0m\u001b[1;33m,\u001b[0m \u001b[1;34m'was'\u001b[0m\u001b[1;33m,\u001b[0m \u001b[1;34m'were'\u001b[0m\u001b[1;33m,\u001b[0m \u001b[1;34m'be'\u001b[0m\u001b[1;33m,\u001b[0m \u001b[1;34m'been'\u001b[0m\u001b[1;33m,\u001b[0m \u001b[1;34m'being'\u001b[0m\u001b[1;33m,\u001b[0m \u001b[1;34m'have'\u001b[0m\u001b[1;33m,\u001b[0m \u001b[1;34m'has'\u001b[0m\u001b[1;33m,\u001b[0m \u001b[1;34m'had'\u001b[0m\u001b[1;33m,\u001b[0m \u001b[1;34m'having'\u001b[0m\u001b[1;33m,\u001b[0m \u001b[1;34m'do'\u001b[0m\u001b[1;33m,\u001b[0m \u001b[1;34m'does'\u001b[0m\u001b[1;33m,\u001b[0m \u001b[1;34m'did'\u001b[0m\u001b[1;33m,\u001b[0m \u001b[1;34m'doing'\u001b[0m\u001b[1;33m,\u001b[0m \u001b[1;34m'a'\u001b[0m\u001b[1;33m,\u001b[0m \u001b[1;34m'an'\u001b[0m\u001b[1;33m,\u001b[0m \u001b[1;34m'the'\u001b[0m\u001b[1;33m,\u001b[0m \u001b[1;34m'and'\u001b[0m\u001b[1;33m,\u001b[0m \u001b[1;34m'but'\u001b[0m\u001b[1;33m,\u001b[0m \u001b[1;34m'if'\u001b[0m\u001b[1;33m,\u001b[0m \u001b[1;34m'or'\u001b[0m\u001b[1;33m,\u001b[0m \u001b[1;34m'because'\u001b[0m\u001b[1;33m,\u001b[0m \u001b[1;34m'as'\u001b[0m\u001b[1;33m,\u001b[0m \u001b[1;34m'until'\u001b[0m\u001b[1;33m,\u001b[0m \u001b[1;34m'while'\u001b[0m\u001b[1;33m,\u001b[0m \u001b[1;34m'of'\u001b[0m\u001b[1;33m,\u001b[0m \u001b[1;34m'at'\u001b[0m\u001b[1;33m,\u001b[0m \u001b[1;34m'by'\u001b[0m\u001b[1;33m,\u001b[0m \u001b[1;34m'for'\u001b[0m\u001b[1;33m,\u001b[0m \u001b[1;34m'with'\u001b[0m\u001b[1;33m,\u001b[0m \u001b[1;34m'about'\u001b[0m\u001b[1;33m,\u001b[0m \u001b[1;34m'against'\u001b[0m\u001b[1;33m,\u001b[0m \u001b[1;34m'between'\u001b[0m\u001b[1;33m,\u001b[0m \u001b[1;34m'into'\u001b[0m\u001b[1;33m,\u001b[0m \u001b[1;34m'through'\u001b[0m\u001b[1;33m,\u001b[0m \u001b[1;34m'during'\u001b[0m\u001b[1;33m,\u001b[0m \u001b[1;34m'before'\u001b[0m\u001b[1;33m,\u001b[0m \u001b[1;34m'after'\u001b[0m\u001b[1;33m,\u001b[0m \u001b[1;34m'above'\u001b[0m\u001b[1;33m,\u001b[0m \u001b[1;34m'below'\u001b[0m\u001b[1;33m,\u001b[0m \u001b[1;34m'to'\u001b[0m\u001b[1;33m,\u001b[0m \u001b[1;34m'from'\u001b[0m\u001b[1;33m,\u001b[0m \u001b[1;34m'up'\u001b[0m\u001b[1;33m,\u001b[0m \u001b[1;34m'down'\u001b[0m\u001b[1;33m,\u001b[0m \u001b[1;34m'in'\u001b[0m\u001b[1;33m,\u001b[0m \u001b[1;34m'out'\u001b[0m\u001b[1;33m,\u001b[0m \u001b[1;34m'on'\u001b[0m\u001b[1;33m,\u001b[0m \u001b[1;34m'off'\u001b[0m\u001b[1;33m,\u001b[0m \u001b[1;34m'over'\u001b[0m\u001b[1;33m,\u001b[0m \u001b[1;34m'under'\u001b[0m\u001b[1;33m,\u001b[0m \u001b[1;34m'again'\u001b[0m\u001b[1;33m,\u001b[0m \u001b[1;34m'further'\u001b[0m\u001b[1;33m,\u001b[0m \u001b[1;34m'then'\u001b[0m\u001b[1;33m,\u001b[0m \u001b[1;34m'once'\u001b[0m\u001b[1;33m,\u001b[0m \u001b[1;34m'here'\u001b[0m\u001b[1;33m,\u001b[0m \u001b[1;34m'there'\u001b[0m\u001b[1;33m,\u001b[0m \u001b[1;34m'when'\u001b[0m\u001b[1;33m,\u001b[0m \u001b[1;34m'where'\u001b[0m\u001b[1;33m,\u001b[0m \u001b[1;34m'why'\u001b[0m\u001b[1;33m,\u001b[0m \u001b[1;34m'how'\u001b[0m\u001b[1;33m,\u001b[0m \u001b[1;34m'all'\u001b[0m\u001b[1;33m,\u001b[0m \u001b[1;34m'any'\u001b[0m\u001b[1;33m,\u001b[0m \u001b[1;34m'both'\u001b[0m\u001b[1;33m,\u001b[0m \u001b[1;34m'each'\u001b[0m\u001b[1;33m,\u001b[0m \u001b[1;34m'few'\u001b[0m\u001b[1;33m,\u001b[0m \u001b[1;34m'more'\u001b[0m\u001b[1;33m,\u001b[0m \u001b[1;34m'most'\u001b[0m\u001b[1;33m,\u001b[0m \u001b[1;34m'other'\u001b[0m\u001b[1;33m,\u001b[0m \u001b[1;34m'some'\u001b[0m\u001b[1;33m,\u001b[0m \u001b[1;34m'such'\u001b[0m\u001b[1;33m,\u001b[0m \u001b[1;34m'no'\u001b[0m\u001b[1;33m,\u001b[0m \u001b[1;34m'nor'\u001b[0m\u001b[1;33m,\u001b[0m \u001b[1;34m'not'\u001b[0m\u001b[1;33m,\u001b[0m \u001b[1;34m'only'\u001b[0m\u001b[1;33m,\u001b[0m \u001b[1;34m'own'\u001b[0m\u001b[1;33m,\u001b[0m \u001b[1;34m'same'\u001b[0m\u001b[1;33m,\u001b[0m \u001b[1;34m'so'\u001b[0m\u001b[1;33m,\u001b[0m \u001b[1;34m'than'\u001b[0m\u001b[1;33m,\u001b[0m \u001b[1;34m'too'\u001b[0m\u001b[1;33m,\u001b[0m \u001b[1;34m'very'\u001b[0m\u001b[1;33m,\u001b[0m \u001b[1;34m's'\u001b[0m\u001b[1;33m,\u001b[0m \u001b[1;34m't'\u001b[0m\u001b[1;33m,\u001b[0m \u001b[1;34m'can'\u001b[0m\u001b[1;33m,\u001b[0m \u001b[1;34m'will'\u001b[0m\u001b[1;33m,\u001b[0m \u001b[1;34m'just'\u001b[0m\u001b[1;33m,\u001b[0m \u001b[1;34m'don'\u001b[0m\u001b[1;33m,\u001b[0m \u001b[1;34m\"don't\"\u001b[0m\u001b[1;33m,\u001b[0m \u001b[1;34m'should'\u001b[0m\u001b[1;33m,\u001b[0m \u001b[1;34m\"should've\"\u001b[0m\u001b[1;33m,\u001b[0m \u001b[1;34m'now'\u001b[0m\u001b[1;33m,\u001b[0m \u001b[1;34m'd'\u001b[0m\u001b[1;33m,\u001b[0m \u001b[1;34m'll'\u001b[0m\u001b[1;33m,\u001b[0m \u001b[1;34m'm'\u001b[0m\u001b[1;33m,\u001b[0m \u001b[1;34m'o'\u001b[0m\u001b[1;33m,\u001b[0m \u001b[1;34m're'\u001b[0m\u001b[1;33m,\u001b[0m \u001b[1;34m've'\u001b[0m\u001b[1;33m,\u001b[0m \u001b[1;34m'y'\u001b[0m\u001b[1;33m,\u001b[0m \u001b[1;34m'ain'\u001b[0m\u001b[1;33m,\u001b[0m \u001b[1;34m'aren'\u001b[0m\u001b[1;33m,\u001b[0m \u001b[1;34m\"aren't\"\u001b[0m\u001b[1;33m,\u001b[0m \u001b[1;34m'couldn'\u001b[0m\u001b[1;33m,\u001b[0m \u001b[1;34m\"couldn't\"\u001b[0m\u001b[1;33m,\u001b[0m \u001b[1;34m'didn'\u001b[0m\u001b[1;33m,\u001b[0m \u001b[1;34m\"didn't\"\u001b[0m\u001b[1;33m,\u001b[0m \u001b[1;34m'doesn'\u001b[0m\u001b[1;33m,\u001b[0m \u001b[1;34m\"doesn't\"\u001b[0m\u001b[1;33m,\u001b[0m \u001b[1;34m'hadn'\u001b[0m\u001b[1;33m,\u001b[0m \u001b[1;34m\"hadn't\"\u001b[0m\u001b[1;33m,\u001b[0m \u001b[1;34m'hasn'\u001b[0m\u001b[1;33m,\u001b[0m \u001b[1;34m\"hasn't\"\u001b[0m\u001b[1;33m,\u001b[0m \u001b[1;34m'haven'\u001b[0m\u001b[1;33m,\u001b[0m \u001b[1;34m\"haven't\"\u001b[0m\u001b[1;33m,\u001b[0m \u001b[1;34m'isn'\u001b[0m\u001b[1;33m,\u001b[0m \u001b[1;34m\"isn't\"\u001b[0m\u001b[1;33m,\u001b[0m \u001b[1;34m'ma'\u001b[0m\u001b[1;33m,\u001b[0m \u001b[1;34m'mightn'\u001b[0m\u001b[1;33m,\u001b[0m \u001b[1;34m\"mightn't\"\u001b[0m\u001b[1;33m,\u001b[0m \u001b[1;34m'mustn'\u001b[0m\u001b[1;33m,\u001b[0m \u001b[1;34m\"mustn't\"\u001b[0m\u001b[1;33m,\u001b[0m \u001b[1;34m'needn'\u001b[0m\u001b[1;33m,\u001b[0m \u001b[1;34m\"needn't\"\u001b[0m\u001b[1;33m,\u001b[0m \u001b[1;34m'shan'\u001b[0m\u001b[1;33m,\u001b[0m \u001b[1;34m\"shan't\"\u001b[0m\u001b[1;33m,\u001b[0m \u001b[1;34m'shouldn'\u001b[0m\u001b[1;33m,\u001b[0m \u001b[1;34m\"shouldn't\"\u001b[0m\u001b[1;33m,\u001b[0m \u001b[1;34m'wasn'\u001b[0m\u001b[1;33m,\u001b[0m \u001b[1;34m\"wasn't\"\u001b[0m\u001b[1;33m,\u001b[0m \u001b[1;34m'weren'\u001b[0m\u001b[1;33m,\u001b[0m \u001b[1;34m\"weren't\"\u001b[0m\u001b[1;33m,\u001b[0m \u001b[1;34m'won'\u001b[0m\u001b[1;33m,\u001b[0m \u001b[1;34m\"won't\"\u001b[0m\u001b[1;33m,\u001b[0m \u001b[1;34m'wouldn'\u001b[0m\u001b[1;33m,\u001b[0m \u001b[1;34m\"wouldn't\"\u001b[0m\u001b[1;33m]\u001b[0m\u001b[1;33m,\u001b[0m\u001b[1;33m\n",
       "\u001b[0m\u001b[1;33m)\u001b[0m\u001b[1;33m\u001b[0m\u001b[1;33m\u001b[0m\u001b[0m\n",
       "\u001b[1;31mDocstring:\u001b[0m <no docstring>\n",
       "\u001b[1;31mSource:\u001b[0m   \n",
       "\u001b[1;32mdef\u001b[0m \u001b[0mtext_cleantext\u001b[0m\u001b[1;33m(\u001b[0m\u001b[0mtext\u001b[0m\u001b[1;33m,\u001b[0m \u001b[0mstopwords\u001b[0m\u001b[1;33m=\u001b[0m\u001b[0mstopwords\u001b[0m\u001b[1;33m.\u001b[0m\u001b[0mwords\u001b[0m\u001b[1;33m(\u001b[0m\u001b[1;34m'english'\u001b[0m\u001b[1;33m)\u001b[0m\u001b[1;33m)\u001b[0m\u001b[1;33m:\u001b[0m\u001b[1;33m\n",
       "\u001b[0m    \u001b[0mtoken\u001b[0m \u001b[1;33m=\u001b[0m \u001b[0mword_tokenize\u001b[0m\u001b[1;33m(\u001b[0m\u001b[0mtext\u001b[0m\u001b[1;33m.\u001b[0m\u001b[0mlower\u001b[0m\u001b[1;33m(\u001b[0m\u001b[1;33m)\u001b[0m\u001b[1;33m)\u001b[0m\u001b[1;33m\n",
       "\u001b[0m    \u001b[0mword_token\u001b[0m \u001b[1;33m=\u001b[0m \u001b[1;33m[\u001b[0m\u001b[0mt\u001b[0m \u001b[1;32mfor\u001b[0m \u001b[0mt\u001b[0m \u001b[1;32min\u001b[0m \u001b[0mtoken\u001b[0m \u001b[1;32mif\u001b[0m \u001b[0mt\u001b[0m\u001b[1;33m.\u001b[0m\u001b[0misalpha\u001b[0m\u001b[1;33m(\u001b[0m\u001b[1;33m)\u001b[0m\u001b[1;33m]\u001b[0m\u001b[1;33m\n",
       "\u001b[0m    \u001b[0mclean_token\u001b[0m \u001b[1;33m=\u001b[0m \u001b[1;33m[\u001b[0m\u001b[0mt\u001b[0m \u001b[1;32mfor\u001b[0m \u001b[0mt\u001b[0m \u001b[1;32min\u001b[0m \u001b[0mword_token\u001b[0m \u001b[1;32mif\u001b[0m \u001b[0mt\u001b[0m \u001b[1;32mnot\u001b[0m \u001b[1;32min\u001b[0m \u001b[0mstopwords\u001b[0m\u001b[1;33m]\u001b[0m\u001b[1;33m\n",
       "\u001b[0m    \u001b[0mlemma_token\u001b[0m \u001b[1;33m=\u001b[0m \u001b[1;33m[\u001b[0m\u001b[0mle\u001b[0m\u001b[1;33m.\u001b[0m\u001b[0mlemmatize\u001b[0m\u001b[1;33m(\u001b[0m\u001b[0mt\u001b[0m\u001b[1;33m)\u001b[0m \u001b[1;32mfor\u001b[0m \u001b[0mt\u001b[0m \u001b[1;32min\u001b[0m \u001b[0mclean_token\u001b[0m\u001b[1;33m]\u001b[0m\u001b[1;33m\n",
       "\u001b[0m    \u001b[1;32mreturn\u001b[0m \u001b[1;34m' '\u001b[0m\u001b[1;33m.\u001b[0m\u001b[0mjoin\u001b[0m\u001b[1;33m(\u001b[0m\u001b[0mlemma_token\u001b[0m\u001b[1;33m)\u001b[0m\u001b[1;33m\u001b[0m\u001b[1;33m\u001b[0m\u001b[0m\n",
       "\u001b[1;31mFile:\u001b[0m      c:\\users\\inder\\desktop\\projects\\project - sentiment analysis\\mymlfunctions.py\n",
       "\u001b[1;31mType:\u001b[0m      function\n"
      ]
     },
     "metadata": {},
     "output_type": "display_data"
    }
   ],
   "source": [
    "mmf.text_cleantext??"
   ]
  },
  {
   "cell_type": "code",
   "execution_count": 2,
   "id": "b3f1d26e-5d9c-4d93-8800-3a00d95c91cd",
   "metadata": {},
   "outputs": [],
   "source": [
    "def cleanText(txt):\n",
    "    txt = re.sub(r'@[A-Za-z0-9]+', '', txt)\n",
    "    txt = re.sub(r'#', '',txt)\n",
    "    txt = re.sub(r'RT[\\s]+','',txt)\n",
    "    txt = re.sub(r'https?:\\/\\/\\S+','', txt)\n",
    "    return txt"
   ]
  },
  {
   "cell_type": "code",
   "execution_count": 62,
   "id": "07c87cf1-d9d4-4c3f-8377-da5d305b2d91",
   "metadata": {},
   "outputs": [
    {
     "data": {
      "image/png": "[encoded data removed]",
      "text/plain": [
       "<Figure size 936x432 with 1 Axes>"
      ]
     },
     "metadata": {
      "needs_background": "light"
     },
     "output_type": "display_data"
    }
   ],
   "source": [
    "mmf.missingdata(df)"
   ]
  },
  {
   "cell_type": "code",
   "execution_count": 63,
   "id": "a1e42417-446b-41ba-8470-ae99bfb924ef",
   "metadata": {},
   "outputs": [
    {
     "data": {
      "text/plain": [
       "[165579, 213931, 264315, 281963, 355666, 489224]"
      ]
     },
     "execution_count": 63,
     "metadata": {},
     "output_type": "execute_result"
    }
   ],
   "source": [
    "blank = []\n",
    "for i in range(len(df)):\n",
    "    try:\n",
    "        if df.original_text[i].lower() in ['',' ','na']:\n",
    "            blank.append(i)\n",
    "    except:\n",
    "        blank.append(i)\n",
    "blank"
   ]
  },
  {
   "cell_type": "code",
   "execution_count": 64,
   "id": "5f6b7208-56d5-4173-a63c-60b09638f569",
   "metadata": {},
   "outputs": [],
   "source": [
    "df.dropna(inplace=True)\n",
    "# df.drop(blank,inplace=True)"
   ]
  },
  {
   "cell_type": "code",
   "execution_count": 65,
   "id": "dc2a0896-9255-46c3-aa57-2b6e2950a4f8",
   "metadata": {},
   "outputs": [
    {
     "data": {
      "text/html": [
       "<div>\n",
       "<style scoped>\n",
       "    .dataframe tbody tr th:only-of-type {\n",
       "        vertical-align: middle;\n",
       "    }\n",
       "\n",
       "    .dataframe tbody tr th {\n",
       "        vertical-align: top;\n",
       "    }\n",
       "\n",
       "    .dataframe thead th {\n",
       "        text-align: right;\n",
       "    }\n",
       "</style>\n",
       "<table border=\"1\" class=\"dataframe\">\n",
       "  <thead>\n",
       "    <tr style=\"text-align: right;\">\n",
       "      <th></th>\n",
       "      <th>original_text</th>\n",
       "      <th>clean_text</th>\n",
       "    </tr>\n",
       "  </thead>\n",
       "  <tbody>\n",
       "    <tr>\n",
       "      <th>0</th>\n",
       "      <td>RT @RobertAlai: 91-year-old Ex-Vice President ...</td>\n",
       "      <td>: 91-year-old Ex-Vice President Moody Awori La...</td>\n",
       "    </tr>\n",
       "    <tr>\n",
       "      <th>1</th>\n",
       "      <td>RT @cnnphilippines: BREAKING: The Department o...</td>\n",
       "      <td>: BREAKING: The Department of Health reports 4...</td>\n",
       "    </tr>\n",
       "    <tr>\n",
       "      <th>2</th>\n",
       "      <td>RT @latestly: #SidharthShukla Helps Out Fan Wh...</td>\n",
       "      <td>: SidharthShukla Helps Out Fan Who Requested H...</td>\n",
       "    </tr>\n",
       "    <tr>\n",
       "      <th>3</th>\n",
       "      <td>Lending Club loan originations down 90% ... bu...</td>\n",
       "      <td>Lending Club loan originations down 90% ... bu...</td>\n",
       "    </tr>\n",
       "    <tr>\n",
       "      <th>4</th>\n",
       "      <td>RT @OpIndia_com: Curious case of ‘United Natio...</td>\n",
       "      <td>_com: Curious case of ‘United Nations’ NGO app...</td>\n",
       "    </tr>\n",
       "  </tbody>\n",
       "</table>\n",
       "</div>"
      ],
      "text/plain": [
       "                                       original_text  \\\n",
       "0  RT @RobertAlai: 91-year-old Ex-Vice President ...   \n",
       "1  RT @cnnphilippines: BREAKING: The Department o...   \n",
       "2  RT @latestly: #SidharthShukla Helps Out Fan Wh...   \n",
       "3  Lending Club loan originations down 90% ... bu...   \n",
       "4  RT @OpIndia_com: Curious case of ‘United Natio...   \n",
       "\n",
       "                                          clean_text  \n",
       "0  : 91-year-old Ex-Vice President Moody Awori La...  \n",
       "1  : BREAKING: The Department of Health reports 4...  \n",
       "2  : SidharthShukla Helps Out Fan Who Requested H...  \n",
       "3  Lending Club loan originations down 90% ... bu...  \n",
       "4  _com: Curious case of ‘United Nations’ NGO app...  "
      ]
     },
     "execution_count": 65,
     "metadata": {},
     "output_type": "execute_result"
    }
   ],
   "source": [
    "df['clean_text'] = df.original_text.apply(cleanText)\n",
    "df.head()"
   ]
  },
  {
   "cell_type": "code",
   "execution_count": 66,
   "id": "80088006-9d5f-4a41-9afe-73dbdba157e7",
   "metadata": {},
   "outputs": [
    {
     "name": "stdout",
     "output_type": "stream",
     "text": [
      "Wall time: 1min 34s\n"
     ]
    },
    {
     "data": {
      "text/html": [
       "<div>\n",
       "<style scoped>\n",
       "    .dataframe tbody tr th:only-of-type {\n",
       "        vertical-align: middle;\n",
       "    }\n",
       "\n",
       "    .dataframe tbody tr th {\n",
       "        vertical-align: top;\n",
       "    }\n",
       "\n",
       "    .dataframe thead th {\n",
       "        text-align: right;\n",
       "    }\n",
       "</style>\n",
       "<table border=\"1\" class=\"dataframe\">\n",
       "  <thead>\n",
       "    <tr style=\"text-align: right;\">\n",
       "      <th></th>\n",
       "      <th>original_text</th>\n",
       "      <th>clean_text</th>\n",
       "    </tr>\n",
       "  </thead>\n",
       "  <tbody>\n",
       "    <tr>\n",
       "      <th>0</th>\n",
       "      <td>RT @RobertAlai: 91-year-old Ex-Vice President ...</td>\n",
       "      <td>president moody awori land inter county commit...</td>\n",
       "    </tr>\n",
       "    <tr>\n",
       "      <th>1</th>\n",
       "      <td>RT @cnnphilippines: BREAKING: The Department o...</td>\n",
       "      <td>breaking department health report people caugh...</td>\n",
       "    </tr>\n",
       "    <tr>\n",
       "      <th>2</th>\n",
       "      <td>RT @latestly: #SidharthShukla Helps Out Fan Wh...</td>\n",
       "      <td>sidharthshukla help fan requested help arrange...</td>\n",
       "    </tr>\n",
       "    <tr>\n",
       "      <th>3</th>\n",
       "      <td>Lending Club loan originations down 90% ... bu...</td>\n",
       "      <td>lending club loan origination hey bank</td>\n",
       "    </tr>\n",
       "    <tr>\n",
       "      <th>4</th>\n",
       "      <td>RT @OpIndia_com: Curious case of ‘United Natio...</td>\n",
       "      <td>curious case united nation ngo appreciating ki...</td>\n",
       "    </tr>\n",
       "  </tbody>\n",
       "</table>\n",
       "</div>"
      ],
      "text/plain": [
       "                                       original_text  \\\n",
       "0  RT @RobertAlai: 91-year-old Ex-Vice President ...   \n",
       "1  RT @cnnphilippines: BREAKING: The Department o...   \n",
       "2  RT @latestly: #SidharthShukla Helps Out Fan Wh...   \n",
       "3  Lending Club loan originations down 90% ... bu...   \n",
       "4  RT @OpIndia_com: Curious case of ‘United Natio...   \n",
       "\n",
       "                                          clean_text  \n",
       "0  president moody awori land inter county commit...  \n",
       "1  breaking department health report people caugh...  \n",
       "2  sidharthshukla help fan requested help arrange...  \n",
       "3             lending club loan origination hey bank  \n",
       "4  curious case united nation ngo appreciating ki...  "
      ]
     },
     "execution_count": 66,
     "metadata": {},
     "output_type": "execute_result"
    }
   ],
   "source": [
    "%%time\n",
    "df.clean_text = df.clean_text.apply(mmf.text_cleantext)\n",
    "df.head()"
   ]
  },
  {
   "cell_type": "code",
   "execution_count": 67,
   "id": "b52af9aa-a068-43fb-be33-07ab03b9a400",
   "metadata": {},
   "outputs": [],
   "source": [
    "sia = SentimentIntensityAnalyzer()"
   ]
  },
  {
   "cell_type": "code",
   "execution_count": 3,
   "id": "c83d62e5-9178-437a-bb89-5644d0ff6ad6",
   "metadata": {},
   "outputs": [],
   "source": [
    "def getSentiment(txt):\n",
    "    score = sia.polarity_scores(txt)\n",
    "    if score['compound']>.5:\n",
    "        return 'highly positive'\n",
    "    elif score['compound']>0:\n",
    "        return 'positive'\n",
    "    elif score['compound']==0:\n",
    "        return 'neutral'\n",
    "    elif score['compound']>=-.5:\n",
    "        return 'negative'\n",
    "    else:\n",
    "        return 'highly negative'"
   ]
  },
  {
   "cell_type": "code",
   "execution_count": 69,
   "id": "f8040f18-6b27-4212-a82d-0eb228624f85",
   "metadata": {},
   "outputs": [
    {
     "name": "stdout",
     "output_type": "stream",
     "text": [
      "Wall time: 50.3 s\n"
     ]
    },
    {
     "data": {
      "text/html": [
       "<div>\n",
       "<style scoped>\n",
       "    .dataframe tbody tr th:only-of-type {\n",
       "        vertical-align: middle;\n",
       "    }\n",
       "\n",
       "    .dataframe tbody tr th {\n",
       "        vertical-align: top;\n",
       "    }\n",
       "\n",
       "    .dataframe thead th {\n",
       "        text-align: right;\n",
       "    }\n",
       "</style>\n",
       "<table border=\"1\" class=\"dataframe\">\n",
       "  <thead>\n",
       "    <tr style=\"text-align: right;\">\n",
       "      <th></th>\n",
       "      <th>original_text</th>\n",
       "      <th>clean_text</th>\n",
       "      <th>sentiment</th>\n",
       "    </tr>\n",
       "  </thead>\n",
       "  <tbody>\n",
       "    <tr>\n",
       "      <th>0</th>\n",
       "      <td>RT @RobertAlai: 91-year-old Ex-Vice President ...</td>\n",
       "      <td>president moody awori land inter county commit...</td>\n",
       "      <td>negative</td>\n",
       "    </tr>\n",
       "    <tr>\n",
       "      <th>1</th>\n",
       "      <td>RT @cnnphilippines: BREAKING: The Department o...</td>\n",
       "      <td>breaking department health report people caugh...</td>\n",
       "      <td>neutral</td>\n",
       "    </tr>\n",
       "    <tr>\n",
       "      <th>2</th>\n",
       "      <td>RT @latestly: #SidharthShukla Helps Out Fan Wh...</td>\n",
       "      <td>sidharthshukla help fan requested help arrange...</td>\n",
       "      <td>highly positive</td>\n",
       "    </tr>\n",
       "    <tr>\n",
       "      <th>3</th>\n",
       "      <td>Lending Club loan originations down 90% ... bu...</td>\n",
       "      <td>lending club loan origination hey bank</td>\n",
       "      <td>neutral</td>\n",
       "    </tr>\n",
       "    <tr>\n",
       "      <th>4</th>\n",
       "      <td>RT @OpIndia_com: Curious case of ‘United Natio...</td>\n",
       "      <td>curious case united nation ngo appreciating ki...</td>\n",
       "      <td>highly positive</td>\n",
       "    </tr>\n",
       "  </tbody>\n",
       "</table>\n",
       "</div>"
      ],
      "text/plain": [
       "                                       original_text  \\\n",
       "0  RT @RobertAlai: 91-year-old Ex-Vice President ...   \n",
       "1  RT @cnnphilippines: BREAKING: The Department o...   \n",
       "2  RT @latestly: #SidharthShukla Helps Out Fan Wh...   \n",
       "3  Lending Club loan originations down 90% ... bu...   \n",
       "4  RT @OpIndia_com: Curious case of ‘United Natio...   \n",
       "\n",
       "                                          clean_text        sentiment  \n",
       "0  president moody awori land inter county commit...         negative  \n",
       "1  breaking department health report people caugh...          neutral  \n",
       "2  sidharthshukla help fan requested help arrange...  highly positive  \n",
       "3             lending club loan origination hey bank          neutral  \n",
       "4  curious case united nation ngo appreciating ki...  highly positive  "
      ]
     },
     "execution_count": 69,
     "metadata": {},
     "output_type": "execute_result"
    }
   ],
   "source": [
    "%%time\n",
    "df['sentiment'] = df.clean_text.apply(getSentiment)\n",
    "df.head()"
   ]
  },
  {
   "cell_type": "code",
   "execution_count": 70,
   "id": "b1e9deb7-2964-490b-8d68-51fea3627e5d",
   "metadata": {},
   "outputs": [
    {
     "data": {
      "text/html": [
       "<div>\n",
       "<style scoped>\n",
       "    .dataframe tbody tr th:only-of-type {\n",
       "        vertical-align: middle;\n",
       "    }\n",
       "\n",
       "    .dataframe tbody tr th {\n",
       "        vertical-align: top;\n",
       "    }\n",
       "\n",
       "    .dataframe thead th {\n",
       "        text-align: right;\n",
       "    }\n",
       "</style>\n",
       "<table border=\"1\" class=\"dataframe\">\n",
       "  <thead>\n",
       "    <tr style=\"text-align: right;\">\n",
       "      <th></th>\n",
       "      <th>original_text</th>\n",
       "      <th>clean_text</th>\n",
       "      <th>sentiment</th>\n",
       "    </tr>\n",
       "  </thead>\n",
       "  <tbody>\n",
       "    <tr>\n",
       "      <th>1</th>\n",
       "      <td>RT @cnnphilippines: BREAKING: The Department o...</td>\n",
       "      <td>breaking department health report people caugh...</td>\n",
       "      <td>neutral</td>\n",
       "    </tr>\n",
       "    <tr>\n",
       "      <th>3</th>\n",
       "      <td>Lending Club loan originations down 90% ... bu...</td>\n",
       "      <td>lending club loan origination hey bank</td>\n",
       "      <td>neutral</td>\n",
       "    </tr>\n",
       "    <tr>\n",
       "      <th>8</th>\n",
       "      <td>RT @EdinburghTrams: Did you know you can buy y...</td>\n",
       "      <td>know buy tram ticket advance also download</td>\n",
       "      <td>neutral</td>\n",
       "    </tr>\n",
       "    <tr>\n",
       "      <th>9</th>\n",
       "      <td>RT @SynergyMobile: England’s revamped contact-...</td>\n",
       "      <td>england revamped app enters public trial engla...</td>\n",
       "      <td>neutral</td>\n",
       "    </tr>\n",
       "    <tr>\n",
       "      <th>12</th>\n",
       "      <td>RT @Jess_Gagnon: #COVID19 contact tracing unde...</td>\n",
       "      <td>contact tracing underway seven glasgow school ...</td>\n",
       "      <td>neutral</td>\n",
       "    </tr>\n",
       "    <tr>\n",
       "      <th>...</th>\n",
       "      <td>...</td>\n",
       "      <td>...</td>\n",
       "      <td>...</td>\n",
       "    </tr>\n",
       "    <tr>\n",
       "      <th>555547</th>\n",
       "      <td>RT @demetriachavon: A little wake up call for ...</td>\n",
       "      <td>little wake call wearing mask cousin checked h...</td>\n",
       "      <td>neutral</td>\n",
       "    </tr>\n",
       "    <tr>\n",
       "      <th>555549</th>\n",
       "      <td>RT @demetriachavon: A little wake up call for ...</td>\n",
       "      <td>little wake call wearing mask cousin checked h...</td>\n",
       "      <td>neutral</td>\n",
       "    </tr>\n",
       "    <tr>\n",
       "      <th>555552</th>\n",
       "      <td>Another meat processing outbreak - this time i...</td>\n",
       "      <td>another meat processing outbreak time u</td>\n",
       "      <td>neutral</td>\n",
       "    </tr>\n",
       "    <tr>\n",
       "      <th>555553</th>\n",
       "      <td>RT @HonorDecency: We knew Covid-19 would be sp...</td>\n",
       "      <td>knew would spread trump else rally today know ...</td>\n",
       "      <td>neutral</td>\n",
       "    </tr>\n",
       "    <tr>\n",
       "      <th>555554</th>\n",
       "      <td>RT @EugeneDaniels2: President Trump is set to ...</td>\n",
       "      <td>president trump set take half hour oklahoma ra...</td>\n",
       "      <td>neutral</td>\n",
       "    </tr>\n",
       "  </tbody>\n",
       "</table>\n",
       "<p>146476 rows × 3 columns</p>\n",
       "</div>"
      ],
      "text/plain": [
       "                                            original_text  \\\n",
       "1       RT @cnnphilippines: BREAKING: The Department o...   \n",
       "3       Lending Club loan originations down 90% ... bu...   \n",
       "8       RT @EdinburghTrams: Did you know you can buy y...   \n",
       "9       RT @SynergyMobile: England’s revamped contact-...   \n",
       "12      RT @Jess_Gagnon: #COVID19 contact tracing unde...   \n",
       "...                                                   ...   \n",
       "555547  RT @demetriachavon: A little wake up call for ...   \n",
       "555549  RT @demetriachavon: A little wake up call for ...   \n",
       "555552  Another meat processing outbreak - this time i...   \n",
       "555553  RT @HonorDecency: We knew Covid-19 would be sp...   \n",
       "555554  RT @EugeneDaniels2: President Trump is set to ...   \n",
       "\n",
       "                                               clean_text sentiment  \n",
       "1       breaking department health report people caugh...   neutral  \n",
       "3                  lending club loan origination hey bank   neutral  \n",
       "8              know buy tram ticket advance also download   neutral  \n",
       "9       england revamped app enters public trial engla...   neutral  \n",
       "12      contact tracing underway seven glasgow school ...   neutral  \n",
       "...                                                   ...       ...  \n",
       "555547  little wake call wearing mask cousin checked h...   neutral  \n",
       "555549  little wake call wearing mask cousin checked h...   neutral  \n",
       "555552            another meat processing outbreak time u   neutral  \n",
       "555553  knew would spread trump else rally today know ...   neutral  \n",
       "555554  president trump set take half hour oklahoma ra...   neutral  \n",
       "\n",
       "[146476 rows x 3 columns]"
      ]
     },
     "execution_count": 70,
     "metadata": {},
     "output_type": "execute_result"
    }
   ],
   "source": [
    "df[df.sentiment=='neutral']"
   ]
  },
  {
   "cell_type": "code",
   "execution_count": 71,
   "id": "c8b2cb4b-42aa-4c0c-ad29-27103c064597",
   "metadata": {},
   "outputs": [
    {
     "data": {
      "text/plain": [
       "Sentiment(polarity=0.0, subjectivity=0.0)"
      ]
     },
     "execution_count": 71,
     "metadata": {},
     "output_type": "execute_result"
    }
   ],
   "source": [
    "TextBlob('hello').sentiment"
   ]
  },
  {
   "cell_type": "code",
   "execution_count": 4,
   "id": "71cc12b0-b2e5-40ed-b6a2-778929d79db3",
   "metadata": {},
   "outputs": [],
   "source": [
    "def getSubjectivity(txt):\n",
    "    testimonial = TextBlob(txt)\n",
    "    if testimonial.sentiment.subjectivity > .5:\n",
    "        return 'highly personal'\n",
    "    else:\n",
    "        return 'not so personal'"
   ]
  },
  {
   "cell_type": "code",
   "execution_count": 73,
   "id": "f30844dc-9736-401a-bac0-a57d68762050",
   "metadata": {},
   "outputs": [
    {
     "name": "stdout",
     "output_type": "stream",
     "text": [
      "Wall time: 51.7 s\n"
     ]
    },
    {
     "data": {
      "text/html": [
       "<div>\n",
       "<style scoped>\n",
       "    .dataframe tbody tr th:only-of-type {\n",
       "        vertical-align: middle;\n",
       "    }\n",
       "\n",
       "    .dataframe tbody tr th {\n",
       "        vertical-align: top;\n",
       "    }\n",
       "\n",
       "    .dataframe thead th {\n",
       "        text-align: right;\n",
       "    }\n",
       "</style>\n",
       "<table border=\"1\" class=\"dataframe\">\n",
       "  <thead>\n",
       "    <tr style=\"text-align: right;\">\n",
       "      <th></th>\n",
       "      <th>original_text</th>\n",
       "      <th>clean_text</th>\n",
       "      <th>sentiment</th>\n",
       "      <th>subjectivity</th>\n",
       "    </tr>\n",
       "  </thead>\n",
       "  <tbody>\n",
       "    <tr>\n",
       "      <th>0</th>\n",
       "      <td>RT @RobertAlai: 91-year-old Ex-Vice President ...</td>\n",
       "      <td>president moody awori land inter county commit...</td>\n",
       "      <td>negative</td>\n",
       "      <td>not so personal</td>\n",
       "    </tr>\n",
       "    <tr>\n",
       "      <th>1</th>\n",
       "      <td>RT @cnnphilippines: BREAKING: The Department o...</td>\n",
       "      <td>breaking department health report people caugh...</td>\n",
       "      <td>neutral</td>\n",
       "      <td>not so personal</td>\n",
       "    </tr>\n",
       "    <tr>\n",
       "      <th>2</th>\n",
       "      <td>RT @latestly: #SidharthShukla Helps Out Fan Wh...</td>\n",
       "      <td>sidharthshukla help fan requested help arrange...</td>\n",
       "      <td>highly positive</td>\n",
       "      <td>highly personal</td>\n",
       "    </tr>\n",
       "    <tr>\n",
       "      <th>3</th>\n",
       "      <td>Lending Club loan originations down 90% ... bu...</td>\n",
       "      <td>lending club loan origination hey bank</td>\n",
       "      <td>neutral</td>\n",
       "      <td>not so personal</td>\n",
       "    </tr>\n",
       "    <tr>\n",
       "      <th>4</th>\n",
       "      <td>RT @OpIndia_com: Curious case of ‘United Natio...</td>\n",
       "      <td>curious case united nation ngo appreciating ki...</td>\n",
       "      <td>highly positive</td>\n",
       "      <td>highly personal</td>\n",
       "    </tr>\n",
       "  </tbody>\n",
       "</table>\n",
       "</div>"
      ],
      "text/plain": [
       "                                       original_text  \\\n",
       "0  RT @RobertAlai: 91-year-old Ex-Vice President ...   \n",
       "1  RT @cnnphilippines: BREAKING: The Department o...   \n",
       "2  RT @latestly: #SidharthShukla Helps Out Fan Wh...   \n",
       "3  Lending Club loan originations down 90% ... bu...   \n",
       "4  RT @OpIndia_com: Curious case of ‘United Natio...   \n",
       "\n",
       "                                          clean_text        sentiment  \\\n",
       "0  president moody awori land inter county commit...         negative   \n",
       "1  breaking department health report people caugh...          neutral   \n",
       "2  sidharthshukla help fan requested help arrange...  highly positive   \n",
       "3             lending club loan origination hey bank          neutral   \n",
       "4  curious case united nation ngo appreciating ki...  highly positive   \n",
       "\n",
       "      subjectivity  \n",
       "0  not so personal  \n",
       "1  not so personal  \n",
       "2  highly personal  \n",
       "3  not so personal  \n",
       "4  highly personal  "
      ]
     },
     "execution_count": 73,
     "metadata": {},
     "output_type": "execute_result"
    }
   ],
   "source": [
    "%%time\n",
    "df['subjectivity'] = df.clean_text.apply(getSubjectivity)\n",
    "df.head()"
   ]
  },
  {
   "cell_type": "code",
   "execution_count": 74,
   "id": "6aa3721a-bd91-42ae-907f-8ad022f9232b",
   "metadata": {},
   "outputs": [
    {
     "name": "stdout",
     "output_type": "stream",
     "text": [
      "Wall time: 1min 14s\n"
     ]
    },
    {
     "data": {
      "text/html": [
       "<div>\n",
       "<style scoped>\n",
       "    .dataframe tbody tr th:only-of-type {\n",
       "        vertical-align: middle;\n",
       "    }\n",
       "\n",
       "    .dataframe tbody tr th {\n",
       "        vertical-align: top;\n",
       "    }\n",
       "\n",
       "    .dataframe thead th {\n",
       "        text-align: right;\n",
       "    }\n",
       "</style>\n",
       "<table border=\"1\" class=\"dataframe\">\n",
       "  <thead>\n",
       "    <tr style=\"text-align: right;\">\n",
       "      <th></th>\n",
       "      <th>original_text</th>\n",
       "      <th>clean_text</th>\n",
       "      <th>sentiment</th>\n",
       "      <th>subjectivity</th>\n",
       "      <th>sentance_len</th>\n",
       "    </tr>\n",
       "  </thead>\n",
       "  <tbody>\n",
       "    <tr>\n",
       "      <th>0</th>\n",
       "      <td>RT @RobertAlai: 91-year-old Ex-Vice President ...</td>\n",
       "      <td>president moody awori land inter county commit...</td>\n",
       "      <td>negative</td>\n",
       "      <td>not so personal</td>\n",
       "      <td>18</td>\n",
       "    </tr>\n",
       "    <tr>\n",
       "      <th>1</th>\n",
       "      <td>RT @cnnphilippines: BREAKING: The Department o...</td>\n",
       "      <td>breaking department health report people caugh...</td>\n",
       "      <td>neutral</td>\n",
       "      <td>not so personal</td>\n",
       "      <td>24</td>\n",
       "    </tr>\n",
       "    <tr>\n",
       "      <th>2</th>\n",
       "      <td>RT @latestly: #SidharthShukla Helps Out Fan Wh...</td>\n",
       "      <td>sidharthshukla help fan requested help arrange...</td>\n",
       "      <td>highly positive</td>\n",
       "      <td>highly personal</td>\n",
       "      <td>29</td>\n",
       "    </tr>\n",
       "    <tr>\n",
       "      <th>3</th>\n",
       "      <td>Lending Club loan originations down 90% ... bu...</td>\n",
       "      <td>lending club loan origination hey bank</td>\n",
       "      <td>neutral</td>\n",
       "      <td>not so personal</td>\n",
       "      <td>19</td>\n",
       "    </tr>\n",
       "    <tr>\n",
       "      <th>4</th>\n",
       "      <td>RT @OpIndia_com: Curious case of ‘United Natio...</td>\n",
       "      <td>curious case united nation ngo appreciating ki...</td>\n",
       "      <td>highly positive</td>\n",
       "      <td>highly personal</td>\n",
       "      <td>27</td>\n",
       "    </tr>\n",
       "  </tbody>\n",
       "</table>\n",
       "</div>"
      ],
      "text/plain": [
       "                                       original_text  \\\n",
       "0  RT @RobertAlai: 91-year-old Ex-Vice President ...   \n",
       "1  RT @cnnphilippines: BREAKING: The Department o...   \n",
       "2  RT @latestly: #SidharthShukla Helps Out Fan Wh...   \n",
       "3  Lending Club loan originations down 90% ... bu...   \n",
       "4  RT @OpIndia_com: Curious case of ‘United Natio...   \n",
       "\n",
       "                                          clean_text        sentiment  \\\n",
       "0  president moody awori land inter county commit...         negative   \n",
       "1  breaking department health report people caugh...          neutral   \n",
       "2  sidharthshukla help fan requested help arrange...  highly positive   \n",
       "3             lending club loan origination hey bank          neutral   \n",
       "4  curious case united nation ngo appreciating ki...  highly positive   \n",
       "\n",
       "      subjectivity  sentance_len  \n",
       "0  not so personal            18  \n",
       "1  not so personal            24  \n",
       "2  highly personal            29  \n",
       "3  not so personal            19  \n",
       "4  highly personal            27  "
      ]
     },
     "execution_count": 74,
     "metadata": {},
     "output_type": "execute_result"
    }
   ],
   "source": [
    "%%time\n",
    "df['sentance_len'] = df.original_text.apply(lambda x : len(word_tokenize(x)))\n",
    "df.head()"
   ]
  },
  {
   "cell_type": "code",
   "execution_count": 21,
   "id": "11b47a77-8671-4cda-a20d-4cfcd13ba642",
   "metadata": {},
   "outputs": [],
   "source": [
    "# df.to_csv('clean_unsupervised.csv', index=False)\n",
    "df = pd.read_csv('clean_unsupervised.csv')\n",
    "df.dropna(inplace=True)"
   ]
  },
  {
   "cell_type": "code",
   "execution_count": 25,
   "id": "6d2eed89-eb6c-4e79-ab74-163d5b1dd6fa",
   "metadata": {},
   "outputs": [],
   "source": [
    "def getSubjectivity(txt):\n",
    "    testimonial = TextBlob(txt)\n",
    "    if testimonial.sentiment.subjectivity > .5:\n",
    "        return 'highly personal'\n",
    "    else:\n",
    "        return 'not so personal'\n",
    "\n",
    "def getSentiment(txt):\n",
    "    score = sia.polarity_scores(txt)\n",
    "    if score['compound']>.5:\n",
    "        return 'highly positive'\n",
    "    elif score['compound']>0:\n",
    "        return 'positive'\n",
    "    elif score['compound']==0:\n",
    "        return 'neutral'\n",
    "    elif score['compound']>=-.5:\n",
    "        return 'negative'\n",
    "    else:\n",
    "        return 'highly negative'\n",
    "\n",
    "def cleanText(txt):\n",
    "    txt = re.sub(r'@[A-Za-z0-9]+', '', txt)\n",
    "    txt = re.sub(r'#', '',txt)\n",
    "    txt = re.sub(r'RT[\\s]+','',txt)\n",
    "    txt = re.sub(r'https?:\\/\\/\\S+','', txt)\n",
    "    return txt\n",
    "\n",
    "def model_accuracy(model,xtest,ytest):\n",
    "    ypred = model.predict(xtest)\n",
    "    length = len(ytest)\n",
    "    ylabel = np.argmax(ytest,axis=1)\n",
    "    yplabel = np.argmax(ypred,axis=1)\n",
    "    return mmf.classificationReport(ylabel,yplabel)\n",
    "\n"
   ]
  },
  {
   "cell_type": "code",
   "execution_count": 23,
   "id": "e83104b3-ab70-47fd-8f79-61752f3c2f5c",
   "metadata": {},
   "outputs": [
    {
     "data": {
      "text/html": [
       "<div>\n",
       "<style scoped>\n",
       "    .dataframe tbody tr th:only-of-type {\n",
       "        vertical-align: middle;\n",
       "    }\n",
       "\n",
       "    .dataframe tbody tr th {\n",
       "        vertical-align: top;\n",
       "    }\n",
       "\n",
       "    .dataframe thead th {\n",
       "        text-align: right;\n",
       "    }\n",
       "</style>\n",
       "<table border=\"1\" class=\"dataframe\">\n",
       "  <thead>\n",
       "    <tr style=\"text-align: right;\">\n",
       "      <th></th>\n",
       "      <th>original_text</th>\n",
       "      <th>clean_text</th>\n",
       "      <th>sentiment</th>\n",
       "      <th>subjectivity</th>\n",
       "      <th>sentance_len</th>\n",
       "    </tr>\n",
       "  </thead>\n",
       "  <tbody>\n",
       "    <tr>\n",
       "      <th>0</th>\n",
       "      <td>RT @RobertAlai: 91-year-old Ex-Vice President ...</td>\n",
       "      <td>president moody awori land inter county commit...</td>\n",
       "      <td>negative</td>\n",
       "      <td>not so personal</td>\n",
       "      <td>18</td>\n",
       "    </tr>\n",
       "    <tr>\n",
       "      <th>1</th>\n",
       "      <td>RT @cnnphilippines: BREAKING: The Department o...</td>\n",
       "      <td>breaking department health report people caugh...</td>\n",
       "      <td>neutral</td>\n",
       "      <td>not so personal</td>\n",
       "      <td>24</td>\n",
       "    </tr>\n",
       "    <tr>\n",
       "      <th>2</th>\n",
       "      <td>RT @latestly: #SidharthShukla Helps Out Fan Wh...</td>\n",
       "      <td>sidharthshukla help fan requested help arrange...</td>\n",
       "      <td>highly positive</td>\n",
       "      <td>highly personal</td>\n",
       "      <td>29</td>\n",
       "    </tr>\n",
       "    <tr>\n",
       "      <th>3</th>\n",
       "      <td>Lending Club loan originations down 90% ... bu...</td>\n",
       "      <td>lending club loan origination hey bank</td>\n",
       "      <td>neutral</td>\n",
       "      <td>not so personal</td>\n",
       "      <td>19</td>\n",
       "    </tr>\n",
       "    <tr>\n",
       "      <th>4</th>\n",
       "      <td>RT @OpIndia_com: Curious case of ‘United Natio...</td>\n",
       "      <td>curious case united nation ngo appreciating ki...</td>\n",
       "      <td>highly positive</td>\n",
       "      <td>highly personal</td>\n",
       "      <td>27</td>\n",
       "    </tr>\n",
       "  </tbody>\n",
       "</table>\n",
       "</div>"
      ],
      "text/plain": [
       "                                       original_text  \\\n",
       "0  RT @RobertAlai: 91-year-old Ex-Vice President ...   \n",
       "1  RT @cnnphilippines: BREAKING: The Department o...   \n",
       "2  RT @latestly: #SidharthShukla Helps Out Fan Wh...   \n",
       "3  Lending Club loan originations down 90% ... bu...   \n",
       "4  RT @OpIndia_com: Curious case of ‘United Natio...   \n",
       "\n",
       "                                          clean_text        sentiment  \\\n",
       "0  president moody awori land inter county commit...         negative   \n",
       "1  breaking department health report people caugh...          neutral   \n",
       "2  sidharthshukla help fan requested help arrange...  highly positive   \n",
       "3             lending club loan origination hey bank          neutral   \n",
       "4  curious case united nation ngo appreciating ki...  highly positive   \n",
       "\n",
       "      subjectivity  sentance_len  \n",
       "0  not so personal            18  \n",
       "1  not so personal            24  \n",
       "2  highly personal            29  \n",
       "3  not so personal            19  \n",
       "4  highly personal            27  "
      ]
     },
     "execution_count": 23,
     "metadata": {},
     "output_type": "execute_result"
    }
   ],
   "source": [
    "df.head()"
   ]
  },
  {
   "cell_type": "code",
   "execution_count": 24,
   "id": "f7851a7d-2c02-41fd-a20c-312adaff9e50",
   "metadata": {},
   "outputs": [
    {
     "data": {
      "text/plain": [
       "original_text    0\n",
       "clean_text       0\n",
       "sentiment        0\n",
       "subjectivity     0\n",
       "sentance_len     0\n",
       "dtype: int64"
      ]
     },
     "execution_count": 24,
     "metadata": {},
     "output_type": "execute_result"
    }
   ],
   "source": [
    "df.isna().sum()"
   ]
  },
  {
   "cell_type": "code",
   "execution_count": 25,
   "id": "a724d8b6-f215-4b6d-ab3a-16efc219f721",
   "metadata": {},
   "outputs": [
    {
     "data": {
      "text/plain": [
       "neutral            144788\n",
       "positive           122685\n",
       "negative           101261\n",
       "highly negative     94540\n",
       "highly positive     90588\n",
       "Name: sentiment, dtype: int64"
      ]
     },
     "execution_count": 25,
     "metadata": {},
     "output_type": "execute_result"
    }
   ],
   "source": [
    "df.sentiment.value_counts()"
   ]
  },
  {
   "cell_type": "code",
   "execution_count": 26,
   "id": "77867d9b-c3b5-4d33-855b-752486c20cfa",
   "metadata": {},
   "outputs": [
    {
     "data": {
      "text/plain": [
       "not so personal    408311\n",
       "highly personal    145551\n",
       "Name: subjectivity, dtype: int64"
      ]
     },
     "execution_count": 26,
     "metadata": {},
     "output_type": "execute_result"
    }
   ],
   "source": [
    "df.subjectivity.value_counts()"
   ]
  },
  {
   "cell_type": "code",
   "execution_count": 27,
   "id": "3cb1c6a4-f661-488c-8112-2cfe27589c79",
   "metadata": {},
   "outputs": [
    {
     "data": {
      "text/plain": [
       "62"
      ]
     },
     "execution_count": 27,
     "metadata": {},
     "output_type": "execute_result"
    }
   ],
   "source": [
    "df.sentance_len.max()"
   ]
  },
  {
   "cell_type": "code",
   "execution_count": 28,
   "id": "8f78c15f-3e77-4bde-b43a-95facf16b323",
   "metadata": {},
   "outputs": [],
   "source": [
    "max_len = 180"
   ]
  },
  {
   "cell_type": "code",
   "execution_count": 29,
   "id": "2428f1e6-35c5-4665-9b58-bfad8903cc0c",
   "metadata": {},
   "outputs": [
    {
     "name": "stdout",
     "output_type": "stream",
     "text": [
      "Wall time: 5.18 s\n"
     ]
    },
    {
     "data": {
      "text/plain": [
       "84802"
      ]
     },
     "execution_count": 29,
     "metadata": {},
     "output_type": "execute_result"
    }
   ],
   "source": [
    "%%time\n",
    "x = df.clean_text\n",
    "token = Tokenizer(char_level=False, split=' ')\n",
    "token.fit_on_texts(x)\n",
    "vocab = token.index_word\n",
    "\n",
    "le_senti = LabelEncoder()\n",
    "le_sub = LabelEncoder()\n",
    "ysentiment = df.sentiment\n",
    "ysubjectivity = df.subjectivity\n",
    "le_senti.fit(ysentiment)\n",
    "le_sub.fit(ysubjectivity)\n",
    "\n",
    "def check_sentance(list_):\n",
    "    for i in list_:\n",
    "        print(vocab[i],end=' ')\n",
    "        \n",
    "len(vocab)"
   ]
  },
  {
   "cell_type": "code",
   "execution_count": 30,
   "id": "60d6e01d-950f-494a-9418-1215c7cfe399",
   "metadata": {},
   "outputs": [],
   "source": [
    "def train_test(df,min_,max_):\n",
    "    df = df.iloc[min_ : max_, :]\n",
    "    x = df.clean_text\n",
    "    ysentiment = df.sentiment\n",
    "    ysubjectivity = df.subjectivity\n",
    "    x = token.texts_to_sequences(x)\n",
    "    x = sequence.pad_sequences(x, maxlen=max_len)\n",
    "    ysentiment = le_senti.transform(ysentiment)\n",
    "    ysentiment = np_utils.to_categorical(ysentiment)\n",
    "    ysubjectivity = le_sub.transform(ysubjectivity)\n",
    "    ysubjectivity = np_utils.to_categorical(ysubjectivity)\n",
    "    xtrain, ytrain, xtest, ytest = train_test_split(x, ysentiment, test_size=.3, random_state=42,stratify=ysentiment)\n",
    "    tdsentiment = [xtrain, ytrain, xtest, ytest]\n",
    "    xtrain, ytrain, xtest, ytest = train_test_split(x, ysubjectivity, test_size=.3, random_state=42,stratify=ysubjectivity)\n",
    "    tdsubjectivity = [xtrain, ytrain, xtest, ytest]\n",
    "    return tdsentiment, tdsubjectivity"
   ]
  },
  {
   "cell_type": "code",
   "execution_count": 12,
   "id": "7398b109-f363-492f-8668-bbb8a1d6c482",
   "metadata": {},
   "outputs": [
    {
     "data": {
      "text/plain": [
       "(553862, 5)"
      ]
     },
     "execution_count": 12,
     "metadata": {},
     "output_type": "execute_result"
    }
   ],
   "source": [
    "df.shape"
   ]
  },
  {
   "cell_type": "code",
   "execution_count": 31,
   "id": "555695d4-b3e7-4beb-8674-07d47c21a3e6",
   "metadata": {},
   "outputs": [],
   "source": [
    "from time import time"
   ]
  },
  {
   "cell_type": "code",
   "execution_count": 32,
   "id": "de266b03-7418-4710-b16c-42f5495fb9f1",
   "metadata": {},
   "outputs": [
    {
     "name": "stdout",
     "output_type": "stream",
     "text": [
      "3.812931776046753\n"
     ]
    }
   ],
   "source": [
    "start = time()\n",
    "tdsentiment, tdsubjective = train_test(df,0,200000)\n",
    "end = time()\n",
    "print(end-start)"
   ]
  },
  {
   "cell_type": "code",
   "execution_count": 33,
   "id": "dd4834d8-dd52-4786-8e20-e33b0d6cbc01",
   "metadata": {},
   "outputs": [
    {
     "data": {
      "text/plain": [
       "5"
      ]
     },
     "execution_count": 33,
     "metadata": {},
     "output_type": "execute_result"
    }
   ],
   "source": [
    "len((df.sentiment.value_counts().index))"
   ]
  },
  {
   "cell_type": "code",
   "execution_count": 34,
   "id": "bfb357b7-b632-4e86-a210-a06f79898aff",
   "metadata": {},
   "outputs": [],
   "source": [
    "batch = 10000\n",
    "epoch = 5"
   ]
  },
  {
   "cell_type": "code",
   "execution_count": 42,
   "id": "db613021-7c72-4b78-8c76-61c2300e481d",
   "metadata": {},
   "outputs": [],
   "source": [
    "sentimentRNN = Sequential()\n",
    "sentimentRNN.add(Embedding(len(vocab)+1, 700, input_length=max_len, mask_zero=True))\n",
    "sentimentRNN.add(SimpleRNN(max_len, activation=\"tanh\"))\n",
    "# sentimentRNN.add(Embedding(len(vocab)+1, 700, input_length=max_len, mask_zero=True))\n",
    "# sentimentRNN.add(SimpleRNN(int(max_len/2), activation=\"tanh\"))\n",
    "# sentimentRNN.add(Embedding(len(vocab)+1, 700, input_length=max_len, mask_zero=True))\n",
    "# sentimentRNN.add(SimpleRNN(int(max_len/4), activation=\"tanh\"))\n",
    "\n",
    "sentimentRNN.add(Dense(max_len, activation=\"relu\"))\n",
    "sentimentRNN.add(Dense((max_len/2), activation=\"relu\"))\n",
    "sentimentRNN.add(Dropout(0.2))\n",
    "sentimentRNN.add(Dense(len(df.sentiment.value_counts()), activation=\"softmax\"))\n",
    "\n",
    "sentimentRNN.compile(optimizer=\"adam\", loss=\"categorical_crossentropy\",metrics='accuracy')\n",
    "#sparse_categorical_crossentropy"
   ]
  },
  {
   "cell_type": "code",
   "execution_count": 20,
   "id": "de0a5d2f-e68a-49ae-8b6b-f15135d91c07",
   "metadata": {},
   "outputs": [
    {
     "data": {
      "text/plain": [
       "(140000, 5)"
      ]
     },
     "execution_count": 20,
     "metadata": {},
     "output_type": "execute_result"
    }
   ],
   "source": [
    "ytrain.shape"
   ]
  },
  {
   "cell_type": "code",
   "execution_count": 40,
   "id": "6a0b18f0-5f71-4294-aa41-74939cbe5a72",
   "metadata": {},
   "outputs": [
    {
     "data": {
      "text/plain": [
       "(60000, 5)"
      ]
     },
     "execution_count": 40,
     "metadata": {},
     "output_type": "execute_result"
    }
   ],
   "source": [
    "ytest.shape"
   ]
  },
  {
   "cell_type": "code",
   "execution_count": 43,
   "id": "c7d2b4ab-0ed8-4b1b-a96a-fa5eb45d4ba8",
   "metadata": {},
   "outputs": [
    {
     "name": "stdout",
     "output_type": "stream",
     "text": [
      "Epoch 1/5\n",
      "14/14 [==============================] - 273s 19s/step - loss: 1.2924 - accuracy: 0.5056 - val_loss: 0.7872 - val_accuracy: 0.7179\n",
      "Epoch 2/5\n",
      "14/14 [==============================] - 260s 19s/step - loss: 0.4812 - accuracy: 0.8311 - val_loss: 0.3723 - val_accuracy: 0.8666\n",
      "Epoch 3/5\n",
      "14/14 [==============================] - 261s 19s/step - loss: 0.1540 - accuracy: 0.9515 - val_loss: 0.2688 - val_accuracy: 0.9099\n",
      "Epoch 4/5\n",
      "14/14 [==============================] - 276s 20s/step - loss: 0.0565 - accuracy: 0.9847 - val_loss: 0.2624 - val_accuracy: 0.9200\n",
      "Epoch 5/5\n",
      "14/14 [==============================] - 280s 20s/step - loss: 0.0254 - accuracy: 0.9943 - val_loss: 0.2778 - val_accuracy: 0.9220\n",
      "\n",
      "Test Accuracy :      \u001b[31m \u001b[103m \u001b[1m 92.20166666666667% \u001b[0m \n",
      "\n",
      "Confusion Matrix : \n",
      "[[ 9234     3   456    41    21]\n",
      " [    8  9579    23    28   587]\n",
      " [  564    45  9940   342   381]\n",
      " [   33    33   297 14943   385]\n",
      " [   31   704   373   324 11625]]\n",
      "\n",
      "Classification Report : \n",
      "              precision    recall  f1-score   support\n",
      "\n",
      "           0       0.94      0.95      0.94      9755\n",
      "           1       0.92      0.94      0.93     10225\n",
      "           2       0.90      0.88      0.89     11272\n",
      "           3       0.95      0.95      0.95     15691\n",
      "           4       0.89      0.89      0.89     13057\n",
      "\n",
      "    accuracy                           0.92     60000\n",
      "   macro avg       0.92      0.92      0.92     60000\n",
      "weighted avg       0.92      0.92      0.92     60000\n",
      "\n"
     ]
    }
   ],
   "source": [
    "xtrain, xtest, ytrain, ytest = tdsentiment\n",
    "sentimentRNN.fit(xtrain, ytrain, epochs=epoch, batch_size=batch, validation_data=[xtest,ytest])\n",
    "\n",
    "def model_accuracy(model,xtest,ytest):\n",
    "    ypred = model.predict(xtest)\n",
    "    length = len(ytest)\n",
    "    ylabel = np.argmax(ytest,axis=1)\n",
    "    yplabel = np.argmax(ypred,axis=1)\n",
    "    return mmf.classificationReport(ylabel,yplabel)\n",
    "\n",
    "model_accuracy(sentimentRNN,xtest,ytest)"
   ]
  },
  {
   "cell_type": "code",
   "execution_count": 44,
   "id": "e4a125ad-36a1-4318-b632-9f107f632aca",
   "metadata": {},
   "outputs": [],
   "source": [
    "subjectiveRNN = Sequential()\n",
    "subjectiveRNN.add(Embedding(len(vocab)+1, 700, input_length=max_len, mask_zero=True))\n",
    "subjectiveRNN.add(SimpleRNN(max_len, activation=\"tanh\"))\n",
    "# subjectiveRNN.add(Embedding(len(vocab)+1, 700, input_length=max_len, mask_zero=True))\n",
    "# subjectiveRNN.add(SimpleRNN(int(max_len/2), activation=\"tanh\"))\n",
    "# subjectiveRNN. add(Embedding(len(vocab)+1, 700, input_length=max_len, mask_zero=True))\n",
    "# subjectiveRNN.add(SimpleRNN(int(max_len/4), activation=\"tanh\"))\n",
    "\n",
    "subjectiveRNN.add(Dense(max_len, activation=\"relu\"))\n",
    "subjectiveRNN.add(Dense((max_len/2), activation=\"relu\"))\n",
    "subjectiveRNN.add(Dropout(0.2))\n",
    "subjectiveRNN.add(Dense(len(df.subjectivity.value_counts()), activation=\"softmax\"))\n",
    "\n",
    "subjectiveRNN.compile(optimizer=\"adam\", loss=\"categorical_crossentropy\",metrics='accuracy')"
   ]
  },
  {
   "cell_type": "code",
   "execution_count": 45,
   "id": "a6e8af68-96d0-423d-be07-187869cc758f",
   "metadata": {},
   "outputs": [
    {
     "name": "stdout",
     "output_type": "stream",
     "text": [
      "Epoch 1/5\n",
      "14/14 [==============================] - 269s 19s/step - loss: 0.4432 - accuracy: 0.7997 - val_loss: 0.2346 - val_accuracy: 0.9042\n",
      "Epoch 2/5\n",
      "14/14 [==============================] - 259s 19s/step - loss: 0.1070 - accuracy: 0.9626 - val_loss: 0.1126 - val_accuracy: 0.9639\n",
      "Epoch 3/5\n",
      "14/14 [==============================] - 262s 19s/step - loss: 0.0237 - accuracy: 0.9933 - val_loss: 0.1066 - val_accuracy: 0.9718\n",
      "Epoch 4/5\n",
      "14/14 [==============================] - 260s 19s/step - loss: 0.0063 - accuracy: 0.9984 - val_loss: 0.1289 - val_accuracy: 0.9723\n",
      "Epoch 5/5\n",
      "14/14 [==============================] - 251s 18s/step - loss: 0.0018 - accuracy: 0.9997 - val_loss: 0.1453 - val_accuracy: 0.9727\n",
      "\n",
      "Test Accuracy :      \u001b[31m \u001b[103m \u001b[1m 97.26833333333333% \u001b[0m \n",
      "\n",
      "Confusion Matrix : \n",
      "[[15553   979]\n",
      " [  660 42808]]\n",
      "\n",
      "Classification Report : \n",
      "              precision    recall  f1-score   support\n",
      "\n",
      "           0       0.96      0.94      0.95     16532\n",
      "           1       0.98      0.98      0.98     43468\n",
      "\n",
      "    accuracy                           0.97     60000\n",
      "   macro avg       0.97      0.96      0.97     60000\n",
      "weighted avg       0.97      0.97      0.97     60000\n",
      "\n"
     ]
    }
   ],
   "source": [
    "xtrain, xtest, ytrain, ytest = tdsubjective\n",
    "subjectiveRNN.fit(xtrain, ytrain, epochs=epoch, batch_size=batch, validation_data=[xtest,ytest])\n",
    "model_accuracy(subjectiveRNN,xtest,ytest)"
   ]
  },
  {
   "cell_type": "code",
   "execution_count": 53,
   "id": "dbedb780-3068-4b4a-9752-6c9bd683d8d3",
   "metadata": {},
   "outputs": [],
   "source": [
    "sentimentLSTM = Sequential()\n",
    "sentimentLSTM.add(Embedding(len(vocab)+1, 100, input_length=max_len, mask_zero=True))\n",
    "sentimentLSTM.add(LSTM(max_len))#, activation=\"tanh\"))\n",
    "# subjectiveRNN.add(Embedding(len(vocab)+1, 700, input_length=max_len, mask_zero=True))\n",
    "# subjectiveRNN.add(SimpleRNN(int(max_len/2), activation=\"tanh\"))\n",
    "# subjectiveRNN.add(Embedding(len(vocab)+1, 700, input_length=max_len, mask_zero=True))\n",
    "# subjectiveRNN.add(SimpleRNN(int(max_len/4), activation=\"tanh\"))\n",
    "\n",
    "sentimentLSTM.add(Dense(max_len, activation=\"relu\"))\n",
    "sentimentLSTM.add(Dense((max_len/2), activation=\"relu\"))\n",
    "sentimentLSTM.add(Dropout(0.2))\n",
    "sentimentLSTM.add(Dense(len(df.sentiment.value_counts().index), activation=\"softmax\"))\n",
    "\n",
    "sentimentLSTM.compile(optimizer=\"adam\", loss=\"categorical_crossentropy\",metrics='accuracy')"
   ]
  },
  {
   "cell_type": "code",
   "execution_count": 52,
   "id": "5d49f6d6-056b-4d60-83e3-baa6087d7b31",
   "metadata": {},
   "outputs": [
    {
     "data": {
      "text/plain": [
       "(140000, 5)"
      ]
     },
     "execution_count": 52,
     "metadata": {},
     "output_type": "execute_result"
    }
   ],
   "source": [
    "ytrain.shape"
   ]
  },
  {
   "cell_type": "code",
   "execution_count": 54,
   "id": "8b811805-02d2-4ef7-8d83-cc664903edce",
   "metadata": {},
   "outputs": [
    {
     "name": "stdout",
     "output_type": "stream",
     "text": [
      "Epoch 1/5\n",
      "14/14 [==============================] - 315s 22s/step - loss: 1.5832 - accuracy: 0.2739 - val_loss: 1.5101 - val_accuracy: 0.3066\n",
      "Epoch 2/5\n",
      "14/14 [==============================] - 298s 21s/step - loss: 1.3050 - accuracy: 0.5085 - val_loss: 0.9910 - val_accuracy: 0.6601\n",
      "Epoch 3/5\n",
      "14/14 [==============================] - 295s 21s/step - loss: 0.6754 - accuracy: 0.7720 - val_loss: 0.4908 - val_accuracy: 0.8317\n",
      "Epoch 4/5\n",
      "14/14 [==============================] - 297s 21s/step - loss: 0.3142 - accuracy: 0.8974 - val_loss: 0.3111 - val_accuracy: 0.8983\n",
      "Epoch 5/5\n",
      "14/14 [==============================] - 291s 21s/step - loss: 0.1653 - accuracy: 0.9500 - val_loss: 0.2412 - val_accuracy: 0.9267\n",
      "\n",
      "Test Accuracy :      \u001b[31m \u001b[103m \u001b[1m 92.66833333333334% \u001b[0m \n",
      "\n",
      "Confusion Matrix : \n",
      "[[ 9135     5   527    76    12]\n",
      " [   13  9494    32    25   661]\n",
      " [  456    56 10085   253   422]\n",
      " [   39    33   232 15040   347]\n",
      " [   20   597   430   163 11847]]\n",
      "\n",
      "Classification Report : \n",
      "              precision    recall  f1-score   support\n",
      "\n",
      "           0       0.95      0.94      0.94      9755\n",
      "           1       0.93      0.93      0.93     10225\n",
      "           2       0.89      0.89      0.89     11272\n",
      "           3       0.97      0.96      0.96     15691\n",
      "           4       0.89      0.91      0.90     13057\n",
      "\n",
      "    accuracy                           0.93     60000\n",
      "   macro avg       0.93      0.93      0.93     60000\n",
      "weighted avg       0.93      0.93      0.93     60000\n",
      "\n"
     ]
    }
   ],
   "source": [
    "xtrain, xtest, ytrain, ytest = tdsentiment\n",
    "sentimentLSTM.fit(xtrain, ytrain, epochs=epoch, batch_size=batch, validation_data=[xtest,ytest])\n",
    "model_accuracy(sentimentLSTM,xtest,ytest)"
   ]
  },
  {
   "cell_type": "code",
   "execution_count": null,
   "id": "c9a933db-a83b-40c0-ae4d-3c2561d9bf4d",
   "metadata": {},
   "outputs": [],
   "source": [
    "ytrain.shape"
   ]
  },
  {
   "cell_type": "code",
   "execution_count": 55,
   "id": "d40e9463-2210-4283-b4a0-850b6af2c6ca",
   "metadata": {},
   "outputs": [],
   "source": [
    "subjectiveLSTM = Sequential()\n",
    "subjectiveLSTM.add(Embedding(len(vocab)+1, 700, input_length=max_len, mask_zero=True))\n",
    "subjectiveLSTM.add(LSTM(max_len, activation=\"tanh\"))\n",
    "\n",
    "subjectiveLSTM.add(Dense(max_len, activation=\"relu\"))\n",
    "subjectiveLSTM.add(Dense((max_len/2), activation=\"relu\"))\n",
    "subjectiveLSTM.add(Dropout(0.2))\n",
    "subjectiveLSTM.add(Dense(len(df.subjectivity.value_counts()), activation=\"softmax\"))\n",
    "\n",
    "subjectiveLSTM.compile(optimizer=\"adam\", loss=\"categorical_crossentropy\",metrics='accuracy')"
   ]
  },
  {
   "cell_type": "code",
   "execution_count": 56,
   "id": "7e837bb5-3d99-451a-b898-13ea8ad76bf9",
   "metadata": {},
   "outputs": [
    {
     "name": "stdout",
     "output_type": "stream",
     "text": [
      "Epoch 1/5\n",
      "14/14 [==============================] - 903s 65s/step - loss: 0.5933 - accuracy: 0.7082 - val_loss: 0.4451 - val_accuracy: 0.7679\n",
      "Epoch 2/5\n",
      "14/14 [==============================] - 910s 66s/step - loss: 0.3059 - accuracy: 0.8736 - val_loss: 0.1821 - val_accuracy: 0.9275\n",
      "Epoch 3/5\n",
      "14/14 [==============================] - 972s 70s/step - loss: 0.0954 - accuracy: 0.9667 - val_loss: 0.1021 - val_accuracy: 0.9678\n",
      "Epoch 4/5\n",
      "14/14 [==============================] - 1021s 73s/step - loss: 0.0382 - accuracy: 0.9886 - val_loss: 0.0895 - val_accuracy: 0.9746\n",
      "Epoch 5/5\n",
      "14/14 [==============================] - 953s 69s/step - loss: 0.0191 - accuracy: 0.9946 - val_loss: 0.0953 - val_accuracy: 0.9769\n",
      "\n",
      "Test Accuracy :      \u001b[31m \u001b[103m \u001b[1m 97.69333333333333% \u001b[0m \n",
      "\n",
      "Confusion Matrix : \n",
      "[[15837   695]\n",
      " [  689 42779]]\n",
      "\n",
      "Classification Report : \n",
      "              precision    recall  f1-score   support\n",
      "\n",
      "           0       0.96      0.96      0.96     16532\n",
      "           1       0.98      0.98      0.98     43468\n",
      "\n",
      "    accuracy                           0.98     60000\n",
      "   macro avg       0.97      0.97      0.97     60000\n",
      "weighted avg       0.98      0.98      0.98     60000\n",
      "\n"
     ]
    }
   ],
   "source": [
    "xtrain, xtest, ytrain, ytest = tdsubjective\n",
    "subjectiveLSTM.fit(xtrain, ytrain, epochs=epoch, batch_size=batch, validation_data=[xtest,ytest])\n",
    "model_accuracy(subjectiveLSTM,xtest,ytest)"
   ]
  },
  {
   "cell_type": "markdown",
   "id": "74c2d83c-5ca0-42f4-b257-b683cc8d42d0",
   "metadata": {},
   "source": [
    "# "
   ]
  },
  {
   "cell_type": "code",
   "execution_count": 105,
   "id": "f6720fc5-d5f3-4f60-a794-8d9895b6f712",
   "metadata": {},
   "outputs": [
    {
     "name": "stdout",
     "output_type": "stream",
     "text": [
      "7.558870553970337\n"
     ]
    }
   ],
   "source": [
    "start = time()\n",
    "tdsentiment, tdsubjective = train_test(df,200000,-1)\n",
    "end = time()\n",
    "print(end-start)"
   ]
  },
  {
   "cell_type": "code",
   "execution_count": 33,
   "id": "70d200d2-cc6d-4370-82d5-1d8714c1fb08",
   "metadata": {},
   "outputs": [
    {
     "data": {
      "text/plain": [
       "5"
      ]
     },
     "execution_count": 33,
     "metadata": {},
     "output_type": "execute_result"
    }
   ],
   "source": [
    "len((df.sentiment.value_counts().index))"
   ]
  },
  {
   "cell_type": "code",
   "execution_count": 107,
   "id": "08954d96-d73a-4293-96b9-280b3c2b664d",
   "metadata": {},
   "outputs": [],
   "source": [
    "batch = 10000\n",
    "epoch = 5"
   ]
  },
  {
   "cell_type": "code",
   "execution_count": 108,
   "id": "7fe0a580-8e2c-482a-ac64-34b3536fce18",
   "metadata": {},
   "outputs": [
    {
     "name": "stdout",
     "output_type": "stream",
     "text": [
      "Epoch 1/3\n",
      "25/25 [==============================] - 514s 20s/step - loss: 0.4346 - accuracy: 0.8591 - val_loss: 0.2167 - val_accuracy: 0.9285\n",
      "Epoch 2/3\n",
      "25/25 [==============================] - 496s 20s/step - loss: 0.1291 - accuracy: 0.9632 - val_loss: 0.1612 - val_accuracy: 0.9497\n",
      "Epoch 3/3\n",
      "25/25 [==============================] - 494s 20s/step - loss: 0.0677 - accuracy: 0.9832 - val_loss: 0.1514 - val_accuracy: 0.9540\n",
      "\n",
      "Test Accuracy :      \u001b[31m \u001b[103m \u001b[1m 95.40217974924406% \u001b[0m \n",
      "\n",
      "Confusion Matrix : \n",
      "[[17883    14   687    14     9]\n",
      " [   17 16197    30     7   700]\n",
      " [  545    37 17754   216   554]\n",
      " [    5     2   369 27076   294]\n",
      " [   38   657   506   180 22368]]\n",
      "\n",
      "Classification Report : \n",
      "              precision    recall  f1-score   support\n",
      "\n",
      "           0       0.97      0.96      0.96     18607\n",
      "           1       0.96      0.96      0.96     16951\n",
      "           2       0.92      0.93      0.92     19106\n",
      "           3       0.98      0.98      0.98     27746\n",
      "           4       0.93      0.94      0.94     23749\n",
      "\n",
      "    accuracy                           0.95    106159\n",
      "   macro avg       0.95      0.95      0.95    106159\n",
      "weighted avg       0.95      0.95      0.95    106159\n",
      "\n"
     ]
    }
   ],
   "source": [
    "xtrain, xtest, ytrain, ytest = tdsentiment\n",
    "sentimentRNN.fit(xtrain, ytrain, epochs=epoch, batch_size=batch, validation_data=[xtest,ytest])\n",
    "model_accuracy(sentimentRNN,xtest,ytest)"
   ]
  },
  {
   "cell_type": "code",
   "execution_count": 109,
   "id": "e0a49dbf-602b-4e71-bd65-1950ba0b8b25",
   "metadata": {},
   "outputs": [
    {
     "name": "stdout",
     "output_type": "stream",
     "text": [
      "Epoch 1/3\n",
      "25/25 [==============================] - 510s 20s/step - loss: 0.1581 - accuracy: 0.9534 - val_loss: 0.0766 - val_accuracy: 0.9755\n",
      "Epoch 2/3\n",
      "25/25 [==============================] - 511s 20s/step - loss: 0.0375 - accuracy: 0.9882 - val_loss: 0.0598 - val_accuracy: 0.9818\n",
      "Epoch 3/3\n",
      "25/25 [==============================] - 511s 21s/step - loss: 0.0173 - accuracy: 0.9949 - val_loss: 0.0678 - val_accuracy: 0.9823\n",
      "\n",
      "Test Accuracy :      \u001b[31m \u001b[103m \u001b[1m 98.22907148710895% \u001b[0m \n",
      "\n",
      "Confusion Matrix : \n",
      "[[26184   949]\n",
      " [  931 78095]]\n",
      "\n",
      "Classification Report : \n",
      "              precision    recall  f1-score   support\n",
      "\n",
      "           0       0.97      0.97      0.97     27133\n",
      "           1       0.99      0.99      0.99     79026\n",
      "\n",
      "    accuracy                           0.98    106159\n",
      "   macro avg       0.98      0.98      0.98    106159\n",
      "weighted avg       0.98      0.98      0.98    106159\n",
      "\n"
     ]
    }
   ],
   "source": [
    "xtrain, xtest, ytrain, ytest = tdsubjective\n",
    "subjectiveRNN.fit(xtrain, ytrain, epochs=epoch, batch_size=batch, validation_data=[xtest,ytest])\n",
    "model_accuracy(subjectiveRNN,xtest,ytest)"
   ]
  },
  {
   "cell_type": "code",
   "execution_count": 110,
   "id": "c6fa1767-3b0c-4078-8e73-53aa6a2f49da",
   "metadata": {},
   "outputs": [
    {
     "name": "stdout",
     "output_type": "stream",
     "text": [
      "Epoch 1/3\n",
      "25/25 [==============================] - 704s 28s/step - loss: 0.3687 - accuracy: 0.8820 - val_loss: 0.2117 - val_accuracy: 0.9379\n",
      "Epoch 2/3\n",
      "25/25 [==============================] - 700s 28s/step - loss: 0.1471 - accuracy: 0.9611 - val_loss: 0.1627 - val_accuracy: 0.9548\n",
      "Epoch 3/3\n",
      "25/25 [==============================] - 683s 27s/step - loss: 0.0991 - accuracy: 0.9766 - val_loss: 0.1506 - val_accuracy: 0.9589\n",
      "\n",
      "Test Accuracy :      \u001b[31m \u001b[103m \u001b[1m 95.89389500654678% \u001b[0m \n",
      "\n",
      "Confusion Matrix : \n",
      "[[17923    14   624    23    23]\n",
      " [   15 16414    30     8   484]\n",
      " [  479    36 17811   153   627]\n",
      " [    5     0   244 27082   415]\n",
      " [   39   615   424   101 22570]]\n",
      "\n",
      "Classification Report : \n",
      "              precision    recall  f1-score   support\n",
      "\n",
      "           0       0.97      0.96      0.97     18607\n",
      "           1       0.96      0.97      0.96     16951\n",
      "           2       0.93      0.93      0.93     19106\n",
      "           3       0.99      0.98      0.98     27746\n",
      "           4       0.94      0.95      0.94     23749\n",
      "\n",
      "    accuracy                           0.96    106159\n",
      "   macro avg       0.96      0.96      0.96    106159\n",
      "weighted avg       0.96      0.96      0.96    106159\n",
      "\n"
     ]
    }
   ],
   "source": [
    "xtrain, xtest, ytrain, ytest = tdsentiment\n",
    "sentimentLSTM.fit(xtrain, ytrain, epochs=epoch, batch_size=batch, validation_data=[xtest,ytest])\n",
    "model_accuracy(sentimentLSTM,xtest,ytest)"
   ]
  },
  {
   "cell_type": "code",
   "execution_count": 111,
   "id": "7fd8a6db-5d14-40eb-812d-48fa0a340932",
   "metadata": {},
   "outputs": [
    {
     "name": "stdout",
     "output_type": "stream",
     "text": [
      "Epoch 1/3\n",
      "25/25 [==============================] - 2404s 96s/step - loss: 0.1248 - accuracy: 0.9614 - val_loss: 0.0719 - val_accuracy: 0.9771\n",
      "Epoch 2/3\n",
      "25/25 [==============================] - 2370s 95s/step - loss: 0.0368 - accuracy: 0.9888 - val_loss: 0.0550 - val_accuracy: 0.9839\n",
      "Epoch 3/3\n",
      "25/25 [==============================] - 2185s 87s/step - loss: 0.0167 - accuracy: 0.9953 - val_loss: 0.0569 - val_accuracy: 0.9850\n",
      "\n",
      "Test Accuracy :      \u001b[31m \u001b[103m \u001b[1m 98.50130464680338% \u001b[0m \n",
      "\n",
      "Confusion Matrix : \n",
      "[[26306   827]\n",
      " [  764 78262]]\n",
      "\n",
      "Classification Report : \n",
      "              precision    recall  f1-score   support\n",
      "\n",
      "           0       0.97      0.97      0.97     27133\n",
      "           1       0.99      0.99      0.99     79026\n",
      "\n",
      "    accuracy                           0.99    106159\n",
      "   macro avg       0.98      0.98      0.98    106159\n",
      "weighted avg       0.99      0.99      0.99    106159\n",
      "\n"
     ]
    }
   ],
   "source": [
    "xtrain, xtest, ytrain, ytest = tdsubjective\n",
    "subjectiveLSTM.fit(xtrain, ytrain, epochs=epoch, batch_size=batch, validation_data=[xtest,ytest])\n",
    "model_accuracy(subjectiveLSTM,xtest,ytest)"
   ]
  },
  {
   "cell_type": "code",
   "execution_count": 112,
   "id": "f6105b69-611b-451e-9d6b-b90d5a7f0836",
   "metadata": {},
   "outputs": [
    {
     "name": "stdout",
     "output_type": "stream",
     "text": [
      "INFO:tensorflow:Assets written to: ./app/model/sentimentRNN\\assets\n"
     ]
    },
    {
     "name": "stderr",
     "output_type": "stream",
     "text": [
      "INFO:tensorflow:Assets written to: ./app/model/sentimentRNN\\assets\n"
     ]
    },
    {
     "name": "stdout",
     "output_type": "stream",
     "text": [
      "INFO:tensorflow:Assets written to: ./app/model/subjectivityRNN\\assets\n"
     ]
    },
    {
     "name": "stderr",
     "output_type": "stream",
     "text": [
      "INFO:tensorflow:Assets written to: ./app/model/subjectivityRNN\\assets\n",
      "WARNING:absl:Found untraced functions such as lstm_cell_1_layer_call_fn, lstm_cell_1_layer_call_and_return_conditional_losses, lstm_cell_1_layer_call_fn, lstm_cell_1_layer_call_and_return_conditional_losses, lstm_cell_1_layer_call_and_return_conditional_losses while saving (showing 5 of 5). These functions will not be directly callable after loading.\n"
     ]
    },
    {
     "name": "stdout",
     "output_type": "stream",
     "text": [
      "INFO:tensorflow:Assets written to: ./app/model/sentimentLSTM\\assets\n"
     ]
    },
    {
     "name": "stderr",
     "output_type": "stream",
     "text": [
      "INFO:tensorflow:Assets written to: ./app/model/sentimentLSTM\\assets\n",
      "WARNING:absl:<keras.layers.recurrent.LSTMCell object at 0x000001B4C2CB48E0> has the same name 'LSTMCell' as a built-in Keras object. Consider renaming <class 'keras.layers.recurrent.LSTMCell'> to avoid naming conflicts when loading with `tf.keras.models.load_model`. If renaming is not possible, pass the object in the `custom_objects` parameter of the load function.\n",
      "WARNING:absl:Found untraced functions such as lstm_cell_2_layer_call_fn, lstm_cell_2_layer_call_and_return_conditional_losses, lstm_cell_2_layer_call_fn, lstm_cell_2_layer_call_and_return_conditional_losses, lstm_cell_2_layer_call_and_return_conditional_losses while saving (showing 5 of 5). These functions will not be directly callable after loading.\n"
     ]
    },
    {
     "name": "stdout",
     "output_type": "stream",
     "text": [
      "INFO:tensorflow:Assets written to: ./app/model/subjectivityLSTM\\assets\n"
     ]
    },
    {
     "name": "stderr",
     "output_type": "stream",
     "text": [
      "INFO:tensorflow:Assets written to: ./app/model/subjectivityLSTM\\assets\n",
      "WARNING:absl:<keras.layers.recurrent.LSTMCell object at 0x000001B4C40210A0> has the same name 'LSTMCell' as a built-in Keras object. Consider renaming <class 'keras.layers.recurrent.LSTMCell'> to avoid naming conflicts when loading with `tf.keras.models.load_model`. If renaming is not possible, pass the object in the `custom_objects` parameter of the load function.\n"
     ]
    }
   ],
   "source": [
    "sentimentRNN.save('./app/model/sentimentRNN')\n",
    "subjectiveRNN.save('./app/model/subjectivityRNN')\n",
    "sentimentLSTM.save('./app/model/sentimentLSTM')\n",
    "subjectiveLSTM.save('./app/model/subjectivityLSTM')"
   ]
  },
  {
   "cell_type": "code",
   "execution_count": 142,
   "id": "b7b43b9e-3777-4feb-a229-01e28a617fb9",
   "metadata": {},
   "outputs": [
    {
     "data": {
      "text/plain": [
       "['./app/label_encoder_subjective']"
      ]
     },
     "execution_count": 142,
     "metadata": {},
     "output_type": "execute_result"
    }
   ],
   "source": [
    "import joblib\n",
    "joblib.dump(token, './app/token')\n",
    "joblib.dump(le_senti, './app/label_encoder_sentiment')\n",
    "joblib.dump(le_sub, './app/label_encoder_subjective')"
   ]
  },
  {
   "cell_type": "markdown",
   "id": "e5c5a95c-e050-43e7-ad8b-966113473baa",
   "metadata": {},
   "source": [
    "# "
   ]
  },
  {
   "cell_type": "code",
   "execution_count": 114,
   "id": "485d547d-beb0-40ca-b1cc-54353e4ff7a0",
   "metadata": {},
   "outputs": [],
   "source": [
    "from keras.models import load_model\n",
    "model = load_model('./app/model/sentimentRNN/')"
   ]
  },
  {
   "cell_type": "code",
   "execution_count": 137,
   "id": "0f5793b0-4c36-4bed-a626-eda740dd985e",
   "metadata": {},
   "outputs": [],
   "source": [
    "def predict(txt,model=sentimentLSTM,encoder=le_senti):\n",
    "    txt = cleanText(txt)\n",
    "    txt = mmf.text_cleantext(txt)\n",
    "    txt = token.texts_to_sequences([txt])\n",
    "    txt = sequence.pad_sequences(txt, maxlen=max_len)\n",
    "    label = model.predict([txt])\n",
    "    label = encoder.inverse_transform([np.argmax(label,axis=1)])[0]\n",
    "    print(label)\n",
    "    return label"
   ]
  },
  {
   "cell_type": "code",
   "execution_count": 4,
   "id": "21ecbdd2-72a0-4c08-a488-973b5f44ac87",
   "metadata": {},
   "outputs": [],
   "source": [
    "from keras.models import load_model"
   ]
  },
  {
   "cell_type": "code",
   "execution_count": 1,
   "id": "d4578df7-5967-43ed-ad40-20fc79aa36f4",
   "metadata": {},
   "outputs": [],
   "source": [
    "import joblib"
   ]
  },
  {
   "cell_type": "code",
   "execution_count": 2,
   "id": "fd09970b-8966-43d8-834c-e403195f55b9",
   "metadata": {},
   "outputs": [],
   "source": [
    "token = joblib.load('./app/token')"
   ]
  },
  {
   "cell_type": "code",
   "execution_count": 13,
   "id": "d1d9a261-ab17-4dc5-9cf5-598d9165eeba",
   "metadata": {},
   "outputs": [],
   "source": [
    "sentiment = load_model('./app/model/sentimentLSTM/')\n",
    "le_senti = joblib.load('./app/label_encoder_sentiment')\n",
    "subjective = load_model('./app/model/subjectivityLSTM/')\n",
    "le_sub = joblib.load('./app/label_encoder_subjective')"
   ]
  },
  {
   "cell_type": "code",
   "execution_count": 22,
   "id": "aefbf4fb-5ce9-4f0a-90f6-93c15c597909",
   "metadata": {},
   "outputs": [],
   "source": [
    "text = [\n",
    "    'This is so fun i just dont want it to end',#joy\n",
    "    'can you please shut up',#anger\n",
    "    \"@Iluvmiasantos ugh babe.. hugggzzz for u .!  babe naamazed nga ako e babe e, despite nega's mas pinaramdam at fil ko ang \",#joy\n",
    "    'I have a feeling i will fail french #fuckfrench', #joy\n",
    "    'If you are robbed of during tribulation it is because u hav not entered into the means He has provided for Joy #prayer Communion w God', #joy\n",
    "    \"@wt2themax1 I'm sorry my blanket isn't comfortable enough for you, that kid isn't #hehasfeelingstoo so what if he eats his scabs...\", #disgust\n",
    "    'I gag in myself wenever i hear my parents say &quot;sexci&quot; =/ ', #disgust\n",
    "    \"I don't girls nowadays who talk to their friends like their talking to their husbands \", #disgust\n",
    "    'Haha of course I come home to a different house, leave it to my parents to redo the entire downstairs without warning ', #surprise\n",
    "    \"Getting ready for a baby shower at work. Here's hoping no one at work is following me on twitter hahaha Surprise!!\", #surprise\n",
    "    \"The awkward moment when you're on a date and you look down and realize your pants aren't zipped. \",#surprise\n",
    "    \n",
    "       ]"
   ]
  },
  {
   "cell_type": "code",
   "execution_count": 16,
   "id": "0040c51e-79d3-40f2-bd0e-c415ab234acb",
   "metadata": {},
   "outputs": [],
   "source": [
    "def predictSentimentIntensity(\n",
    "    text,\n",
    "    model,\n",
    "    encoder,\n",
    "    token=token,\n",
    "    max_len=180\n",
    "    ):\n",
    "    text = cleanText(text)\n",
    "    text = mmf.text_cleantext(text)\n",
    "    text = token.texts_to_sequences([text])\n",
    "    text = sequence.pad_sequences(text, maxlen=max_len)\n",
    "    label = model.predict([text])\n",
    "    probability = label\n",
    "    label = encoder.inverse_transform([np.argmax(label,axis=1)])[0]\n",
    "    return label, probability, encoder"
   ]
  }
 ],
 "metadata": {
  "kernelspec": {
   "display_name": "Python 3 (ipykernel)",
   "language": "python",
   "name": "python3"
  },
  "language_info": {
   "codemirror_mode": {
    "name": "ipython",
    "version": 3
   },
   "file_extension": ".py",
   "mimetype": "text/x-python",
   "name": "python",
   "nbconvert_exporter": "python",
   "pygments_lexer": "ipython3",
   "version": "3.9.2"
  }
 },
 "nbformat": 4,
 "nbformat_minor": 5
}
